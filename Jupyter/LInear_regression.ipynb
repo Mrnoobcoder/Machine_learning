{
 "cells": [
  {
   "cell_type": "code",
   "execution_count": 1,
   "id": "bd778e7c",
   "metadata": {},
   "outputs": [],
   "source": [
    "import pandas as pd\n",
    "import numpy as np"
   ]
  },
  {
   "cell_type": "code",
   "execution_count": 22,
   "id": "ce389a51",
   "metadata": {},
   "outputs": [],
   "source": [
    "data=np.loadtxt('dia.csv',delimiter=',',skiprows=1,dtype=str)\n",
    "x=data[1:1000,2]\n",
    "y=data[1:1000,7]\n",
    "x1=[eval(i) for i in x]\n",
    "y1=[eval(i) for i in y]\n",
    "x2=np.array(x1)\n",
    "y2=np.array(y1)\n",
    "x3=x2.reshape(-1,1)\n",
    "\n",
    "from sklearn import model_selection\n",
    "x_train,x_test,y_train,y_test=model_selection.train_test_split(x2,y2,test_size=0.3)"
   ]
  },
  {
   "cell_type": "code",
   "execution_count": 13,
   "id": "76fdbc8f",
   "metadata": {},
   "outputs": [],
   "source": [
    "def fit(x,y):\n",
    "    m = ((x * y).mean() - y.mean() * x.mean()) /( (x ** 2).mean() - x.mean() ** 2)\n",
    "    c=y.mean()-m*x.mean()\n",
    "    return m,c"
   ]
  },
  {
   "cell_type": "code",
   "execution_count": 6,
   "id": "7b4ee3f1",
   "metadata": {},
   "outputs": [],
   "source": [
    "def predict(x,m,c):\n",
    "    y_pred=m*x+c\n",
    "    return y_pred"
   ]
  },
  {
   "cell_type": "code",
   "execution_count": 24,
   "id": "bd86c0e1",
   "metadata": {},
   "outputs": [],
   "source": [
    "def CD(y_true,y_pred):\n",
    "    u=((y_true-y_pred)**2).sum()\n",
    "    v=((y_true-(y_true).mean())**2).sum()\n",
    "    return (1-(u/v))"
   ]
  },
  {
   "cell_type": "code",
   "execution_count": 19,
   "id": "9840e8d4",
   "metadata": {},
   "outputs": [],
   "source": [
    "def cost(x,y,m,c):\n",
    "    return ((y-(m*x+c))**2).sum()"
   ]
  },
  {
   "cell_type": "code",
   "execution_count": 25,
   "id": "1bc3380a",
   "metadata": {},
   "outputs": [
    {
     "name": "stdout",
     "output_type": "stream",
     "text": [
      "M C 0.044428871165809375 2.5992953712453346\n",
      "Test score: 0.10210547672065517\n",
      "Cost of testing data: 23105.295602070335\n",
      "Test score: 0.09121602478826196\n",
      "Cost of training data: 52864.390933001494\n"
     ]
    }
   ],
   "source": [
    "m,c=fit(x_train,y_train)\n",
    "print(\"M C\",m,c)\n",
    "#test data\n",
    "y_test_pred=predict(x_test,m,c)\n",
    "print(\"Test score:\",CD(y_test,y_test_pred))\n",
    "print(\"Cost of testing data:\",cost(x_test,y_test,m,c))\n",
    "#train data\n",
    "y_train_pred=predict(x_train,m,c)\n",
    "print(\"Test score:\",CD(y_train,y_train_pred))\n",
    "print(\"Cost of training data:\",cost(x_train,y_train,m,c))"
   ]
  },
  {
   "cell_type": "code",
   "execution_count": null,
   "id": "c73bd78b",
   "metadata": {},
   "outputs": [],
   "source": []
  }
 ],
 "metadata": {
  "kernelspec": {
   "display_name": "Python 3 (ipykernel)",
   "language": "python",
   "name": "python3"
  },
  "language_info": {
   "codemirror_mode": {
    "name": "ipython",
    "version": 3
   },
   "file_extension": ".py",
   "mimetype": "text/x-python",
   "name": "python",
   "nbconvert_exporter": "python",
   "pygments_lexer": "ipython3",
   "version": "3.11.4"
  }
 },
 "nbformat": 4,
 "nbformat_minor": 5
}
