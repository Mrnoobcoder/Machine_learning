{
 "cells": [
  {
   "cell_type": "code",
   "execution_count": null,
   "id": "637c463e",
   "metadata": {
    "scrolled": true
   },
   "outputs": [],
   "source": [
    "import torch\n",
    "import torch.nn as nn\n",
    "import torch.optim as optim\n",
    "from torch.optim import lr_scheduler\n",
    "from torchsummary import summary\n",
    "import numpy as np\n",
    "import torchvision\n",
    "from torchvision import datasets, models, transforms\n",
    "from torchvision.datasets import ImageFolder\n",
    "from tqdm import notebook\n",
    "from torch.utils.data import DataLoader, random_split\n",
    "from torchvision.utils import make_grid\n",
    "import matplotlib.pyplot as plt\n",
    "import time\n",
    "import os\n",
    "import copy\n",
    "import pandas as pd\n",
    "import matplotlib.pyplot as plt\n",
    "import seaborn as sns\n",
    "from sklearn.metrics import confusion_matrix, classification_report,precision_recall_curve"
   ]
  },
  {
   "cell_type": "code",
   "execution_count": null,
   "id": "04fcca6f",
   "metadata": {
    "scrolled": true
   },
   "outputs": [],
   "source": [
    "data_dir='G:\\Vinay_Canabis\\Lead_II'\n",
    "print(os.listdir(data_dir))"
   ]
  },
  {
   "cell_type": "code",
   "execution_count": null,
   "id": "351e6b77",
   "metadata": {
    "scrolled": true
   },
   "outputs": [],
   "source": [
    "device = torch.device(\"cuda:0\" if torch.cuda.is_available() else \"cpu\")\n",
    "print(device)"
   ]
  },
  {
   "cell_type": "code",
   "execution_count": null,
   "id": "c0da5b71",
   "metadata": {
    "scrolled": true
   },
   "outputs": [],
   "source": [
    "transform = transforms.Compose([\n",
    "                transforms.ToTensor(),\n",
    "                transforms.Resize(size=(224,224)),\n",
    "                transforms.Normalize((0.3433, 0.7419, 0.5770), (0.3453, 0.0661, 0.2652))\n",
    "                ])"
   ]
  },
  {
   "cell_type": "code",
   "execution_count": null,
   "id": "8fba5999",
   "metadata": {
    "scrolled": true
   },
   "outputs": [],
   "source": [
    "dataset=ImageFolder(data_dir,transform=transform)\n",
    "torch.manual_seed(42)\n",
    "train_ds, val_ds, test_ds = random_split(dataset, [0.8,0.15,0.05])\n",
    "len(train_ds),len(val_ds),len(test_ds)"
   ]
  },
  {
   "cell_type": "code",
   "execution_count": null,
   "id": "95bd5f74",
   "metadata": {
    "scrolled": true
   },
   "outputs": [],
   "source": [
    "trainloader =DataLoader(train_ds, batch_size=16, shuffle=True,num_workers=4)\n",
    "valloader = DataLoader(val_ds, batch_size=32, shuffle=True,num_workers=4)\n",
    "testloader = DataLoader(test_ds, batch_size=32, shuffle=False)"
   ]
  },
  {
   "cell_type": "code",
   "execution_count": null,
   "id": "7f297866",
   "metadata": {
    "scrolled": true
   },
   "outputs": [],
   "source": [
    "def evaluation(dataloader, model):\n",
    "    total, correct = 0, 0\n",
    "    model.eval()\n",
    "    for data in dataloader:\n",
    "        inputs, labels = data\n",
    "        inputs, labels = inputs.to(device), labels.to(device)\n",
    "        outputs = model(inputs)\n",
    "        _, pred = torch.max(outputs.data, 1)\n",
    "\n",
    "        total += labels.size(0)\n",
    "        correct += (pred == labels).sum().item()\n",
    "    return 100 * correct / total"
   ]
  },
  {
   "cell_type": "code",
   "execution_count": null,
   "id": "4a00b8bc",
   "metadata": {
    "scrolled": true
   },
   "outputs": [],
   "source": [
    "def train_func(model, loss_fn, opt, trainloader, valloader, scheduler , epochs):\n",
    "    loss_epoch_arr = []\n",
    "    train_accuracy_lis = []\n",
    "    val_accuracy_lis = []\n",
    "    val_loss_epoch_arr = []\n",
    "\n",
    "    max_epochs = epochs\n",
    "    min_loss = 1000\n",
    "    model.train()\n",
    "\n",
    "    for epoch in notebook.tqdm(range(max_epochs), total=max_epochs, unit=\"epochs\"):\n",
    "        model.train()\n",
    "        for i, data in enumerate(trainloader, 0):\n",
    "    \n",
    "            inputs, labels = data\n",
    "            inputs, labels = inputs.to(device), labels.to(device)\n",
    "            opt.zero_grad()\n",
    "            outputs = model(inputs)\n",
    "            loss = loss_fn(outputs, labels)\n",
    "            loss.backward()\n",
    "            opt.step()\n",
    "            scheduler.step()\n",
    "\n",
    "            if min_loss > loss.item():\n",
    "                min_loss = loss.item()\n",
    "                best_model = copy.deepcopy(model.state_dict())\n",
    "                print(\"Min loss %0.2f\" %min_loss)\n",
    "            del inputs, labels, outputs\n",
    "            if torch.cuda.is_available():\n",
    "                torch.cuda.empty_cache()\n",
    "            if i % 2000 == 0:\n",
    "                print('Iteration: %d, Loss: %0.2f' % (i, loss.item()))\n",
    "            \n",
    "       \n",
    "        loss_epoch_arr.append(loss.item())\n",
    "        train_accuracy = evaluation(trainloader, model)\n",
    "        val_accuracy = evaluation(valloader, model)\n",
    "        print('Epoch: %d/%d, Test acc: %0.2f, Train acc: %0.2f' % (\n",
    "              epoch, max_epochs, val_accuracy, train_accuracy))\n",
    "        train_accuracy_lis.append(train_accuracy)\n",
    "        val_accuracy_lis.append(val_accuracy)\n",
    "    \n",
    "        model.eval()\n",
    "        with torch.no_grad():\n",
    "            for i, data in enumerate(valloader, 0):\n",
    "                inputs, labels = data\n",
    "                inputs, labels = inputs.to(device), labels.to(device)\n",
    "                outputs = model(inputs)\n",
    "                loss = loss_fn(outputs, labels)\n",
    "\n",
    "        del inputs, labels, outputs\n",
    "        if torch.cuda.is_available():\n",
    "            torch.cuda.empty_cache()\n",
    "\n",
    "        val_loss_epoch_arr.append(loss.item())\n",
    "    return best_model, loss_epoch_arr, train_accuracy_lis, val_accuracy_lis, val_loss_epoch_arr"
   ]
  },
  {
   "cell_type": "code",
   "execution_count": null,
   "id": "5077dbcd",
   "metadata": {
    "scrolled": true
   },
   "outputs": [],
   "source": [
    "def generate_classification_report(model, dataloader, device, filepath):\n",
    "    model.eval()\n",
    "    all_preds = []\n",
    "    all_labels = []\n",
    "\n",
    "    with torch.no_grad():\n",
    "        for data in dataloader:\n",
    "            inputs, labels = data\n",
    "            inputs, labels = inputs.to(device), labels.to(device)\n",
    "            outputs = model(inputs)\n",
    "            _, preds = torch.max(outputs, 1)\n",
    "            all_preds.append(preds)\n",
    "            all_labels.append(labels)\n",
    "\n",
    "    all_preds = torch.cat(all_preds).cpu().numpy()\n",
    "    all_labels = torch.cat(all_labels).cpu().numpy()\n",
    "\n",
    "    report = classification_report(all_labels, all_preds, target_names=[str(i) for i in range(len(set(all_labels)))])\n",
    "\n",
    "    # Save the classification report to a text file\n",
    "    with open(filepath, 'w') as f:\n",
    "        f.write(report)\n",
    "    \n",
    "    print(f\"Classification report saved to '{filepath}'\")"
   ]
  },
  {
   "cell_type": "code",
   "execution_count": null,
   "id": "937d2223",
   "metadata": {
    "scrolled": true
   },
   "outputs": [],
   "source": [
    "def plot_evaluation_metrics(model, dataloader, device):\n",
    "    model.eval()\n",
    "    all_preds = []\n",
    "    all_labels = []\n",
    "\n",
    "    with torch.no_grad():\n",
    "        for data in dataloader:\n",
    "            inputs, labels = data\n",
    "            inputs, labels = inputs.to(device), labels.to(device)\n",
    "            outputs = model(inputs)\n",
    "            _, preds = torch.max(outputs, 1)\n",
    "            all_preds.append(preds)\n",
    "            all_labels.append(labels)\n",
    "\n",
    "    all_preds = torch.cat(all_preds).cpu().numpy()\n",
    "    all_labels = torch.cat(all_labels).cpu().numpy()\n",
    "    return all_preds, all_labels"
   ]
  },
  {
   "cell_type": "code",
   "execution_count": null,
   "id": "27aa4059",
   "metadata": {
    "scrolled": true
   },
   "outputs": [],
   "source": [
    "num_epochs = 50\n",
    "epochs = list(range(1, num_epochs + 1))"
   ]
  },
  {
   "cell_type": "markdown",
   "id": "f04eb3c0",
   "metadata": {},
   "source": [
    "## Resnet 50"
   ]
  },
  {
   "cell_type": "code",
   "execution_count": null,
   "id": "572807cf",
   "metadata": {
    "scrolled": true
   },
   "outputs": [],
   "source": [
    "resnet = models.resnet50(weights=True)"
   ]
  },
  {
   "cell_type": "code",
   "execution_count": null,
   "id": "7ab59738",
   "metadata": {
    "scrolled": true
   },
   "outputs": [],
   "source": [
    "for param in resnet.parameters():\n",
    "    param.requires_grad=True"
   ]
  },
  {
   "cell_type": "code",
   "execution_count": null,
   "id": "b89f93b2",
   "metadata": {
    "scrolled": true
   },
   "outputs": [],
   "source": [
    "num_features = resnet.fc.in_features\n",
    "new_classifier = nn.Sequential(\n",
    "    nn.Linear(num_features, 256), nn.ReLU(), nn.Dropout(0.2),\n",
    "    nn.Linear(256, 2))\n",
    "resnet.fc = new_classifier"
   ]
  },
  {
   "cell_type": "code",
   "execution_count": null,
   "id": "cd3c204a",
   "metadata": {
    "scrolled": false
   },
   "outputs": [],
   "source": [
    "resnet =resnet.to(device)\n",
    "loss_fn = nn.CrossEntropyLoss()\n",
    "opt = optim.Adam(resnet.parameters(), lr=0.0001)\n",
    "summary(resnet, (3, 224, 224))"
   ]
  },
  {
   "cell_type": "code",
   "execution_count": null,
   "id": "89634e20",
   "metadata": {
    "scrolled": true
   },
   "outputs": [],
   "source": [
    "steps_per_epoch = len(trainloader)\n",
    "\n",
    "# Set the maximum learning rate and the factor by which to increase it\n",
    "max_lr = 0.01\n",
    "lr_step_factor = 8\n",
    "\n",
    "# Define the learning rate scheduler with the OneCycleLR policy\n",
    "scheduler = lr_scheduler.OneCycleLR(opt, max_lr, total_steps=50* steps_per_epoch, pct_start=0.3, div_factor=lr_step_factor)\n"
   ]
  },
  {
   "cell_type": "code",
   "execution_count": null,
   "id": "e6479fba",
   "metadata": {
    "scrolled": true
   },
   "outputs": [],
   "source": [
    "best_model, loss_epoch_arr, train_accuracy_lis, val_accuracy_lis, val_loss_epoch_arr = train_func(resnet, loss_fn, opt, trainloader, valloader, scheduler , epochs=50\n",
    "                                                                            )      "
   ]
  },
  {
   "cell_type": "code",
   "execution_count": null,
   "id": "6c02b8ca",
   "metadata": {
    "scrolled": true
   },
   "outputs": [],
   "source": [
    "evaluation(testloader,resnet)"
   ]
  },
  {
   "cell_type": "code",
   "execution_count": null,
   "id": "94a84505",
   "metadata": {
    "scrolled": true
   },
   "outputs": [],
   "source": [
    "folder_name = 'Resnet_50_results'\n",
    "os.makedirs(folder_name, exist_ok=True)"
   ]
  },
  {
   "cell_type": "code",
   "execution_count": null,
   "id": "7b7832eb",
   "metadata": {
    "scrolled": true
   },
   "outputs": [],
   "source": [
    "data = {\n",
    "    'Loss': loss_epoch_arr,\n",
    "    'Train Accuracy': train_accuracy_lis,\n",
    "    'Validation Accuracy': val_accuracy_lis,\n",
    "    'Validation Loss': val_loss_epoch_arr\n",
    "}\n",
    "df = pd.DataFrame(data)\n",
    "\n",
    "# Save to CSV file\n",
    "df.to_csv('Resnet_50_results/resnet50_OneCLR_training_data.csv', index=False)"
   ]
  },
  {
   "cell_type": "code",
   "execution_count": null,
   "id": "8a68c91a",
   "metadata": {
    "scrolled": true
   },
   "outputs": [],
   "source": [
    "sns.set(style='darkgrid') \n",
    "plt.figure(figsize=(12, 6))\n",
    "sns.lineplot(x = epochs,y = train_accuracy_lis, label='Training accuracy', marker='o', color='green')\n",
    "sns.lineplot(x = epochs,y = val_accuracy_lis, label='Validation accuracy', marker='o', color='red')\n",
    "plt.title('Resnet_50 Training and Validation Accuracy')\n",
    "plt.xlabel('Epochs')\n",
    "plt.ylabel('Accuracy')\n",
    "plt.legend()\n",
    "plt.savefig(os.path.join(folder_name, 'Resnet50_accuracy_plot.png'))\n",
    "plt.show()"
   ]
  },
  {
   "cell_type": "code",
   "execution_count": null,
   "id": "d0547ae2",
   "metadata": {
    "scrolled": true
   },
   "outputs": [],
   "source": [
    "plt.figure(figsize=(12, 6))\n",
    "sns.lineplot(x = epochs,y = loss_epoch_arr, label='Training loss', marker='o', color='green')\n",
    "sns.lineplot(x = epochs, y = val_loss_epoch_arr, label='Validation loss', marker='o', color='red')\n",
    "plt.title('Resnet_50 Training and Validation Loss')\n",
    "plt.xlabel('Epochs')\n",
    "plt.ylabel('Loss')\n",
    "plt.legend()\n",
    "plt.savefig(os.path.join(folder_name, 'Resnet_50_loss_plot.png'))\n",
    "plt.show()"
   ]
  },
  {
   "cell_type": "code",
   "execution_count": null,
   "id": "cc066f2d",
   "metadata": {
    "scrolled": true
   },
   "outputs": [],
   "source": [
    "all_preds, all_labels = plot_evaluation_metrics(resnet,valloader,device)"
   ]
  },
  {
   "cell_type": "code",
   "execution_count": null,
   "id": "dbb3ae0c",
   "metadata": {
    "scrolled": true
   },
   "outputs": [],
   "source": [
    "cm = confusion_matrix(all_labels, all_preds)\n",
    "plt.figure(figsize=(10, 7))\n",
    "sns.heatmap(cm, annot=True, fmt='d',cmap = \"magma\")\n",
    "plt.title('Resnet_50 Val_Confusion_Matrix')\n",
    "plt.ylabel('True Label')\n",
    "plt.xlabel('Predicted Label')\n",
    "plt.savefig(os.path.join(folder_name, 'Resnet_50_Val_Confusion_Matrix.png'))\n",
    "plt.show()"
   ]
  },
  {
   "cell_type": "code",
   "execution_count": null,
   "id": "637003bf",
   "metadata": {
    "scrolled": true
   },
   "outputs": [],
   "source": [
    "generate_classification_report(resnet,testloader, device, 'Resnet_50_results/Val_report.txt')"
   ]
  },
  {
   "cell_type": "code",
   "execution_count": null,
   "id": "4c2ec6aa",
   "metadata": {
    "scrolled": true
   },
   "outputs": [],
   "source": [
    "all_preds, all_labels = plot_evaluation_metrics(resnet,testloader,device)"
   ]
  },
  {
   "cell_type": "code",
   "execution_count": null,
   "id": "1468897f",
   "metadata": {
    "scrolled": true
   },
   "outputs": [],
   "source": [
    "cm = confusion_matrix(all_labels, all_preds)\n",
    "plt.figure(figsize=(10, 7))\n",
    "sns.heatmap(cm, annot=True, fmt='d',cmap = \"magma\")\n",
    "plt.title('Resnet_50 Test_Confusion_Matrix')\n",
    "plt.ylabel('True Label')\n",
    "plt.xlabel('Predicted Label')\n",
    "plt.savefig(os.path.join(folder_name, 'Resnet_50_Test_Confusion_Matrix.png'))\n",
    "plt.show()"
   ]
  },
  {
   "cell_type": "code",
   "execution_count": null,
   "id": "39e2c8ad",
   "metadata": {
    "scrolled": true
   },
   "outputs": [],
   "source": [
    "generate_classification_report(resnet,testloader, device, 'Resnet_50_results/Test_report.txt')"
   ]
  },
  {
   "cell_type": "markdown",
   "id": "5df0164a",
   "metadata": {},
   "source": [
    "## Resnet_152"
   ]
  },
  {
   "cell_type": "code",
   "execution_count": null,
   "id": "d062423f",
   "metadata": {
    "scrolled": true
   },
   "outputs": [],
   "source": [
    "resnet_152 = models.resnet152(weights=True)"
   ]
  },
  {
   "cell_type": "code",
   "execution_count": null,
   "id": "a6ee526f",
   "metadata": {
    "scrolled": true
   },
   "outputs": [],
   "source": [
    "for param in resnet_152.parameters():\n",
    "    param.requires_grad=True"
   ]
  },
  {
   "cell_type": "code",
   "execution_count": null,
   "id": "0cc80fbe",
   "metadata": {
    "scrolled": true
   },
   "outputs": [],
   "source": [
    "num_features = resnet_152.fc.in_features\n",
    "new_classifier = nn.Sequential(\n",
    "    nn.Linear(num_features, 256), nn.ReLU(), nn.Dropout(0.2),\n",
    "    nn.Linear(256, 2))\n",
    "resnet_152.fc = new_classifier"
   ]
  },
  {
   "cell_type": "code",
   "execution_count": null,
   "id": "842fb97f",
   "metadata": {
    "scrolled": true
   },
   "outputs": [],
   "source": [
    "resnet_152 =resnet_152.to(device)\n",
    "loss_fn = nn.CrossEntropyLoss()\n",
    "opt = optim.Adam(resnet_152.parameters(), lr=0.0001)\n",
    "summary(resnet_152, (3, 224, 224))"
   ]
  },
  {
   "cell_type": "code",
   "execution_count": null,
   "id": "9d95178a",
   "metadata": {
    "scrolled": true
   },
   "outputs": [],
   "source": [
    "steps_per_epoch = len(trainloader)\n",
    "\n",
    "# Set the maximum learning rate and the factor by which to increase it\n",
    "max_lr = 0.01\n",
    "lr_step_factor = 8\n",
    "\n",
    "# Define the learning rate scheduler with the OneCycleLR policy\n",
    "scheduler = lr_scheduler.OneCycleLR(opt, max_lr, total_steps=50* steps_per_epoch, pct_start=0.3, div_factor=lr_step_factor)"
   ]
  },
  {
   "cell_type": "code",
   "execution_count": null,
   "id": "0613847a",
   "metadata": {
    "scrolled": true
   },
   "outputs": [],
   "source": [
    "best_model, loss_epoch_arr, train_accuracy_lis, val_accuracy_lis, val_loss_epoch_arr = train_func(resnet_152, loss_fn, opt, trainloader, valloader, scheduler , epochs=60\n",
    "                                                                            )      "
   ]
  },
  {
   "cell_type": "code",
   "execution_count": null,
   "id": "5950e4a3",
   "metadata": {
    "scrolled": true
   },
   "outputs": [],
   "source": [
    "evaluation(testloader,resnet_152)"
   ]
  },
  {
   "cell_type": "code",
   "execution_count": null,
   "id": "d06a3ba0",
   "metadata": {
    "scrolled": true
   },
   "outputs": [],
   "source": [
    "folder_name = 'Resnet_152_results'\n",
    "os.makedirs(folder_name, exist_ok=True)"
   ]
  },
  {
   "cell_type": "code",
   "execution_count": null,
   "id": "e9b1c6dc",
   "metadata": {
    "scrolled": true
   },
   "outputs": [],
   "source": [
    "data = {\n",
    "    'Loss': loss_epoch_arr,\n",
    "    'Train Accuracy': train_accuracy_lis,\n",
    "    'Validation Accuracy': val_accuracy_lis,\n",
    "    'Validation Loss': val_loss_epoch_arr\n",
    "}\n",
    "df = pd.DataFrame(data)\n",
    "\n",
    "# Save to CSV file\n",
    "df.to_csv('Resnet_152_results/resnet152_OneCLR_training_data.csv', index=False)"
   ]
  },
  {
   "cell_type": "code",
   "execution_count": null,
   "id": "7b84b56c",
   "metadata": {
    "scrolled": true
   },
   "outputs": [],
   "source": [
    "sns.set(style='darkgrid') \n",
    "plt.figure(figsize=(12, 6))\n",
    "sns.lineplot(x = epochs,y = train_accuracy_lis, label='Training accuracy', marker='o', color='green')\n",
    "sns.lineplot(x = epochs,y = val_accuracy_lis, label='Validation accuracy', marker='o', color='red')\n",
    "plt.title('Resnet_152 Training and Validation Accuracy')\n",
    "plt.xlabel('Epochs')\n",
    "plt.ylabel('Accuracy')\n",
    "plt.legend()\n",
    "plt.savefig(os.path.join(folder_name, 'Resnet_152_accuracy_plot.png'))\n",
    "plt.show()"
   ]
  },
  {
   "cell_type": "code",
   "execution_count": null,
   "id": "3eae2fd1",
   "metadata": {
    "scrolled": true
   },
   "outputs": [],
   "source": [
    "plt.figure(figsize=(12, 6))\n",
    "sns.lineplot(x = epochs,y = loss_epoch_arr, label='Training loss', marker='o', color='green')\n",
    "sns.lineplot(x = epochs, y = val_loss_epoch_arr, label='Validation loss', marker='o', color='red')\n",
    "plt.title('Resnet_152 Training and Validation Loss')\n",
    "plt.xlabel('Epochs')\n",
    "plt.ylabel('Loss')\n",
    "plt.legend()\n",
    "plt.savefig(os.path.join(folder_name, 'Resnet_152_loss_plot.png'))\n",
    "plt.show()"
   ]
  },
  {
   "cell_type": "code",
   "execution_count": null,
   "id": "e7cfec31",
   "metadata": {
    "scrolled": true
   },
   "outputs": [],
   "source": [
    "all_preds, all_labels = plot_evaluation_metrics(resnet_152,valloader,device)"
   ]
  },
  {
   "cell_type": "code",
   "execution_count": null,
   "id": "ab4496b8",
   "metadata": {
    "scrolled": true
   },
   "outputs": [],
   "source": [
    "cm = confusion_matrix(all_labels, all_preds)\n",
    "plt.figure(figsize=(10, 7))\n",
    "sns.heatmap(cm, annot=True, fmt='d',cmap = \"magma\")\n",
    "plt.title('Resnet_152 Val_Confusion_Matrix')\n",
    "plt.ylabel('True Label')\n",
    "plt.xlabel('Predicted Label')\n",
    "plt.savefig(os.path.join(folder_name, 'Resnet_152_Val_Confusion_Matrix.png'))\n",
    "plt.show()"
   ]
  },
  {
   "cell_type": "code",
   "execution_count": null,
   "id": "ea07b830",
   "metadata": {
    "scrolled": true
   },
   "outputs": [],
   "source": [
    "generate_classification_report(resnet_152,testloader, device, 'Resnet_152_results/Val_report.txt')"
   ]
  },
  {
   "cell_type": "code",
   "execution_count": null,
   "id": "c51979b4",
   "metadata": {
    "scrolled": true
   },
   "outputs": [],
   "source": [
    "all_preds, all_labels = plot_evaluation_metrics(resnet_152,testloader,device)"
   ]
  },
  {
   "cell_type": "code",
   "execution_count": null,
   "id": "cf87b47a",
   "metadata": {
    "scrolled": true
   },
   "outputs": [],
   "source": [
    "cm = confusion_matrix(all_labels, all_preds)\n",
    "plt.figure(figsize=(10, 7))\n",
    "sns.heatmap(cm, annot=True, fmt='d',cmap = \"magma\")\n",
    "plt.title('Resnet_152 Test_Confusion_Matrix')\n",
    "plt.ylabel('True Label')\n",
    "plt.xlabel('Predicted Label')\n",
    "plt.savefig(os.path.join(folder_name, 'Resnet_152_Test_Confusion_Matrix.png'))\n",
    "plt.show()"
   ]
  },
  {
   "cell_type": "code",
   "execution_count": null,
   "id": "7ed251be",
   "metadata": {
    "scrolled": true
   },
   "outputs": [],
   "source": [
    "generate_classification_report(resnet_152,testloader, device, 'Resnet_152_results/Test_report.txt')"
   ]
  },
  {
   "cell_type": "markdown",
   "id": "75315f49",
   "metadata": {},
   "source": [
    "## Resnet 18"
   ]
  },
  {
   "cell_type": "code",
   "execution_count": null,
   "id": "ea145fb4",
   "metadata": {
    "scrolled": true
   },
   "outputs": [],
   "source": [
    "resnet_18 = models.resnet18(weights=True)"
   ]
  },
  {
   "cell_type": "code",
   "execution_count": null,
   "id": "b1b34c15",
   "metadata": {
    "scrolled": true
   },
   "outputs": [],
   "source": [
    "for param in resnet_18.parameters():\n",
    "    param.requires_grad=True"
   ]
  },
  {
   "cell_type": "code",
   "execution_count": null,
   "id": "49325a37",
   "metadata": {
    "scrolled": true
   },
   "outputs": [],
   "source": [
    "num_features = resnet_18.fc.in_features\n",
    "new_classifier = nn.Sequential(\n",
    "    nn.Linear(num_features, 256), nn.ReLU(), nn.Dropout(0.2),\n",
    "    nn.Linear(256, 2))\n",
    "resnet_18.fc = new_classifier"
   ]
  },
  {
   "cell_type": "code",
   "execution_count": null,
   "id": "e7b8a91d",
   "metadata": {
    "scrolled": true
   },
   "outputs": [],
   "source": [
    "resnet_18 =resnet_18.to(device)\n",
    "loss_fn = nn.CrossEntropyLoss()\n",
    "opt = optim.Adam(resnet_18.parameters(), lr=0.0001)\n",
    "summary(resnet_18, (3, 224, 224))"
   ]
  },
  {
   "cell_type": "code",
   "execution_count": null,
   "id": "2dc48a8b",
   "metadata": {
    "scrolled": true
   },
   "outputs": [],
   "source": [
    "steps_per_epoch = len(trainloader)\n",
    "\n",
    "# Set the maximum learning rate and the factor by which to increase it\n",
    "max_lr = 0.01\n",
    "lr_step_factor = 8\n",
    "\n",
    "# Define the learning rate scheduler with the OneCycleLR policy\n",
    "scheduler = lr_scheduler.OneCycleLR(opt, max_lr, total_steps=50* steps_per_epoch, pct_start=0.3, div_factor=lr_step_factor)"
   ]
  },
  {
   "cell_type": "code",
   "execution_count": null,
   "id": "0ea936d1",
   "metadata": {
    "scrolled": true
   },
   "outputs": [],
   "source": [
    "best_model, loss_epoch_arr, train_accuracy_lis, val_accuracy_lis, val_loss_epoch_arr = train_func(resnet_18, loss_fn, opt, trainloader, valloader, scheduler , epochs=60\n",
    "                                                                            )      "
   ]
  },
  {
   "cell_type": "code",
   "execution_count": null,
   "id": "17e05d7b",
   "metadata": {
    "scrolled": true
   },
   "outputs": [],
   "source": [
    "evaluation(testloader,resnet_18)"
   ]
  },
  {
   "cell_type": "code",
   "execution_count": null,
   "id": "911c73a2",
   "metadata": {
    "scrolled": true
   },
   "outputs": [],
   "source": [
    "folder_name = 'Resnet_18_results'\n",
    "os.makedirs(folder_name, exist_ok=True)"
   ]
  },
  {
   "cell_type": "code",
   "execution_count": null,
   "id": "827052c7",
   "metadata": {
    "scrolled": true
   },
   "outputs": [],
   "source": [
    "data = {\n",
    "    'Loss': loss_epoch_arr,\n",
    "    'Train Accuracy': train_accuracy_lis,\n",
    "    'Validation Accuracy': val_accuracy_lis,\n",
    "    'Validation Loss': val_loss_epoch_arr\n",
    "}\n",
    "df = pd.DataFrame(data)\n",
    "\n",
    "# Save to CSV file\n",
    "df.to_csv('Resnet_18_results/resnet18_OneCLR_training_data.csv', index=False)"
   ]
  },
  {
   "cell_type": "code",
   "execution_count": null,
   "id": "77ae4ade",
   "metadata": {
    "scrolled": true
   },
   "outputs": [],
   "source": [
    "sns.set(style='darkgrid') \n",
    "plt.figure(figsize=(12, 6))\n",
    "sns.lineplot(x = epochs,y = train_accuracy_lis, label='Training accuracy', marker='o', color='green')\n",
    "sns.lineplot(x = epochs,y = val_accuracy_lis, label='Validation accuracy', marker='o', color='red')\n",
    "plt.title('Resnet_18 Training and Validation Accuracy')\n",
    "plt.xlabel('Epochs')\n",
    "plt.ylabel('Accuracy')\n",
    "plt.legend()\n",
    "plt.savefig(os.path.join(folder_name, 'Resnet_18_accuracy_plot.png'))\n",
    "plt.show()"
   ]
  },
  {
   "cell_type": "code",
   "execution_count": null,
   "id": "1906eb55",
   "metadata": {
    "scrolled": true
   },
   "outputs": [],
   "source": [
    "plt.figure(figsize=(12, 6))\n",
    "sns.lineplot(x = epochs,y = loss_epoch_arr, label='Training loss', marker='o', color='green')\n",
    "sns.lineplot(x = epochs, y = val_loss_epoch_arr, label='Validation loss', marker='o', color='red')\n",
    "plt.title('Resnet_18 Training and Validation Loss')\n",
    "plt.xlabel('Epochs')\n",
    "plt.ylabel('Loss')\n",
    "plt.legend()\n",
    "plt.savefig(os.path.join(folder_name, 'Resnet_18_loss_plot.png'))\n",
    "plt.show()"
   ]
  },
  {
   "cell_type": "code",
   "execution_count": null,
   "id": "0a089103",
   "metadata": {
    "scrolled": true
   },
   "outputs": [],
   "source": [
    "all_preds, all_labels = plot_evaluation_metrics(resnet_18,valloader,device)"
   ]
  },
  {
   "cell_type": "code",
   "execution_count": null,
   "id": "764a5a75",
   "metadata": {
    "scrolled": true
   },
   "outputs": [],
   "source": [
    "cm = confusion_matrix(all_labels, all_preds)\n",
    "plt.figure(figsize=(10, 7))\n",
    "sns.heatmap(cm, annot=True, fmt='d',cmap = \"magma\")\n",
    "plt.title('Resnet_18 Val_Confusion_Matrix')\n",
    "plt.ylabel('True Label')\n",
    "plt.xlabel('Predicted Label')\n",
    "plt.savefig(os.path.join(folder_name, 'Resnet_18_Val_Confusion_Matrix.png'))\n",
    "plt.show()"
   ]
  },
  {
   "cell_type": "code",
   "execution_count": null,
   "id": "f5536e15",
   "metadata": {
    "scrolled": true
   },
   "outputs": [],
   "source": [
    "generate_classification_report(resnet_18, testloader, device, 'Resnet_18_results/Val_report.txt')"
   ]
  },
  {
   "cell_type": "code",
   "execution_count": null,
   "id": "66b7d06b",
   "metadata": {
    "scrolled": true
   },
   "outputs": [],
   "source": [
    "all_preds, all_labels = plot_evaluation_metrics(resnet_18, testloader,device)"
   ]
  },
  {
   "cell_type": "code",
   "execution_count": null,
   "id": "de041ab3",
   "metadata": {
    "scrolled": true
   },
   "outputs": [],
   "source": [
    "cm = confusion_matrix(all_labels, all_preds)\n",
    "plt.figure(figsize=(10, 7))\n",
    "sns.heatmap(cm, annot=True, fmt='d',cmap = \"magma\")\n",
    "plt.title('Resnet_18 Test_Confusion_Matrix')\n",
    "plt.ylabel('True Label')\n",
    "plt.xlabel('Predicted Label')\n",
    "plt.savefig(os.path.join(folder_name, 'Resnet_18_Test_Confusion_Matrix.png'))\n",
    "plt.show()"
   ]
  },
  {
   "cell_type": "code",
   "execution_count": null,
   "id": "a26d10c2",
   "metadata": {
    "scrolled": true
   },
   "outputs": [],
   "source": [
    "generate_classification_report(resnet_18,testloader, device, 'Resnet_18_results/Test_report.txt')"
   ]
  },
  {
   "cell_type": "markdown",
   "id": "c609cde9",
   "metadata": {},
   "source": [
    "## Resnet 34"
   ]
  },
  {
   "cell_type": "code",
   "execution_count": null,
   "id": "b534297c",
   "metadata": {
    "scrolled": true
   },
   "outputs": [],
   "source": [
    "resnet_34 = models.resnet34(weights=True)"
   ]
  },
  {
   "cell_type": "code",
   "execution_count": null,
   "id": "e04c262f",
   "metadata": {
    "scrolled": true
   },
   "outputs": [],
   "source": [
    "for param in resnet_34.parameters():\n",
    "    param.requires_grad=True"
   ]
  },
  {
   "cell_type": "code",
   "execution_count": null,
   "id": "c99d671f",
   "metadata": {
    "scrolled": true
   },
   "outputs": [],
   "source": [
    "num_features = resnet_34.fc.in_features\n",
    "new_classifier = nn.Sequential(\n",
    "    nn.Linear(num_features, 256), nn.ReLU(), nn.Dropout(0.2),\n",
    "    nn.Linear(256, 2))\n",
    "resnet_34.fc = new_classifier"
   ]
  },
  {
   "cell_type": "code",
   "execution_count": null,
   "id": "3453189c",
   "metadata": {
    "scrolled": true
   },
   "outputs": [],
   "source": [
    "resnet_34 =resnet_34.to(device)\n",
    "loss_fn = nn.CrossEntropyLoss()\n",
    "opt = optim.Adam(resnet_34.parameters(), lr=0.0001)\n",
    "summary(resnet_34, (3, 224, 224))"
   ]
  },
  {
   "cell_type": "code",
   "execution_count": null,
   "id": "9a56674a",
   "metadata": {
    "scrolled": true
   },
   "outputs": [],
   "source": [
    "steps_per_epoch = len(trainloader)\n",
    "\n",
    "# Set the maximum learning rate and the factor by which to increase it\n",
    "max_lr = 0.01\n",
    "lr_step_factor = 8\n",
    "\n",
    "# Define the learning rate scheduler with the OneCycleLR policy\n",
    "scheduler = lr_scheduler.OneCycleLR(opt, max_lr, total_steps=50* steps_per_epoch, pct_start=0.3, div_factor=lr_step_factor)"
   ]
  },
  {
   "cell_type": "code",
   "execution_count": null,
   "id": "615e8daa",
   "metadata": {
    "scrolled": true
   },
   "outputs": [],
   "source": [
    "best_model, loss_epoch_arr, train_accuracy_lis, val_accuracy_lis, val_loss_epoch_arr = train_func(resnet_34, loss_fn, opt, trainloader, valloader, scheduler , epochs=60\n",
    "                                                                            )      "
   ]
  },
  {
   "cell_type": "code",
   "execution_count": null,
   "id": "773ea5eb",
   "metadata": {
    "scrolled": true
   },
   "outputs": [],
   "source": [
    "evaluation(testloader,resnet_34)"
   ]
  },
  {
   "cell_type": "code",
   "execution_count": null,
   "id": "5517ff10",
   "metadata": {
    "scrolled": true
   },
   "outputs": [],
   "source": [
    "folder_name = 'Resnet_34_results'\n",
    "os.makedirs(folder_name, exist_ok=True)"
   ]
  },
  {
   "cell_type": "code",
   "execution_count": null,
   "id": "efea3003",
   "metadata": {
    "scrolled": true
   },
   "outputs": [],
   "source": [
    "data = {\n",
    "    'Loss': loss_epoch_arr,\n",
    "    'Train Accuracy': train_accuracy_lis,\n",
    "    'Validation Accuracy': val_accuracy_lis,\n",
    "    'Validation Loss': val_loss_epoch_arr\n",
    "}\n",
    "df = pd.DataFrame(data)\n",
    "\n",
    "# Save to CSV file\n",
    "df.to_csv('Resnet_34_results/resnet34_OneCLR_training_data.csv', index=False)"
   ]
  },
  {
   "cell_type": "code",
   "execution_count": null,
   "id": "f7798ef4",
   "metadata": {
    "scrolled": true
   },
   "outputs": [],
   "source": [
    "sns.set(style='darkgrid') \n",
    "plt.figure(figsize=(12, 6))\n",
    "sns.lineplot(x = epochs,y = train_accuracy_lis, label='Training accuracy', marker='o', color='green')\n",
    "sns.lineplot(x = epochs,y = val_accuracy_lis, label='Validation accuracy', marker='o', color='red')\n",
    "plt.title('Resnet_34 Training and Validation Accuracy')\n",
    "plt.xlabel('Epochs')\n",
    "plt.ylabel('Accuracy')\n",
    "plt.legend()\n",
    "plt.savefig(os.path.join(folder_name, 'Resnet_34_accuracy_plot.png'))\n",
    "plt.show()"
   ]
  },
  {
   "cell_type": "code",
   "execution_count": null,
   "id": "2d4e9e8a",
   "metadata": {
    "scrolled": true
   },
   "outputs": [],
   "source": [
    "plt.figure(figsize=(12, 6))\n",
    "sns.lineplot(x = epochs,y = loss_epoch_arr, label='Training loss', marker='o', color='green')\n",
    "sns.lineplot(x = epochs, y = val_loss_epoch_arr, label='Validation loss', marker='o', color='red')\n",
    "plt.title('Resnet_34 Training and Validation Loss')\n",
    "plt.xlabel('Epochs')\n",
    "plt.ylabel('Loss')\n",
    "plt.legend()\n",
    "plt.savefig(os.path.join(folder_name, 'Resnet_34_loss_plot.png'))\n",
    "plt.show()"
   ]
  },
  {
   "cell_type": "code",
   "execution_count": null,
   "id": "08a65ed3",
   "metadata": {
    "scrolled": true
   },
   "outputs": [],
   "source": [
    "all_preds, all_labels = plot_evaluation_metrics(resnet_18,valloader,device)"
   ]
  },
  {
   "cell_type": "code",
   "execution_count": null,
   "id": "40b938f9",
   "metadata": {
    "scrolled": true
   },
   "outputs": [],
   "source": [
    "cm = confusion_matrix(all_labels, all_preds)\n",
    "plt.figure(figsize=(10, 7))\n",
    "sns.heatmap(cm, annot=True, fmt='d',cmap = \"magma\")\n",
    "plt.title('Resnet_34 Val_Confusion_Matrix')\n",
    "plt.ylabel('True Label')\n",
    "plt.xlabel('Predicted Label')\n",
    "plt.savefig(os.path.join(folder_name, 'Resnet_34_Val_Confusion_Matrix.png'))\n",
    "plt.show()"
   ]
  },
  {
   "cell_type": "code",
   "execution_count": null,
   "id": "d758f42f",
   "metadata": {
    "scrolled": true
   },
   "outputs": [],
   "source": [
    "generate_classification_report(resnet_34, testloader, device, 'Resnet_34_results/Val_report.txt')"
   ]
  },
  {
   "cell_type": "code",
   "execution_count": null,
   "id": "2ea460c1",
   "metadata": {
    "scrolled": true
   },
   "outputs": [],
   "source": [
    "all_preds, all_labels = plot_evaluation_metrics(resnet_34, testloader,device)"
   ]
  },
  {
   "cell_type": "code",
   "execution_count": null,
   "id": "a3c96f60",
   "metadata": {
    "scrolled": true
   },
   "outputs": [],
   "source": [
    "cm = confusion_matrix(all_labels, all_preds)\n",
    "plt.figure(figsize=(10, 7))\n",
    "sns.heatmap(cm, annot=True, fmt='d',cmap = \"magma\")\n",
    "plt.title('Resnet_34 Test_Confusion_Matrix')\n",
    "plt.ylabel('True Label')\n",
    "plt.xlabel('Predicted Label')\n",
    "plt.savefig(os.path.join(folder_name, 'Resnet_34_Test_Confusion_Matrix.png'))\n",
    "plt.show()"
   ]
  },
  {
   "cell_type": "code",
   "execution_count": null,
   "id": "db467eee",
   "metadata": {
    "scrolled": true
   },
   "outputs": [],
   "source": [
    "generate_classification_report(resnet_34,testloader, device, 'Resnet_34_results/Test_report.txt')"
   ]
  },
  {
   "cell_type": "markdown",
   "id": "85b0cebc",
   "metadata": {},
   "source": [
    "## Resnet 101"
   ]
  },
  {
   "cell_type": "code",
   "execution_count": null,
   "id": "88726b33",
   "metadata": {
    "scrolled": true
   },
   "outputs": [],
   "source": [
    "resnet_101 = models.resnet101(weights=True)"
   ]
  },
  {
   "cell_type": "code",
   "execution_count": null,
   "id": "2d6a4690",
   "metadata": {
    "scrolled": true
   },
   "outputs": [],
   "source": [
    "for param in resnet_101.parameters():\n",
    "    param.requires_grad=True"
   ]
  },
  {
   "cell_type": "code",
   "execution_count": null,
   "id": "11eb13c0",
   "metadata": {
    "scrolled": true
   },
   "outputs": [],
   "source": [
    "num_features = resnet_101.fc.in_features\n",
    "new_classifier = nn.Sequential(\n",
    "    nn.Linear(num_features, 256), nn.ReLU(), nn.Dropout(0.2),\n",
    "    nn.Linear(256, 2))\n",
    "resnet_101.fc = new_classifier"
   ]
  },
  {
   "cell_type": "code",
   "execution_count": null,
   "id": "d3365bfe",
   "metadata": {
    "scrolled": true
   },
   "outputs": [],
   "source": [
    "resnet_101 =resnet_101.to(device)\n",
    "loss_fn = nn.CrossEntropyLoss()\n",
    "opt = optim.Adam(resnet_101.parameters(), lr=0.0001)\n",
    "summary(resnet_101, (3, 224, 224))"
   ]
  },
  {
   "cell_type": "code",
   "execution_count": null,
   "id": "30792195",
   "metadata": {
    "scrolled": true
   },
   "outputs": [],
   "source": [
    "steps_per_epoch = len(trainloader)\n",
    "\n",
    "# Set the maximum learning rate and the factor by which to increase it\n",
    "max_lr = 0.01\n",
    "lr_step_factor = 8\n",
    "\n",
    "# Define the learning rate scheduler with the OneCycleLR policy\n",
    "scheduler = lr_scheduler.OneCycleLR(opt, max_lr, total_steps=50* steps_per_epoch, pct_start=0.3, div_factor=lr_step_factor)"
   ]
  },
  {
   "cell_type": "code",
   "execution_count": null,
   "id": "9d97cf63",
   "metadata": {
    "scrolled": true
   },
   "outputs": [],
   "source": [
    "best_model, loss_epoch_arr, train_accuracy_lis, val_accuracy_lis, val_loss_epoch_arr = train_func(resnet_101, loss_fn, opt, trainloader, valloader, scheduler , epochs=60\n",
    "                                                                            )      "
   ]
  },
  {
   "cell_type": "code",
   "execution_count": null,
   "id": "a19488a1",
   "metadata": {
    "scrolled": true
   },
   "outputs": [],
   "source": [
    "evaluation(testloader,resnet_101)"
   ]
  },
  {
   "cell_type": "code",
   "execution_count": null,
   "id": "47800aab",
   "metadata": {
    "scrolled": true
   },
   "outputs": [],
   "source": [
    "folder_name = 'Resnet_101_results'\n",
    "os.makedirs(folder_name, exist_ok=True)"
   ]
  },
  {
   "cell_type": "code",
   "execution_count": null,
   "id": "e1a9fb3a",
   "metadata": {
    "scrolled": true
   },
   "outputs": [],
   "source": [
    "data = {\n",
    "    'Loss': loss_epoch_arr,\n",
    "    'Train Accuracy': train_accuracy_lis,\n",
    "    'Validation Accuracy': val_accuracy_lis,\n",
    "    'Validation Loss': val_loss_epoch_arr\n",
    "}\n",
    "df = pd.DataFrame(data)\n",
    "\n",
    "# Save to CSV file\n",
    "df.to_csv('Resnet_101_results/resnet101_OneCLR_training_data.csv', index=False)"
   ]
  },
  {
   "cell_type": "code",
   "execution_count": null,
   "id": "89b443ab",
   "metadata": {
    "scrolled": true
   },
   "outputs": [],
   "source": [
    "sns.set(style='darkgrid') \n",
    "plt.figure(figsize=(12, 6))\n",
    "sns.lineplot(x = epochs,y = train_accuracy_lis, label='Training accuracy', marker='o', color='green')\n",
    "sns.lineplot(x = epochs,y = val_accuracy_lis, label='Validation accuracy', marker='o', color='red')\n",
    "plt.title('Resnet_101 Training and Validation Accuracy')\n",
    "plt.xlabel('Epochs')\n",
    "plt.ylabel('Accuracy')\n",
    "plt.legend()\n",
    "plt.savefig(os.path.join(folder_name, 'Resnet_101_accuracy_plot.png'))\n",
    "plt.show()"
   ]
  },
  {
   "cell_type": "code",
   "execution_count": null,
   "id": "d55689e8",
   "metadata": {
    "scrolled": true
   },
   "outputs": [],
   "source": [
    "plt.figure(figsize=(12, 6))\n",
    "sns.lineplot(x = epochs,y = loss_epoch_arr, label='Training loss', marker='o', color='green')\n",
    "sns.lineplot(x = epochs, y = val_loss_epoch_arr, label='Validation loss', marker='o', color='red')\n",
    "plt.title('Resnet_101 Training and Validation Loss')\n",
    "plt.xlabel('Epochs')\n",
    "plt.ylabel('Loss')\n",
    "plt.legend()\n",
    "plt.savefig(os.path.join(folder_name, 'Resnet_101_loss_plot.png'))\n",
    "plt.show()"
   ]
  },
  {
   "cell_type": "code",
   "execution_count": null,
   "id": "41d40f85",
   "metadata": {
    "scrolled": true
   },
   "outputs": [],
   "source": [
    "all_preds, all_labels = plot_evaluation_metrics(resnet_101,valloader,device)"
   ]
  },
  {
   "cell_type": "code",
   "execution_count": null,
   "id": "0fe24b3d",
   "metadata": {
    "scrolled": true
   },
   "outputs": [],
   "source": [
    "cm = confusion_matrix(all_labels, all_preds)\n",
    "plt.figure(figsize=(10, 7))\n",
    "sns.heatmap(cm, annot=True, fmt='d',cmap = \"magma\")\n",
    "plt.title('Resnet_101 Val_Confusion_Matrix')\n",
    "plt.ylabel('True Label')\n",
    "plt.xlabel('Predicted Label')\n",
    "plt.savefig(os.path.join(folder_name, 'Resnet_101_Val_Confusion_Matrix.png'))\n",
    "plt.show()"
   ]
  },
  {
   "cell_type": "code",
   "execution_count": null,
   "id": "0517ef20",
   "metadata": {
    "scrolled": true
   },
   "outputs": [],
   "source": [
    "generate_classification_report(resnet_101, testloader, device, 'Resnet_101_results/Val_report.txt')"
   ]
  },
  {
   "cell_type": "code",
   "execution_count": null,
   "id": "645b939a",
   "metadata": {
    "scrolled": true
   },
   "outputs": [],
   "source": [
    "all_preds, all_labels = plot_evaluation_metrics(resnet_101, testloader,device)"
   ]
  },
  {
   "cell_type": "code",
   "execution_count": null,
   "id": "784ae6cd",
   "metadata": {
    "scrolled": true
   },
   "outputs": [],
   "source": [
    "cm = confusion_matrix(all_labels, all_preds)\n",
    "plt.figure(figsize=(10, 7))\n",
    "sns.heatmap(cm, annot=True, fmt='d',cmap = \"magma\")\n",
    "plt.title('Resnet_101 Test_Confusion_Matrix')\n",
    "plt.ylabel('True Label')\n",
    "plt.xlabel('Predicted Label')\n",
    "plt.savefig(os.path.join(folder_name, 'Resnet_101_Test_Confusion_Matrix.png'))\n",
    "plt.show()"
   ]
  },
  {
   "cell_type": "code",
   "execution_count": null,
   "id": "e389efe8",
   "metadata": {
    "scrolled": true
   },
   "outputs": [],
   "source": [
    "generate_classification_report(resnet_101,testloader, device, 'Resnet_101_results/Test_report.txt')"
   ]
  },
  {
   "cell_type": "markdown",
   "id": "a56e8e9f",
   "metadata": {},
   "source": [
    "## VGG16"
   ]
  },
  {
   "cell_type": "code",
   "execution_count": null,
   "id": "7974f9dd",
   "metadata": {
    "scrolled": true
   },
   "outputs": [],
   "source": [
    "vgg16 = models.vgg16_bn(weights=True)"
   ]
  },
  {
   "cell_type": "code",
   "execution_count": null,
   "id": "c9010881",
   "metadata": {
    "scrolled": true
   },
   "outputs": [],
   "source": [
    "for param in vgg16.features.parameters():\n",
    "    param.requires_grad = True"
   ]
  },
  {
   "cell_type": "code",
   "execution_count": null,
   "id": "ecb57e14",
   "metadata": {
    "scrolled": true
   },
   "outputs": [],
   "source": [
    "num_features = vgg16.classifier[6].in_features\n",
    "vgg16.classifier[6] = nn.Linear(num_features, 2)"
   ]
  },
  {
   "cell_type": "code",
   "execution_count": null,
   "id": "c1ceadf2",
   "metadata": {
    "scrolled": true
   },
   "outputs": [],
   "source": [
    "vgg16 = vgg16.to(device)\n",
    "loss_fn = nn.CrossEntropyLoss()\n",
    "opt = optim.Adam(vgg16.parameters(), lr=0.0001)"
   ]
  },
  {
   "cell_type": "code",
   "execution_count": null,
   "id": "0114385e",
   "metadata": {
    "scrolled": true
   },
   "outputs": [],
   "source": [
    "steps_per_epoch = len(trainloader)\n",
    "\n",
    "# Set the maximum learning rate and the factor by which to increase it\n",
    "max_lr = 0.01\n",
    "lr_step_factor = 8\n",
    "\n",
    "# Define the learning rate scheduler with the OneCycleLR policy\n",
    "scheduler = lr_scheduler.OneCycleLR(opt, max_lr, total_steps=50* steps_per_epoch, pct_start=0.3, div_factor=lr_step_factor)"
   ]
  },
  {
   "cell_type": "code",
   "execution_count": null,
   "id": "d9be3e15",
   "metadata": {
    "scrolled": true
   },
   "outputs": [],
   "source": [
    "best_model, loss_epoch_arr, train_accuracy_lis, val_accuracy_lis, val_loss_epoch_arr = train_func(vgg16, loss_fn, opt, trainloader, valloader, scheduler , epochs=60\n",
    "                                                                            )      "
   ]
  },
  {
   "cell_type": "code",
   "execution_count": null,
   "id": "e96f8765",
   "metadata": {
    "scrolled": true
   },
   "outputs": [],
   "source": [
    "evaluation(testloader,vgg16)"
   ]
  },
  {
   "cell_type": "code",
   "execution_count": null,
   "id": "ed583520",
   "metadata": {
    "scrolled": true
   },
   "outputs": [],
   "source": [
    "folder_name = 'vgg_16_results'\n",
    "os.makedirs(folder_name, exist_ok=True)"
   ]
  },
  {
   "cell_type": "code",
   "execution_count": null,
   "id": "c3ac1f2b",
   "metadata": {
    "scrolled": true
   },
   "outputs": [],
   "source": [
    "data = {\n",
    "    'Loss': loss_epoch_arr,\n",
    "    'Train Accuracy': train_accuracy_lis,\n",
    "    'Validation Accuracy': val_accuracy_lis,\n",
    "    'Validation Loss': val_loss_epoch_arr\n",
    "}\n",
    "df = pd.DataFrame(data)\n",
    "\n",
    "# Save to CSV file\n",
    "df.to_csv('vgg_16_results/vgg16_OneCLR_training_data.csv', index=False)"
   ]
  },
  {
   "cell_type": "code",
   "execution_count": null,
   "id": "bb69df80",
   "metadata": {
    "scrolled": true
   },
   "outputs": [],
   "source": [
    "sns.set(style='darkgrid') \n",
    "plt.figure(figsize=(12, 6))\n",
    "sns.lineplot(x = epochs,y = train_accuracy_lis, label='Training accuracy', marker='o', color='green')\n",
    "sns.lineplot(x = epochs,y = val_accuracy_lis, label='Validation accuracy', marker='o', color='red')\n",
    "plt.title('vgg_16 Training and Validation Accuracy')\n",
    "plt.xlabel('Epochs')\n",
    "plt.ylabel('Accuracy')\n",
    "plt.legend()\n",
    "plt.savefig(os.path.join(folder_name, 'vgg_16_accuracy_plot.png'))\n",
    "plt.show()"
   ]
  },
  {
   "cell_type": "code",
   "execution_count": null,
   "id": "4bb33d05",
   "metadata": {
    "scrolled": true
   },
   "outputs": [],
   "source": [
    "plt.figure(figsize=(12, 6))\n",
    "sns.lineplot(x = epochs,y = loss_epoch_arr, label='Training loss', marker='o', color='green')\n",
    "sns.lineplot(x = epochs, y = val_loss_epoch_arr, label='Validation loss', marker='o', color='red')\n",
    "plt.title('vgg_16 Training and Validation Loss')\n",
    "plt.xlabel('Epochs')\n",
    "plt.ylabel('Loss')\n",
    "plt.legend()\n",
    "plt.savefig(os.path.join(folder_name, 'vgg_16_loss_plot.png'))\n",
    "plt.show()"
   ]
  },
  {
   "cell_type": "code",
   "execution_count": null,
   "id": "f2ae1892",
   "metadata": {
    "scrolled": true
   },
   "outputs": [],
   "source": [
    "all_preds, all_labels = plot_evaluation_metrics(vgg16,valloader,device)"
   ]
  },
  {
   "cell_type": "code",
   "execution_count": null,
   "id": "33ebd575",
   "metadata": {
    "scrolled": true
   },
   "outputs": [],
   "source": [
    "cm = confusion_matrix(all_labels, all_preds)\n",
    "plt.figure(figsize=(10, 7))\n",
    "sns.heatmap(cm, annot=True, fmt='d',cmap = \"magma\")\n",
    "plt.title('vgg_16 Val_Confusion_Matrix')\n",
    "plt.ylabel('True Label')\n",
    "plt.xlabel('Predicted Label')\n",
    "plt.savefig(os.path.join(folder_name, 'vgg_16_Val_Confusion_Matrix.png'))\n",
    "plt.show()"
   ]
  },
  {
   "cell_type": "code",
   "execution_count": null,
   "id": "99bdd8d6",
   "metadata": {
    "scrolled": true
   },
   "outputs": [],
   "source": [
    "generate_classification_report(vgg16, testloader, device, 'vgg_16_results/Val_report.txt')"
   ]
  },
  {
   "cell_type": "code",
   "execution_count": null,
   "id": "ad075d0e",
   "metadata": {
    "scrolled": true
   },
   "outputs": [],
   "source": [
    "all_preds, all_labels = plot_evaluation_metrics(vgg16, testloader,device)"
   ]
  },
  {
   "cell_type": "code",
   "execution_count": null,
   "id": "fba38290",
   "metadata": {
    "scrolled": true
   },
   "outputs": [],
   "source": [
    "cm = confusion_matrix(all_labels, all_preds)\n",
    "plt.figure(figsize=(10, 7))\n",
    "sns.heatmap(cm, annot=True, fmt='d',cmap = \"magma\")\n",
    "plt.title('vgg_16 Test_Confusion_Matrix')\n",
    "plt.ylabel('True Label')\n",
    "plt.xlabel('Predicted Label')\n",
    "plt.savefig(os.path.join(folder_name, 'vgg_16_Test_Confusion_Matrix.png'))\n",
    "plt.show()"
   ]
  },
  {
   "cell_type": "code",
   "execution_count": null,
   "id": "958a1086",
   "metadata": {
    "scrolled": true
   },
   "outputs": [],
   "source": [
    "generate_classification_report(vgg_16,testloader, device, 'vgg_16_results/Test_report.txt')"
   ]
  },
  {
   "cell_type": "markdown",
   "id": "f5afd538",
   "metadata": {},
   "source": [
    "## VGG19"
   ]
  },
  {
   "cell_type": "code",
   "execution_count": null,
   "id": "c0ed3088",
   "metadata": {
    "scrolled": true
   },
   "outputs": [],
   "source": [
    "vgg19= models.vgg19_bn(weights=True)"
   ]
  },
  {
   "cell_type": "code",
   "execution_count": null,
   "id": "21775275",
   "metadata": {
    "scrolled": true
   },
   "outputs": [],
   "source": [
    "for param in vgg19.features.parameters():\n",
    "    param.requires_grad = True"
   ]
  },
  {
   "cell_type": "code",
   "execution_count": null,
   "id": "da5238d1",
   "metadata": {
    "scrolled": true
   },
   "outputs": [],
   "source": [
    "num_features = vgg19.classifier[6].in_features\n",
    "vgg19.classifier[6] = nn.Linear(num_features, 2)"
   ]
  },
  {
   "cell_type": "code",
   "execution_count": null,
   "id": "18a050a4",
   "metadata": {
    "scrolled": true
   },
   "outputs": [],
   "source": [
    "vgg19 = vgg19.to(device)\n",
    "loss_fn = nn.CrossEntropyLoss()\n",
    "opt = optim.Adam(vgg19.parameters(), lr=0.0001)"
   ]
  },
  {
   "cell_type": "code",
   "execution_count": null,
   "id": "f17e8107",
   "metadata": {
    "scrolled": true
   },
   "outputs": [],
   "source": [
    "steps_per_epoch = len(trainloader)\n",
    "\n",
    "# Set the maximum learning rate and the factor by which to increase it\n",
    "max_lr = 0.01\n",
    "lr_step_factor = 8\n",
    "\n",
    "# Define the learning rate scheduler with the OneCycleLR policy\n",
    "scheduler = lr_scheduler.OneCycleLR(opt, max_lr, total_steps=50* steps_per_epoch, pct_start=0.3, div_factor=lr_step_factor)"
   ]
  },
  {
   "cell_type": "code",
   "execution_count": null,
   "id": "47ad591c",
   "metadata": {
    "scrolled": true
   },
   "outputs": [],
   "source": [
    "best_model, loss_epoch_arr, train_accuracy_lis, val_accuracy_lis, val_loss_epoch_arr = train_func(vgg19, loss_fn, opt, trainloader, valloader, scheduler , epochs=60\n",
    "                                                                            )      "
   ]
  },
  {
   "cell_type": "code",
   "execution_count": null,
   "id": "52567d83",
   "metadata": {
    "scrolled": true
   },
   "outputs": [],
   "source": [
    "evaluation(testloader,vgg19)"
   ]
  },
  {
   "cell_type": "code",
   "execution_count": null,
   "id": "70980bde",
   "metadata": {
    "scrolled": true
   },
   "outputs": [],
   "source": [
    "folder_name = 'vgg_19_results'\n",
    "os.makedirs(folder_name, exist_ok=True)"
   ]
  },
  {
   "cell_type": "code",
   "execution_count": null,
   "id": "6930b47b",
   "metadata": {
    "scrolled": true
   },
   "outputs": [],
   "source": [
    "data = {\n",
    "    'Loss': loss_epoch_arr,\n",
    "    'Train Accuracy': train_accuracy_lis,\n",
    "    'Validation Accuracy': val_accuracy_lis,\n",
    "    'Validation Loss': val_loss_epoch_arr\n",
    "}\n",
    "df = pd.DataFrame(data)\n",
    "\n",
    "# Save to CSV file\n",
    "df.to_csv('vgg_19_results/vgg19_OneCLR_training_data.csv', index=False)"
   ]
  },
  {
   "cell_type": "code",
   "execution_count": null,
   "id": "49ee3cb4",
   "metadata": {
    "scrolled": true
   },
   "outputs": [],
   "source": [
    "sns.set(style='darkgrid') \n",
    "plt.figure(figsize=(12, 6))\n",
    "sns.lineplot(x = epochs,y = train_accuracy_lis, label='Training accuracy', marker='o', color='green')\n",
    "sns.lineplot(x = epochs,y = val_accuracy_lis, label='Validation accuracy', marker='o', color='red')\n",
    "plt.title('vgg_19 Training and Validation Accuracy')\n",
    "plt.xlabel('Epochs')\n",
    "plt.ylabel('Accuracy')\n",
    "plt.legend()\n",
    "plt.savefig(os.path.join(folder_name, 'vgg_19_accuracy_plot.png'))\n",
    "plt.show()"
   ]
  },
  {
   "cell_type": "code",
   "execution_count": null,
   "id": "eda72bf8",
   "metadata": {
    "scrolled": true
   },
   "outputs": [],
   "source": [
    "plt.figure(figsize=(12, 6))\n",
    "sns.lineplot(x = epochs,y = loss_epoch_arr, label='Training loss', marker='o', color='green')\n",
    "sns.lineplot(x = epochs, y = val_loss_epoch_arr, label='Validation loss', marker='o', color='red')\n",
    "plt.title('vgg_19 Training and Validation Loss')\n",
    "plt.xlabel('Epochs')\n",
    "plt.ylabel('Loss')\n",
    "plt.legend()\n",
    "plt.savefig(os.path.join(folder_name, 'vgg_19_loss_plot.png'))\n",
    "plt.show()"
   ]
  },
  {
   "cell_type": "code",
   "execution_count": null,
   "id": "3205d547",
   "metadata": {
    "scrolled": true
   },
   "outputs": [],
   "source": [
    "all_preds, all_labels = plot_evaluation_metrics(vgg19,valloader,device)"
   ]
  },
  {
   "cell_type": "code",
   "execution_count": null,
   "id": "602fdf24",
   "metadata": {
    "scrolled": true
   },
   "outputs": [],
   "source": [
    "cm = confusion_matrix(all_labels, all_preds)\n",
    "plt.figure(figsize=(10, 7))\n",
    "sns.heatmap(cm, annot=True, fmt='d',cmap = \"magma\")\n",
    "plt.title('vgg_19 Val_Confusion_Matrix')\n",
    "plt.ylabel('True Label')\n",
    "plt.xlabel('Predicted Label')\n",
    "plt.savefig(os.path.join(folder_name, 'vgg_19_Val_Confusion_Matrix.png'))\n",
    "plt.show()"
   ]
  },
  {
   "cell_type": "code",
   "execution_count": null,
   "id": "ded2a14c",
   "metadata": {
    "scrolled": true
   },
   "outputs": [],
   "source": [
    "generate_classification_report(vgg19, testloader, device, 'vgg_19_results/Val_report.txt')"
   ]
  },
  {
   "cell_type": "code",
   "execution_count": null,
   "id": "558a2b48",
   "metadata": {
    "scrolled": true
   },
   "outputs": [],
   "source": [
    "all_preds, all_labels = plot_evaluation_metrics(vgg19, testloader,device)"
   ]
  },
  {
   "cell_type": "code",
   "execution_count": null,
   "id": "92659296",
   "metadata": {
    "scrolled": true
   },
   "outputs": [],
   "source": [
    "cm = confusion_matrix(all_labels, all_preds)\n",
    "plt.figure(figsize=(10, 7))\n",
    "sns.heatmap(cm, annot=True, fmt='d',cmap = \"magma\")\n",
    "plt.title('vgg_19 Test_Confusion_Matrix')\n",
    "plt.ylabel('True Label')\n",
    "plt.xlabel('Predicted Label')\n",
    "plt.savefig(os.path.join(folder_name, 'vgg_19_Test_Confusion_Matrix.png'))\n",
    "plt.show()"
   ]
  },
  {
   "cell_type": "code",
   "execution_count": null,
   "id": "fb135a02",
   "metadata": {
    "scrolled": true
   },
   "outputs": [],
   "source": [
    "generate_classification_report(vgg_19,testloader, device, 'vgg_19_results/Test_report.txt')"
   ]
  },
  {
   "cell_type": "markdown",
   "id": "b55b55b0",
   "metadata": {},
   "source": [
    "## Densenet121"
   ]
  },
  {
   "cell_type": "code",
   "execution_count": null,
   "id": "fc02e083",
   "metadata": {
    "scrolled": true
   },
   "outputs": [],
   "source": [
    "densenet121 = models.densenet121(pretrained=True)"
   ]
  },
  {
   "cell_type": "code",
   "execution_count": null,
   "id": "d54480f7",
   "metadata": {
    "scrolled": true
   },
   "outputs": [],
   "source": [
    "for param in densenet121.features.parameters():\n",
    "    param.requires_grad = True\n"
   ]
  },
  {
   "cell_type": "code",
   "execution_count": null,
   "id": "20063da0",
   "metadata": {
    "scrolled": true
   },
   "outputs": [],
   "source": [
    "num_features = densenet121.classifier.in_features\n",
    "densenet121.classifier = nn.Linear(num_features, 2)"
   ]
  },
  {
   "cell_type": "code",
   "execution_count": null,
   "id": "cc19bdbd",
   "metadata": {
    "scrolled": true
   },
   "outputs": [],
   "source": [
    "densenet121 = densenet121.to(device)\n",
    "loss_fn = nn.CrossEntropyLoss()\n",
    "opt = optim.Adam(densenet121.parameters(), lr=0.0001)"
   ]
  },
  {
   "cell_type": "code",
   "execution_count": null,
   "id": "349161e5",
   "metadata": {
    "scrolled": true
   },
   "outputs": [],
   "source": [
    "steps_per_epoch = len(trainloader)\n",
    "\n",
    "# Set the maximum learning rate and the factor by which to increase it\n",
    "max_lr = 0.01\n",
    "lr_step_factor = 8\n",
    "\n",
    "# Define the learning rate scheduler with the OneCycleLR policy\n",
    "scheduler = lr_scheduler.OneCycleLR(opt, max_lr, total_steps=50* steps_per_epoch, pct_start=0.3, div_factor=lr_step_factor)"
   ]
  },
  {
   "cell_type": "code",
   "execution_count": null,
   "id": "c6eea9b0",
   "metadata": {
    "scrolled": true
   },
   "outputs": [],
   "source": [
    "best_model, loss_epoch_arr, train_accuracy_lis, val_accuracy_lis, val_loss_epoch_arr = train_func(densenet121, loss_fn, opt, trainloader, valloader, scheduler , epochs=60\n",
    "                                                                            )      "
   ]
  },
  {
   "cell_type": "code",
   "execution_count": null,
   "id": "2a186403",
   "metadata": {
    "scrolled": true
   },
   "outputs": [],
   "source": [
    "evaluation(testloader,densenet121)"
   ]
  },
  {
   "cell_type": "code",
   "execution_count": null,
   "id": "b4eb5cac",
   "metadata": {
    "scrolled": true
   },
   "outputs": [],
   "source": [
    "folder_name = 'densenet_121_results'\n",
    "os.makedirs(folder_name, exist_ok=True)"
   ]
  },
  {
   "cell_type": "code",
   "execution_count": null,
   "id": "a34b11a3",
   "metadata": {
    "scrolled": true
   },
   "outputs": [],
   "source": [
    "data = {\n",
    "    'Loss': loss_epoch_arr,\n",
    "    'Train Accuracy': train_accuracy_lis,\n",
    "    'Validation Accuracy': val_accuracy_lis,\n",
    "    'Validation Loss': val_loss_epoch_arr\n",
    "}\n",
    "df = pd.DataFrame(data)\n",
    "\n",
    "# Save to CSV file\n",
    "df.to_csv('densenet_121_results/densenet_121_OneCLR_training_data.csv', index=False)"
   ]
  },
  {
   "cell_type": "code",
   "execution_count": null,
   "id": "220b8127",
   "metadata": {
    "scrolled": true
   },
   "outputs": [],
   "source": [
    "sns.set(style='darkgrid') \n",
    "plt.figure(figsize=(12, 6))\n",
    "sns.lineplot(x = epochs,y = train_accuracy_lis, label='Training accuracy', marker='o', color='green')\n",
    "sns.lineplot(x = epochs,y = val_accuracy_lis, label='Validation accuracy', marker='o', color='red')\n",
    "plt.title('densenet_121 Training and Validation Accuracy')\n",
    "plt.xlabel('Epochs')\n",
    "plt.ylabel('Accuracy')\n",
    "plt.legend()\n",
    "plt.savefig(os.path.join(folder_name, 'densenet_121_accuracy_plot.png'))\n",
    "plt.show()"
   ]
  },
  {
   "cell_type": "code",
   "execution_count": null,
   "id": "5299ffba",
   "metadata": {
    "scrolled": true
   },
   "outputs": [],
   "source": [
    "plt.figure(figsize=(12, 6))\n",
    "sns.lineplot(x = epochs,y = loss_epoch_arr, label='Training loss', marker='o', color='green')\n",
    "sns.lineplot(x = epochs, y = val_loss_epoch_arr, label='Validation loss', marker='o', color='red')\n",
    "plt.title('densenet_121 Training and Validation Loss')\n",
    "plt.xlabel('Epochs')\n",
    "plt.ylabel('Loss')\n",
    "plt.legend()\n",
    "plt.savefig(os.path.join(folder_name, 'densenet_121_loss_plot.png'))\n",
    "plt.show()"
   ]
  },
  {
   "cell_type": "code",
   "execution_count": null,
   "id": "ec7d244f",
   "metadata": {
    "scrolled": true
   },
   "outputs": [],
   "source": [
    "all_preds, all_labels = plot_evaluation_metrics(densenet121,valloader,device)"
   ]
  },
  {
   "cell_type": "code",
   "execution_count": null,
   "id": "8b7828ce",
   "metadata": {
    "scrolled": true
   },
   "outputs": [],
   "source": [
    "cm = confusion_matrix(all_labels, all_preds)\n",
    "plt.figure(figsize=(10, 7))\n",
    "sns.heatmap(cm, annot=True, fmt='d',cmap = \"magma\")\n",
    "plt.title('densenet_121 Val_Confusion_Matrix')\n",
    "plt.ylabel('True Label')\n",
    "plt.xlabel('Predicted Label')\n",
    "plt.savefig(os.path.join(folder_name, 'densenet_121_Val_Confusion_Matrix.png'))\n",
    "plt.show()"
   ]
  },
  {
   "cell_type": "code",
   "execution_count": null,
   "id": "32c312c5",
   "metadata": {
    "scrolled": true
   },
   "outputs": [],
   "source": [
    "generate_classification_report(densenet121, testloader, device, 'densenet_121_results/Val_report.txt')"
   ]
  },
  {
   "cell_type": "code",
   "execution_count": null,
   "id": "09f24626",
   "metadata": {
    "scrolled": true
   },
   "outputs": [],
   "source": [
    "all_preds, all_labels = plot_evaluation_metrics(densenet121, testloader,device)"
   ]
  },
  {
   "cell_type": "code",
   "execution_count": null,
   "id": "9f18bfef",
   "metadata": {
    "scrolled": true
   },
   "outputs": [],
   "source": [
    "cm = confusion_matrix(all_labels, all_preds)\n",
    "plt.figure(figsize=(10, 7))\n",
    "sns.heatmap(cm, annot=True, fmt='d',cmap = \"magma\")\n",
    "plt.title('densenet_121 Test_Confusion_Matrix')\n",
    "plt.ylabel('True Label')\n",
    "plt.xlabel('Predicted Label')\n",
    "plt.savefig(os.path.join(folder_name, 'densenet_121_Test_Confusion_Matrix.png'))\n",
    "plt.show()"
   ]
  },
  {
   "cell_type": "code",
   "execution_count": null,
   "id": "da7a432e",
   "metadata": {
    "scrolled": true
   },
   "outputs": [],
   "source": [
    "generate_classification_report(densenet121,testloader, device, 'densenet_121_results/Test_report.txt')"
   ]
  },
  {
   "cell_type": "markdown",
   "id": "50c0d9a3",
   "metadata": {},
   "source": [
    "## DenseNet201"
   ]
  },
  {
   "cell_type": "code",
   "execution_count": null,
   "id": "ba2c3a1f",
   "metadata": {
    "scrolled": true
   },
   "outputs": [],
   "source": [
    "densenet201 = models.densenet201(pretrained=True)"
   ]
  },
  {
   "cell_type": "code",
   "execution_count": null,
   "id": "cdb5e840",
   "metadata": {
    "scrolled": true
   },
   "outputs": [],
   "source": [
    "for param in densenet201.features.parameters():\n",
    "    param.requires_grad = True\n"
   ]
  },
  {
   "cell_type": "code",
   "execution_count": null,
   "id": "18936882",
   "metadata": {
    "scrolled": true
   },
   "outputs": [],
   "source": [
    "num_features = densenet201.classifier.in_features\n",
    "densenet201.classifier = nn.Linear(num_features, 2)"
   ]
  },
  {
   "cell_type": "code",
   "execution_count": null,
   "id": "dc94d040",
   "metadata": {
    "scrolled": true
   },
   "outputs": [],
   "source": [
    "densenet201 = densenet201.to(device)\n",
    "loss_fn = nn.CrossEntropyLoss()\n",
    "opt = optim.Adam(densenet201.parameters(), lr=0.0001)"
   ]
  },
  {
   "cell_type": "code",
   "execution_count": null,
   "id": "59753405",
   "metadata": {
    "scrolled": true
   },
   "outputs": [],
   "source": [
    "steps_per_epoch = len(trainloader)\n",
    "\n",
    "# Set the maximum learning rate and the factor by which to increase it\n",
    "max_lr = 0.01\n",
    "lr_step_factor = 8\n",
    "\n",
    "# Define the learning rate scheduler with the OneCycleLR policy\n",
    "scheduler = lr_scheduler.OneCycleLR(opt, max_lr, total_steps=50* steps_per_epoch, pct_start=0.3, div_factor=lr_step_factor)"
   ]
  },
  {
   "cell_type": "code",
   "execution_count": null,
   "id": "61256f4c",
   "metadata": {
    "scrolled": true
   },
   "outputs": [],
   "source": [
    "best_model, loss_epoch_arr, train_accuracy_lis, val_accuracy_lis, val_loss_epoch_arr = train_func(densenet201, loss_fn, opt, trainloader, valloader, scheduler , epochs=60\n",
    "                                                                            )      "
   ]
  },
  {
   "cell_type": "code",
   "execution_count": null,
   "id": "1ee4545c",
   "metadata": {
    "scrolled": true
   },
   "outputs": [],
   "source": [
    "evaluation(testloader,densenet201)"
   ]
  },
  {
   "cell_type": "code",
   "execution_count": null,
   "id": "028afd39",
   "metadata": {
    "scrolled": true
   },
   "outputs": [],
   "source": [
    "folder_name = 'densenet_201_results'\n",
    "os.makedirs(folder_name, exist_ok=True)"
   ]
  },
  {
   "cell_type": "code",
   "execution_count": null,
   "id": "985a747c",
   "metadata": {
    "scrolled": true
   },
   "outputs": [],
   "source": [
    "data = {\n",
    "    'Loss': loss_epoch_arr,\n",
    "    'Train Accuracy': train_accuracy_lis,\n",
    "    'Validation Accuracy': val_accuracy_lis,\n",
    "    'Validation Loss': val_loss_epoch_arr\n",
    "}\n",
    "df = pd.DataFrame(data)\n",
    "\n",
    "# Save to CSV file\n",
    "df.to_csv('densenet_201_results/densenet_201_OneCLR_training_data.csv', index=False)"
   ]
  },
  {
   "cell_type": "code",
   "execution_count": null,
   "id": "66400141",
   "metadata": {
    "scrolled": true
   },
   "outputs": [],
   "source": [
    "sns.set(style='darkgrid') \n",
    "plt.figure(figsize=(12, 6))\n",
    "sns.lineplot(x = epochs,y = train_accuracy_lis, label='Training accuracy', marker='o', color='green')\n",
    "sns.lineplot(x = epochs,y = val_accuracy_lis, label='Validation accuracy', marker='o', color='red')\n",
    "plt.title('densenet_201 Training and Validation Accuracy')\n",
    "plt.xlabel('Epochs')\n",
    "plt.ylabel('Accuracy')\n",
    "plt.legend()\n",
    "plt.savefig(os.path.join(folder_name, 'densenet_201_accuracy_plot.png'))\n",
    "plt.show()"
   ]
  },
  {
   "cell_type": "code",
   "execution_count": null,
   "id": "875095ea",
   "metadata": {
    "scrolled": true
   },
   "outputs": [],
   "source": [
    "plt.figure(figsize=(12, 6))\n",
    "sns.lineplot(x = epochs,y = loss_epoch_arr, label='Training loss', marker='o', color='green')\n",
    "sns.lineplot(x = epochs, y = val_loss_epoch_arr, label='Validation loss', marker='o', color='red')\n",
    "plt.title('densenet_201 Training and Validation Loss')\n",
    "plt.xlabel('Epochs')\n",
    "plt.ylabel('Loss')\n",
    "plt.legend()\n",
    "plt.savefig(os.path.join(folder_name, 'densenet_201_loss_plot.png'))\n",
    "plt.show()"
   ]
  },
  {
   "cell_type": "code",
   "execution_count": null,
   "id": "b1ab9d5c",
   "metadata": {
    "scrolled": true
   },
   "outputs": [],
   "source": [
    "all_preds, all_labels = plot_evaluation_metrics(densenet201,valloader,device)"
   ]
  },
  {
   "cell_type": "code",
   "execution_count": null,
   "id": "807d1064",
   "metadata": {
    "scrolled": true
   },
   "outputs": [],
   "source": [
    "cm = confusion_matrix(all_labels, all_preds)\n",
    "plt.figure(figsize=(10, 7))\n",
    "sns.heatmap(cm, annot=True, fmt='d',cmap = \"magma\")\n",
    "plt.title('densenet_201 Val_Confusion_Matrix')\n",
    "plt.ylabel('True Label')\n",
    "plt.xlabel('Predicted Label')\n",
    "plt.savefig(os.path.join(folder_name, 'densenet_201_Val_Confusion_Matrix.png'))\n",
    "plt.show()"
   ]
  },
  {
   "cell_type": "code",
   "execution_count": null,
   "id": "bb0cccbf",
   "metadata": {
    "scrolled": true
   },
   "outputs": [],
   "source": [
    "generate_classification_report(densenet201, testloader, device, 'densenet_201_results/Val_report.txt')"
   ]
  },
  {
   "cell_type": "code",
   "execution_count": null,
   "id": "34ca5444",
   "metadata": {
    "scrolled": true
   },
   "outputs": [],
   "source": [
    "all_preds, all_labels = plot_evaluation_metrics(densenet201, testloader,device)"
   ]
  },
  {
   "cell_type": "code",
   "execution_count": null,
   "id": "77a6dabd",
   "metadata": {
    "scrolled": true
   },
   "outputs": [],
   "source": [
    "cm = confusion_matrix(all_labels, all_preds)\n",
    "plt.figure(figsize=(10, 7))\n",
    "sns.heatmap(cm, annot=True, fmt='d',cmap = \"magma\")\n",
    "plt.title('densenet_201 Test_Confusion_Matrix')\n",
    "plt.ylabel('True Label')\n",
    "plt.xlabel('Predicted Label')\n",
    "plt.savefig(os.path.join(folder_name, 'densenet_201_Test_Confusion_Matrix.png'))\n",
    "plt.show()"
   ]
  },
  {
   "cell_type": "code",
   "execution_count": null,
   "id": "7158e210",
   "metadata": {
    "scrolled": true
   },
   "outputs": [],
   "source": [
    "generate_classification_report(densenet201,testloader, device, 'densenet_201_results/Test_report.txt')"
   ]
  },
  {
   "cell_type": "code",
   "execution_count": null,
   "id": "7863f056",
   "metadata": {
    "scrolled": true
   },
   "outputs": [],
   "source": []
  }
 ],
 "metadata": {
  "kernelspec": {
   "display_name": "Python 3 (ipykernel)",
   "language": "python",
   "name": "python3"
  },
  "language_info": {
   "codemirror_mode": {
    "name": "ipython",
    "version": 3
   },
   "file_extension": ".py",
   "mimetype": "text/x-python",
   "name": "python",
   "nbconvert_exporter": "python",
   "pygments_lexer": "ipython3",
   "version": "3.9.13"
  }
 },
 "nbformat": 4,
 "nbformat_minor": 5
}
