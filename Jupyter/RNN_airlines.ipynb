{
 "cells": [
  {
   "cell_type": "code",
   "execution_count": 1,
   "id": "050c5e0b",
   "metadata": {},
   "outputs": [],
   "source": [
    "from pandas import read_csv\n",
    "import numpy as np"
   ]
  },
  {
   "cell_type": "code",
   "execution_count": 2,
   "id": "373890ff",
   "metadata": {},
   "outputs": [],
   "source": [
    "df=read_csv('international-airline-passengers.csv',usecols=[1])"
   ]
  },
  {
   "cell_type": "code",
   "execution_count": 3,
   "id": "71b3cf71",
   "metadata": {},
   "outputs": [
    {
     "data": {
      "text/html": [
       "<div>\n",
       "<style scoped>\n",
       "    .dataframe tbody tr th:only-of-type {\n",
       "        vertical-align: middle;\n",
       "    }\n",
       "\n",
       "    .dataframe tbody tr th {\n",
       "        vertical-align: top;\n",
       "    }\n",
       "\n",
       "    .dataframe thead th {\n",
       "        text-align: right;\n",
       "    }\n",
       "</style>\n",
       "<table border=\"1\" class=\"dataframe\">\n",
       "  <thead>\n",
       "    <tr style=\"text-align: right;\">\n",
       "      <th></th>\n",
       "      <th>International airline passengers: monthly totals in thousands. Jan 49 ? Dec 60</th>\n",
       "    </tr>\n",
       "  </thead>\n",
       "  <tbody>\n",
       "    <tr>\n",
       "      <th>count</th>\n",
       "      <td>144.000000</td>\n",
       "    </tr>\n",
       "    <tr>\n",
       "      <th>mean</th>\n",
       "      <td>280.298611</td>\n",
       "    </tr>\n",
       "    <tr>\n",
       "      <th>std</th>\n",
       "      <td>119.966317</td>\n",
       "    </tr>\n",
       "    <tr>\n",
       "      <th>min</th>\n",
       "      <td>104.000000</td>\n",
       "    </tr>\n",
       "    <tr>\n",
       "      <th>25%</th>\n",
       "      <td>180.000000</td>\n",
       "    </tr>\n",
       "    <tr>\n",
       "      <th>50%</th>\n",
       "      <td>265.500000</td>\n",
       "    </tr>\n",
       "    <tr>\n",
       "      <th>75%</th>\n",
       "      <td>360.500000</td>\n",
       "    </tr>\n",
       "    <tr>\n",
       "      <th>max</th>\n",
       "      <td>622.000000</td>\n",
       "    </tr>\n",
       "  </tbody>\n",
       "</table>\n",
       "</div>"
      ],
      "text/plain": [
       "       International airline passengers: monthly totals in thousands. Jan 49 ? Dec 60\n",
       "count                                         144.000000                             \n",
       "mean                                          280.298611                             \n",
       "std                                           119.966317                             \n",
       "min                                           104.000000                             \n",
       "25%                                           180.000000                             \n",
       "50%                                           265.500000                             \n",
       "75%                                           360.500000                             \n",
       "max                                           622.000000                             "
      ]
     },
     "execution_count": 3,
     "metadata": {},
     "output_type": "execute_result"
    }
   ],
   "source": [
    "df.describe()"
   ]
  },
  {
   "cell_type": "code",
   "execution_count": 4,
   "id": "27bdafe8",
   "metadata": {},
   "outputs": [
    {
     "data": {
      "text/plain": [
       "(144, 1)"
      ]
     },
     "execution_count": 4,
     "metadata": {},
     "output_type": "execute_result"
    }
   ],
   "source": [
    "values=df.values.astype('float32')\n",
    "values.shape"
   ]
  },
  {
   "cell_type": "code",
   "execution_count": 5,
   "id": "5994718b",
   "metadata": {},
   "outputs": [],
   "source": [
    "train_size=int(values.shape[0]*0.67)\n",
    "test_size=values.shape[0]-train_size\n",
    "train=values[0:train_size]\n",
    "test=values[train_size:]\n"
   ]
  },
  {
   "cell_type": "code",
   "execution_count": 6,
   "id": "f274dc95",
   "metadata": {},
   "outputs": [],
   "source": [
    "from sklearn.preprocessing import MinMaxScaler\n",
    "scaler=MinMaxScaler(feature_range=(0,1))\n",
    "train=scaler.fit_transform(train)\n",
    "test=scaler.transform(test)"
   ]
  },
  {
   "cell_type": "code",
   "execution_count": 7,
   "id": "e8036790",
   "metadata": {},
   "outputs": [],
   "source": [
    "def create_dataset(data,k):\n",
    "    dataX,dataY=[],[]\n",
    "    for i in range(data.shape[0]-k):\n",
    "        x=data[i:i+k,0]\n",
    "        y=data[i+k,0]\n",
    "        dataX.append(x)\n",
    "        dataY.append(y)\n",
    "    return np.array(dataX),np.array(dataY)"
   ]
  },
  {
   "cell_type": "code",
   "execution_count": 8,
   "id": "a56353f5",
   "metadata": {},
   "outputs": [
    {
     "data": {
      "text/plain": [
       "(array([[0.682848  , 0.63754046, 0.815534  , 0.7896441 , 0.8122978 ,\n",
       "         1.0291263 , 1.1682849 , 1.1747574 , 0.97087383, 0.7864078 ,\n",
       "         0.6504855 , 0.7508091 ],\n",
       "        [0.63754046, 0.815534  , 0.7896441 , 0.8122978 , 1.0291263 ,\n",
       "         1.1682849 , 1.1747574 , 0.97087383, 0.7864078 , 0.6504855 ,\n",
       "         0.7508091 , 0.7637541 ],\n",
       "        [0.815534  , 0.7896441 , 0.8122978 , 1.0291263 , 1.1682849 ,\n",
       "         1.1747574 , 0.97087383, 0.7864078 , 0.6504855 , 0.7508091 ,\n",
       "         0.7637541 , 0.69255674],\n",
       "        [0.7896441 , 0.8122978 , 1.0291263 , 1.1682849 , 1.1747574 ,\n",
       "         0.97087383, 0.7864078 , 0.6504855 , 0.7508091 , 0.7637541 ,\n",
       "         0.69255674, 0.8349515 ],\n",
       "        [0.8122978 , 1.0291263 , 1.1682849 , 1.1747574 , 0.97087383,\n",
       "         0.7864078 , 0.6504855 , 0.7508091 , 0.7637541 , 0.69255674,\n",
       "         0.8349515 , 0.7896441 ],\n",
       "        [1.0291263 , 1.1682849 , 1.1747574 , 0.97087383, 0.7864078 ,\n",
       "         0.6504855 , 0.7508091 , 0.7637541 , 0.69255674, 0.8349515 ,\n",
       "         0.7896441 , 0.8381878 ],\n",
       "        [1.1682849 , 1.1747574 , 0.97087383, 0.7864078 , 0.6504855 ,\n",
       "         0.7508091 , 0.7637541 , 0.69255674, 0.8349515 , 0.7896441 ,\n",
       "         0.8381878 , 1.0711975 ],\n",
       "        [1.1747574 , 0.97087383, 0.7864078 , 0.6504855 , 0.7508091 ,\n",
       "         0.7637541 , 0.69255674, 0.8349515 , 0.7896441 , 0.8381878 ,\n",
       "         1.0711975 , 1.2524272 ],\n",
       "        [0.97087383, 0.7864078 , 0.6504855 , 0.7508091 , 0.7637541 ,\n",
       "         0.69255674, 0.8349515 , 0.7896441 , 0.8381878 , 1.0711975 ,\n",
       "         1.2524272 , 1.2977347 ],\n",
       "        [0.7864078 , 0.6504855 , 0.7508091 , 0.7637541 , 0.69255674,\n",
       "         0.8349515 , 0.7896441 , 0.8381878 , 1.0711975 , 1.2524272 ,\n",
       "         1.2977347 , 0.97087383],\n",
       "        [0.6504855 , 0.7508091 , 0.7637541 , 0.69255674, 0.8349515 ,\n",
       "         0.7896441 , 0.8381878 , 1.0711975 , 1.2524272 , 1.2977347 ,\n",
       "         0.97087383, 0.82524276],\n",
       "        [0.7508091 , 0.7637541 , 0.69255674, 0.8349515 , 0.7896441 ,\n",
       "         0.8381878 , 1.0711975 , 1.2524272 , 1.2977347 , 0.97087383,\n",
       "         0.82524276, 0.66666675],\n",
       "        [0.7637541 , 0.69255674, 0.8349515 , 0.7896441 , 0.8381878 ,\n",
       "         1.0711975 , 1.2524272 , 1.2977347 , 0.97087383, 0.82524276,\n",
       "         0.66666675, 0.75404537],\n",
       "        [0.69255674, 0.8349515 , 0.7896441 , 0.8381878 , 1.0711975 ,\n",
       "         1.2524272 , 1.2977347 , 0.97087383, 0.82524276, 0.66666675,\n",
       "         0.75404537, 0.82847905],\n",
       "        [0.8349515 , 0.7896441 , 0.8381878 , 1.0711975 , 1.2524272 ,\n",
       "         1.2977347 , 0.97087383, 0.82524276, 0.66666675, 0.75404537,\n",
       "         0.82847905, 0.7702266 ],\n",
       "        [0.7896441 , 0.8381878 , 1.0711975 , 1.2524272 , 1.2977347 ,\n",
       "         0.97087383, 0.82524276, 0.66666675, 0.75404537, 0.82847905,\n",
       "         0.7702266 , 0.9773463 ],\n",
       "        [0.8381878 , 1.0711975 , 1.2524272 , 1.2977347 , 0.97087383,\n",
       "         0.82524276, 0.66666675, 0.75404537, 0.82847905, 0.7702266 ,\n",
       "         0.9773463 , 0.94498384],\n",
       "        [1.0711975 , 1.2524272 , 1.2977347 , 0.97087383, 0.82524276,\n",
       "         0.66666675, 0.75404537, 0.82847905, 0.7702266 , 0.9773463 ,\n",
       "         0.94498384, 1.0226538 ],\n",
       "        [1.2524272 , 1.2977347 , 0.97087383, 0.82524276, 0.66666675,\n",
       "         0.75404537, 0.82847905, 0.7702266 , 0.9773463 , 0.94498384,\n",
       "         1.0226538 , 1.1909386 ],\n",
       "        [1.2977347 , 0.97087383, 0.82524276, 0.66666675, 0.75404537,\n",
       "         0.82847905, 0.7702266 , 0.9773463 , 0.94498384, 1.0226538 ,\n",
       "         1.1909386 , 1.4368933 ],\n",
       "        [0.97087383, 0.82524276, 0.66666675, 0.75404537, 0.82847905,\n",
       "         0.7702266 , 0.9773463 , 0.94498384, 1.0226538 , 1.1909386 ,\n",
       "         1.4368933 , 1.472492  ],\n",
       "        [0.82524276, 0.66666675, 0.75404537, 0.82847905, 0.7702266 ,\n",
       "         0.9773463 , 0.94498384, 1.0226538 , 1.1909386 , 1.4368933 ,\n",
       "         1.472492  , 1.1618124 ],\n",
       "        [0.66666675, 0.75404537, 0.82847905, 0.7702266 , 0.9773463 ,\n",
       "         0.94498384, 1.0226538 , 1.1909386 , 1.4368933 , 1.472492  ,\n",
       "         1.1618124 , 0.9805826 ],\n",
       "        [0.75404537, 0.82847905, 0.7702266 , 0.9773463 , 0.94498384,\n",
       "         1.0226538 , 1.1909386 , 1.4368933 , 1.472492  , 1.1618124 ,\n",
       "         0.9805826 , 0.8349515 ],\n",
       "        [0.82847905, 0.7702266 , 0.9773463 , 0.94498384, 1.0226538 ,\n",
       "         1.1909386 , 1.4368933 , 1.472492  , 1.1618124 , 0.9805826 ,\n",
       "         0.8349515 , 0.9741101 ],\n",
       "        [0.7702266 , 0.9773463 , 0.94498384, 1.0226538 , 1.1909386 ,\n",
       "         1.4368933 , 1.472492  , 1.1618124 , 0.9805826 , 0.8349515 ,\n",
       "         0.9741101 , 1.012945  ],\n",
       "        [0.9773463 , 0.94498384, 1.0226538 , 1.1909386 , 1.4368933 ,\n",
       "         1.472492  , 1.1618124 , 0.9805826 , 0.8349515 , 0.9741101 ,\n",
       "         1.012945  , 0.9288026 ],\n",
       "        [0.94498384, 1.0226538 , 1.1909386 , 1.4368933 , 1.472492  ,\n",
       "         1.1618124 , 0.9805826 , 0.8349515 , 0.9741101 , 1.012945  ,\n",
       "         0.9288026 , 1.0194175 ],\n",
       "        [1.0226538 , 1.1909386 , 1.4368933 , 1.472492  , 1.1618124 ,\n",
       "         0.9805826 , 0.8349515 , 0.9741101 , 1.012945  , 0.9288026 ,\n",
       "         1.0194175 , 1.1553398 ],\n",
       "        [1.1909386 , 1.4368933 , 1.472492  , 1.1618124 , 0.9805826 ,\n",
       "         0.8349515 , 0.9741101 , 1.012945  , 0.9288026 , 1.0194175 ,\n",
       "         1.1553398 , 1.1909386 ],\n",
       "        [1.4368933 , 1.472492  , 1.1618124 , 0.9805826 , 0.8349515 ,\n",
       "         0.9741101 , 1.012945  , 0.9288026 , 1.0194175 , 1.1553398 ,\n",
       "         1.1909386 , 1.3948221 ],\n",
       "        [1.472492  , 1.1618124 , 0.9805826 , 0.8349515 , 0.9741101 ,\n",
       "         1.012945  , 0.9288026 , 1.0194175 , 1.1553398 , 1.1909386 ,\n",
       "         1.3948221 , 1.6763754 ],\n",
       "        [1.1618124 , 0.9805826 , 0.8349515 , 0.9741101 , 1.012945  ,\n",
       "         0.9288026 , 1.0194175 , 1.1553398 , 1.1909386 , 1.3948221 ,\n",
       "         1.6763754 , 1.6245955 ],\n",
       "        [0.9805826 , 0.8349515 , 0.9741101 , 1.012945  , 0.9288026 ,\n",
       "         1.0194175 , 1.1553398 , 1.1909386 , 1.3948221 , 1.6763754 ,\n",
       "         1.6245955 , 1.3074435 ],\n",
       "        [0.8349515 , 0.9741101 , 1.012945  , 0.9288026 , 1.0194175 ,\n",
       "         1.1553398 , 1.1909386 , 1.3948221 , 1.6763754 , 1.6245955 ,\n",
       "         1.3074435 , 1.1553398 ],\n",
       "        [0.9741101 , 1.012945  , 0.9288026 , 1.0194175 , 1.1553398 ,\n",
       "         1.1909386 , 1.3948221 , 1.6763754 , 1.6245955 , 1.3074435 ,\n",
       "         1.1553398 , 0.92556643]], dtype=float32),\n",
       " array([0.7637541 , 0.69255674, 0.8349515 , 0.7896441 , 0.8381878 ,\n",
       "        1.0711975 , 1.2524272 , 1.2977347 , 0.97087383, 0.82524276,\n",
       "        0.66666675, 0.75404537, 0.82847905, 0.7702266 , 0.9773463 ,\n",
       "        0.94498384, 1.0226538 , 1.1909386 , 1.4368933 , 1.472492  ,\n",
       "        1.1618124 , 0.9805826 , 0.8349515 , 0.9741101 , 1.012945  ,\n",
       "        0.9288026 , 1.0194175 , 1.1553398 , 1.1909386 , 1.3948221 ,\n",
       "        1.6763754 , 1.6245955 , 1.3074435 , 1.1553398 , 0.92556643,\n",
       "        1.0614887 ], dtype=float32))"
      ]
     },
     "execution_count": 8,
     "metadata": {},
     "output_type": "execute_result"
    }
   ],
   "source": [
    "create_dataset(test,12)"
   ]
  },
  {
   "cell_type": "code",
   "execution_count": 9,
   "id": "e0129cf4",
   "metadata": {},
   "outputs": [],
   "source": [
    "look_back=12\n",
    "trainX,trainY=create_dataset(train,look_back)\n",
    "testX,testY=create_dataset(test,look_back)"
   ]
  },
  {
   "cell_type": "code",
   "execution_count": 10,
   "id": "1185cd3a",
   "metadata": {},
   "outputs": [
    {
     "data": {
      "text/plain": [
       "(84, 12, 1)"
      ]
     },
     "execution_count": 10,
     "metadata": {},
     "output_type": "execute_result"
    }
   ],
   "source": [
    "trainX=np.reshape(trainX,(trainX.shape[0],trainX.shape[1],1))\n",
    "testX=np.reshape(testX,(testX.shape[0],testX.shape[1],1))\n",
    "trainX.shape"
   ]
  },
  {
   "cell_type": "code",
   "execution_count": 11,
   "id": "95734013",
   "metadata": {},
   "outputs": [],
   "source": [
    "from keras.models import Sequential\n",
    "from keras.layers import SimpleRNN,Dense"
   ]
  },
  {
   "cell_type": "code",
   "execution_count": 26,
   "id": "5562afbb",
   "metadata": {},
   "outputs": [
    {
     "name": "stdout",
     "output_type": "stream",
     "text": [
      "Epoch 1/50\n",
      "84/84 [==============================] - 1s 2ms/step - loss: 0.0265\n",
      "Epoch 2/50\n",
      "84/84 [==============================] - 0s 2ms/step - loss: 0.0228\n",
      "Epoch 3/50\n",
      "84/84 [==============================] - 0s 2ms/step - loss: 0.0184\n",
      "Epoch 4/50\n",
      "84/84 [==============================] - 0s 2ms/step - loss: 0.0178\n",
      "Epoch 5/50\n",
      "84/84 [==============================] - 0s 2ms/step - loss: 0.0159\n",
      "Epoch 6/50\n",
      "84/84 [==============================] - 0s 1ms/step - loss: 0.0150\n",
      "Epoch 7/50\n",
      "84/84 [==============================] - 0s 1ms/step - loss: 0.0153\n",
      "Epoch 8/50\n",
      "84/84 [==============================] - 0s 2ms/step - loss: 0.0142\n",
      "Epoch 9/50\n",
      "84/84 [==============================] - 0s 2ms/step - loss: 0.0132\n",
      "Epoch 10/50\n",
      "84/84 [==============================] - 0s 2ms/step - loss: 0.0126\n",
      "Epoch 11/50\n",
      "84/84 [==============================] - 0s 2ms/step - loss: 0.0130\n",
      "Epoch 12/50\n",
      "84/84 [==============================] - 0s 2ms/step - loss: 0.0125\n",
      "Epoch 13/50\n",
      "84/84 [==============================] - 0s 2ms/step - loss: 0.0115\n",
      "Epoch 14/50\n",
      "84/84 [==============================] - 0s 2ms/step - loss: 0.0114\n",
      "Epoch 15/50\n",
      "84/84 [==============================] - 0s 2ms/step - loss: 0.0111\n",
      "Epoch 16/50\n",
      "84/84 [==============================] - 0s 2ms/step - loss: 0.0104\n",
      "Epoch 17/50\n",
      "84/84 [==============================] - 0s 2ms/step - loss: 0.0101\n",
      "Epoch 18/50\n",
      "84/84 [==============================] - 0s 2ms/step - loss: 0.0099\n",
      "Epoch 19/50\n",
      "84/84 [==============================] - 0s 2ms/step - loss: 0.0098\n",
      "Epoch 20/50\n",
      "84/84 [==============================] - 0s 2ms/step - loss: 0.0094\n",
      "Epoch 21/50\n",
      "84/84 [==============================] - 0s 2ms/step - loss: 0.0090\n",
      "Epoch 22/50\n",
      "84/84 [==============================] - 0s 2ms/step - loss: 0.0087\n",
      "Epoch 23/50\n",
      "84/84 [==============================] - 0s 2ms/step - loss: 0.0086\n",
      "Epoch 24/50\n",
      "84/84 [==============================] - 0s 2ms/step - loss: 0.0082\n",
      "Epoch 25/50\n",
      "84/84 [==============================] - 0s 2ms/step - loss: 0.0082\n",
      "Epoch 26/50\n",
      "84/84 [==============================] - 0s 2ms/step - loss: 0.0081\n",
      "Epoch 27/50\n",
      "84/84 [==============================] - 0s 2ms/step - loss: 0.0075\n",
      "Epoch 28/50\n",
      "84/84 [==============================] - 0s 2ms/step - loss: 0.0072\n",
      "Epoch 29/50\n",
      "84/84 [==============================] - 0s 2ms/step - loss: 0.0073\n",
      "Epoch 30/50\n",
      "84/84 [==============================] - 0s 2ms/step - loss: 0.0069\n",
      "Epoch 31/50\n",
      "84/84 [==============================] - 0s 2ms/step - loss: 0.0066\n",
      "Epoch 32/50\n",
      "84/84 [==============================] - 0s 2ms/step - loss: 0.0066\n",
      "Epoch 33/50\n",
      "84/84 [==============================] - 0s 2ms/step - loss: 0.0065\n",
      "Epoch 34/50\n",
      "84/84 [==============================] - 0s 2ms/step - loss: 0.0063\n",
      "Epoch 35/50\n",
      "84/84 [==============================] - 0s 2ms/step - loss: 0.0062\n",
      "Epoch 36/50\n",
      "84/84 [==============================] - 0s 2ms/step - loss: 0.0060\n",
      "Epoch 37/50\n",
      "84/84 [==============================] - 0s 2ms/step - loss: 0.0060\n",
      "Epoch 38/50\n",
      "84/84 [==============================] - 0s 2ms/step - loss: 0.0060\n",
      "Epoch 39/50\n",
      "84/84 [==============================] - 0s 1ms/step - loss: 0.0060\n",
      "Epoch 40/50\n",
      "84/84 [==============================] - 0s 2ms/step - loss: 0.0057\n",
      "Epoch 41/50\n",
      "84/84 [==============================] - 0s 2ms/step - loss: 0.0055\n",
      "Epoch 42/50\n",
      "84/84 [==============================] - 0s 2ms/step - loss: 0.0056\n",
      "Epoch 43/50\n",
      "84/84 [==============================] - 0s 2ms/step - loss: 0.0056\n",
      "Epoch 44/50\n",
      "84/84 [==============================] - 0s 2ms/step - loss: 0.0056\n",
      "Epoch 45/50\n",
      "84/84 [==============================] - 0s 2ms/step - loss: 0.0054\n",
      "Epoch 46/50\n",
      "84/84 [==============================] - 0s 1ms/step - loss: 0.0053\n",
      "Epoch 47/50\n",
      "84/84 [==============================] - 0s 1ms/step - loss: 0.0056\n",
      "Epoch 48/50\n",
      "84/84 [==============================] - 0s 1ms/step - loss: 0.0053\n",
      "Epoch 49/50\n",
      "84/84 [==============================] - 0s 2ms/step - loss: 0.0055\n",
      "Epoch 50/50\n",
      "84/84 [==============================] - 0s 2ms/step - loss: 0.0054\n"
     ]
    },
    {
     "data": {
      "text/plain": [
       "<keras.src.callbacks.History at 0x164fefea790>"
      ]
     },
     "execution_count": 26,
     "metadata": {},
     "output_type": "execute_result"
    }
   ],
   "source": [
    "model=Sequential()\n",
    "model.add(SimpleRNN(4,input_shape=(look_back,1)))\n",
    "model.add(Dense(1))\n",
    "model.compile(loss='mean_squared_error',optimizer='adam')\n",
    "model.fit(trainX,trainY,epochs=50,batch_size=1)#reducing loss by back propagation using time"
   ]
  },
  {
   "cell_type": "code",
   "execution_count": 28,
   "id": "8ee30072",
   "metadata": {},
   "outputs": [
    {
     "name": "stdout",
     "output_type": "stream",
     "text": [
      "2/2 [==============================] - 0s 3ms/step\n",
      "3/3 [==============================] - 0s 2ms/step\n"
     ]
    },
    {
     "data": {
      "text/plain": [
       "((36,), (36,), (84,), (84,))"
      ]
     },
     "execution_count": 28,
     "metadata": {},
     "output_type": "execute_result"
    }
   ],
   "source": [
    "testPredict=model.predict(testX)\n",
    "testPredict=scaler.inverse_transform(testPredict).ravel()#ravel to make it one dimensional\n",
    "\n",
    "trainPredict=model.predict(trainX)\n",
    "trainPredict=scaler.inverse_transform(trainPredict).ravel()\n",
    "\n",
    "testTrue=scaler.inverse_transform([testY]).ravel()\n",
    "trainTrue=scaler.inverse_transform([trainY]).ravel()\n",
    "\n",
    "testPredict.shape,testTrue.shape,trainPredict.shape,trainTrue.shape"
   ]
  },
  {
   "cell_type": "code",
   "execution_count": 15,
   "id": "8109dd10",
   "metadata": {},
   "outputs": [],
   "source": [
    "from matplotlib import pyplot as plt\n"
   ]
  },
  {
   "cell_type": "code",
   "execution_count": 29,
   "id": "3015df61",
   "metadata": {},
   "outputs": [
    {
     "data": {
      "image/png": "[encoded data removed]",
      "text/plain": [
       "<Figure size 640x480 with 1 Axes>"
      ]
     },
     "metadata": {},
     "output_type": "display_data"
    }
   ],
   "source": [
    "plt.plot(trainTrue,c='r')\n",
    "plt.plot(trainPredict,c='b')\n",
    "plt.show()"
   ]
  },
  {
   "cell_type": "code",
   "execution_count": 30,
   "id": "fc8193dd",
   "metadata": {},
   "outputs": [
    {
     "data": {
      "text/plain": [
       "[<matplotlib.lines.Line2D at 0x164fefeefd0>]"
      ]
     },
     "execution_count": 30,
     "metadata": {},
     "output_type": "execute_result"
    },
    {
     "data": {
      "image/png": "[encoded data removed]",
      "text/plain": [
       "<Figure size 640x480 with 1 Axes>"
      ]
     },
     "metadata": {},
     "output_type": "display_data"
    }
   ],
   "source": [
    "combinedPredicted=np.concatenate((trainPredict,testPredict))\n",
    "combinedTrue=np.concatenate((trainTrue,testTrue))\n",
    "plt.plot(combinedTrue,c='r')\n",
    "plt.plot(combinedPredicted,c='b')\n",
    "                                 "
   ]
  },
  {
   "cell_type": "code",
   "execution_count": null,
   "id": "63665527",
   "metadata": {},
   "outputs": [],
   "source": []
  }
 ],
 "metadata": {
  "kernelspec": {
   "display_name": "Python 3 (ipykernel)",
   "language": "python",
   "name": "python3"
  },
  "language_info": {
   "codemirror_mode": {
    "name": "ipython",
    "version": 3
   },
   "file_extension": ".py",
   "mimetype": "text/x-python",
   "name": "python",
   "nbconvert_exporter": "python",
   "pygments_lexer": "ipython3",
   "version": "3.11.4"
  }
 },
 "nbformat": 4,
 "nbformat_minor": 5
}
