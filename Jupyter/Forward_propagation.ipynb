{
 "cells": [
  {
   "cell_type": "code",
   "execution_count": 1,
   "id": "5e9177fd",
   "metadata": {},
   "outputs": [],
   "source": [
    "import numpy as np"
   ]
  },
  {
   "cell_type": "code",
   "execution_count": 2,
   "id": "df2924ce",
   "metadata": {},
   "outputs": [
    {
     "data": {
      "text/plain": [
       "((4, 2), (4, 1))"
      ]
     },
     "execution_count": 2,
     "metadata": {},
     "output_type": "execute_result"
    }
   ],
   "source": [
    "x=np.array([[0,0],[0,1],[1,0],[1,1]])\n",
    "y=np.array([[0,0,0,1]]).T\n",
    "\n",
    "x.shape,y.shape"
   ]
  },
  {
   "cell_type": "code",
   "execution_count": 3,
   "id": "823b29e4",
   "metadata": {},
   "outputs": [],
   "source": [
    "def sig(z):\n",
    "    return 1/(1+np.exp(-z))"
   ]
  },
  {
   "cell_type": "code",
   "execution_count": 4,
   "id": "bdcb5f83",
   "metadata": {},
   "outputs": [],
   "source": [
    "def derivativeSig(z):\n",
    "    return sig(z)*(1-sig(z))"
   ]
  },
  {
   "cell_type": "code",
   "execution_count": 5,
   "id": "cd7ba591",
   "metadata": {},
   "outputs": [
    {
     "data": {
      "text/plain": [
       "(array([[-0.14856591],\n",
       "        [-0.82865281]]),\n",
       " array([0.77988154]))"
      ]
     },
     "execution_count": 5,
     "metadata": {},
     "output_type": "execute_result"
    }
   ],
   "source": [
    "#no hidden layer weights\n",
    "weights=2*np.random.random((2,1))-1 # range is from -1 to 1\n",
    "bias=2*np.random.random(1)-1 \n",
    "weights,bias"
   ]
  },
  {
   "cell_type": "code",
   "execution_count": 6,
   "id": "9d5aebb1",
   "metadata": {},
   "outputs": [
    {
     "data": {
      "text/plain": [
       "array([[0.68565458],\n",
       "       [0.4878096 ],\n",
       "       [0.65278772],\n",
       "       [0.45082518]])"
      ]
     },
     "execution_count": 6,
     "metadata": {},
     "output_type": "execute_result"
    }
   ],
   "source": [
    "#forward propagation without any hidden layer\n",
    "output0=x\n",
    "output=sig(np.dot(output0,weights)+bias)\n",
    "output"
   ]
  },
  {
   "cell_type": "code",
   "execution_count": 7,
   "id": "7a9bab00",
   "metadata": {},
   "outputs": [],
   "source": [
    "#hidden layer and output weights\n",
    "wh=2*np.random.random((2,2))-1\n",
    "bh=2*np.random.random((1,2))-1\n",
    "wo=2*np.random.random((2,1))-1\n",
    "bo=2*np.random.random((1,1))-1"
   ]
  },
  {
   "cell_type": "code",
   "execution_count": 8,
   "id": "67963110",
   "metadata": {},
   "outputs": [
    {
     "data": {
      "text/plain": [
       "array([[0.65423539],\n",
       "       [0.6125644 ],\n",
       "       [0.64160072],\n",
       "       [0.60125586]])"
      ]
     },
     "execution_count": 8,
     "metadata": {},
     "output_type": "execute_result"
    }
   ],
   "source": [
    "output0=x\n",
    "outputHidden=sig(np.dot(output0,wh)+bh)\n",
    "output=sig(np.dot(outputHidden,wo)+bo)\n",
    "output"
   ]
  },
  {
   "cell_type": "code",
   "execution_count": 9,
   "id": "1514c72a",
   "metadata": {},
   "outputs": [
    {
     "data": {
      "text/plain": [
       "(array([[5.46833556],\n",
       "        [5.46833555]]),\n",
       " array([-8.29524487]),\n",
       " array([[2.49639036e-04],\n",
       "        [5.58872507e-02],\n",
       "        [5.58872511e-02],\n",
       "        [9.33480581e-01]]))"
      ]
     },
     "execution_count": 9,
     "metadata": {},
     "output_type": "execute_result"
    }
   ],
   "source": [
    "#forward propagation without hidden layer\n",
    "lr=0.1\n",
    "for iter in range(10000):\n",
    "    output0=x\n",
    "    output=sig(np.dot(output0,weights)+bias)\n",
    "    \n",
    "    #Now we are doing backward propagation\n",
    "    first_term=output-y\n",
    "    input_for_last_layer=np.dot(output0,weights)+bias\n",
    "    second_term=derivativeSig(input_for_last_layer)\n",
    "    first_two=first_term*second_term\n",
    "    \n",
    "    changes=np.array([[0.0],[0.0]])\n",
    "    for i in range(2):\n",
    "        for j in range(4):\n",
    "            changes[i][0]+=first_two[j][0]*output0[j][i]\n",
    "    weights=weights-lr*changes\n",
    "    bias_change=0.0\n",
    "    for j in range(4):\n",
    "        bias_change+=first_two[j][0]*1\n",
    "    bias=bias-lr*bias_change\n",
    "output=sig(np.dot(x,weights)+bias)\n",
    "weights,bias,output"
   ]
  },
  {
   "cell_type": "code",
   "execution_count": 10,
   "id": "dbf111e2",
   "metadata": {},
   "outputs": [
    {
     "data": {
      "text/plain": [
       "(array([[6.26813253],\n",
       "        [6.26813253]]),\n",
       " array([-9.49202954]),\n",
       " array([[7.54451248e-05],\n",
       "        [3.82762734e-02],\n",
       "        [3.82762735e-02],\n",
       "        [9.54533004e-01]]))"
      ]
     },
     "execution_count": 10,
     "metadata": {},
     "output_type": "execute_result"
    }
   ],
   "source": [
    "#forward propagation without hidden layer\n",
    "lr=0.1\n",
    "for iter in range(10000):\n",
    "    output0=x\n",
    "    output=sig(np.dot(output0,weights)+bias)\n",
    "    \n",
    "    #Now we are doing backward propagation\n",
    "    first_term=output-y\n",
    "    input_for_last_layer=np.dot(output0,weights)+bias\n",
    "    second_term=derivativeSig(input_for_last_layer)\n",
    "    first_two=first_term*second_term\n",
    "    \n",
    "    changes=np.dot(output0.T,first_two)\n",
    "    weights=weights-lr*changes\n",
    "    bias_change=np.sum(first_two)\n",
    "    bias=bias-lr*bias_change\n",
    "output=sig(np.dot(x,weights)+bias)\n",
    "weights,bias,output"
   ]
  },
  {
   "cell_type": "code",
   "execution_count": null,
   "id": "0a7b19aa",
   "metadata": {},
   "outputs": [],
   "source": []
  }
 ],
 "metadata": {
  "kernelspec": {
   "display_name": "Python 3 (ipykernel)",
   "language": "python",
   "name": "python3"
  },
  "language_info": {
   "codemirror_mode": {
    "name": "ipython",
    "version": 3
   },
   "file_extension": ".py",
   "mimetype": "text/x-python",
   "name": "python",
   "nbconvert_exporter": "python",
   "pygments_lexer": "ipython3",
   "version": "3.11.4"
  }
 },
 "nbformat": 4,
 "nbformat_minor": 5
}
