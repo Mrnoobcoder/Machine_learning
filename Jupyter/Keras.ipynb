{
 "cells": [
  {
   "cell_type": "code",
   "execution_count": 1,
   "id": "ecea28a7",
   "metadata": {},
   "outputs": [],
   "source": [
    "from keras.models import Sequential\n",
    "from keras.layers import Dense"
   ]
  },
  {
   "cell_type": "code",
   "execution_count": 2,
   "id": "21c729ae",
   "metadata": {},
   "outputs": [],
   "source": [
    "#Creating a model\n",
    "model=Sequential()"
   ]
  },
  {
   "cell_type": "code",
   "execution_count": 3,
   "id": "bb309312",
   "metadata": {},
   "outputs": [],
   "source": [
    "#adding layers\n",
    "layer1=Dense(units=32,activation='relu',input_dim=30)\n",
    "model.add(layer1)\n",
    "model.add(Dense(units=16,activation='relu'))#second hidden layer added\n",
    "model.add(Dense(units=1,activation='sigmoid'))#output layer\n",
    "#we are by default taking biases"
   ]
  },
  {
   "cell_type": "code",
   "execution_count": 4,
   "id": "bb0706df",
   "metadata": {},
   "outputs": [],
   "source": [
    "#compiling\n",
    "model.compile(optimizer='adam',loss='binary_crossentropy',metrics=['accuracy'])"
   ]
  },
  {
   "cell_type": "code",
   "execution_count": 5,
   "id": "cafb226f",
   "metadata": {},
   "outputs": [],
   "source": [
    "from sklearn import datasets\n",
    "from sklearn.model_selection import train_test_split\n",
    "from sklearn.preprocessing import StandardScaler\n",
    "\n",
    "cancer=datasets.load_breast_cancer()\n",
    "x_train,x_test,y_train,y_test=train_test_split(cancer.data,cancer.target,test_size=0.2,random_state=0)\n",
    "\n",
    "sc=StandardScaler()\n",
    "x_train=sc.fit_transform(x_train)\n",
    "x_test=sc.fit_transform(x_test)"
   ]
  },
  {
   "cell_type": "code",
   "execution_count": 6,
   "id": "6d6490b4",
   "metadata": {},
   "outputs": [
    {
     "name": "stdout",
     "output_type": "stream",
     "text": [
      "Epoch 1/20\n",
      "10/10 [==============================] - 1s 25ms/step - loss: 0.6530 - accuracy: 0.6505 - val_loss: 0.5612 - val_accuracy: 0.8421\n",
      "Epoch 2/20\n",
      "10/10 [==============================] - 0s 5ms/step - loss: 0.5197 - accuracy: 0.8637 - val_loss: 0.4633 - val_accuracy: 0.9035\n",
      "Epoch 3/20\n",
      "10/10 [==============================] - 0s 5ms/step - loss: 0.4258 - accuracy: 0.9143 - val_loss: 0.3757 - val_accuracy: 0.9298\n",
      "Epoch 4/20\n",
      "10/10 [==============================] - 0s 5ms/step - loss: 0.3425 - accuracy: 0.9275 - val_loss: 0.3021 - val_accuracy: 0.9211\n",
      "Epoch 5/20\n",
      "10/10 [==============================] - 0s 5ms/step - loss: 0.2716 - accuracy: 0.9363 - val_loss: 0.2492 - val_accuracy: 0.9298\n",
      "Epoch 6/20\n",
      "10/10 [==============================] - 0s 5ms/step - loss: 0.2200 - accuracy: 0.9429 - val_loss: 0.2152 - val_accuracy: 0.9298\n",
      "Epoch 7/20\n",
      "10/10 [==============================] - 0s 6ms/step - loss: 0.1841 - accuracy: 0.9451 - val_loss: 0.1916 - val_accuracy: 0.9298\n",
      "Epoch 8/20\n",
      "10/10 [==============================] - 0s 4ms/step - loss: 0.1580 - accuracy: 0.9538 - val_loss: 0.1730 - val_accuracy: 0.9298\n",
      "Epoch 9/20\n",
      "10/10 [==============================] - 0s 6ms/step - loss: 0.1387 - accuracy: 0.9538 - val_loss: 0.1586 - val_accuracy: 0.9211\n",
      "Epoch 10/20\n",
      "10/10 [==============================] - 0s 4ms/step - loss: 0.1248 - accuracy: 0.9648 - val_loss: 0.1480 - val_accuracy: 0.9211\n",
      "Epoch 11/20\n",
      "10/10 [==============================] - 0s 4ms/step - loss: 0.1135 - accuracy: 0.9670 - val_loss: 0.1405 - val_accuracy: 0.9211\n",
      "Epoch 12/20\n",
      "10/10 [==============================] - 0s 4ms/step - loss: 0.1056 - accuracy: 0.9692 - val_loss: 0.1340 - val_accuracy: 0.9211\n",
      "Epoch 13/20\n",
      "10/10 [==============================] - 0s 4ms/step - loss: 0.0984 - accuracy: 0.9692 - val_loss: 0.1287 - val_accuracy: 0.9386\n",
      "Epoch 14/20\n",
      "10/10 [==============================] - 0s 4ms/step - loss: 0.0932 - accuracy: 0.9714 - val_loss: 0.1239 - val_accuracy: 0.9474\n",
      "Epoch 15/20\n",
      "10/10 [==============================] - 0s 4ms/step - loss: 0.0881 - accuracy: 0.9714 - val_loss: 0.1177 - val_accuracy: 0.9474\n",
      "Epoch 16/20\n",
      "10/10 [==============================] - 0s 5ms/step - loss: 0.0836 - accuracy: 0.9758 - val_loss: 0.1134 - val_accuracy: 0.9474\n",
      "Epoch 17/20\n",
      "10/10 [==============================] - 0s 4ms/step - loss: 0.0800 - accuracy: 0.9780 - val_loss: 0.1100 - val_accuracy: 0.9474\n",
      "Epoch 18/20\n",
      "10/10 [==============================] - 0s 4ms/step - loss: 0.0767 - accuracy: 0.9802 - val_loss: 0.1072 - val_accuracy: 0.9474\n",
      "Epoch 19/20\n",
      "10/10 [==============================] - 0s 4ms/step - loss: 0.0736 - accuracy: 0.9824 - val_loss: 0.1050 - val_accuracy: 0.9474\n",
      "Epoch 20/20\n",
      "10/10 [==============================] - 0s 4ms/step - loss: 0.0711 - accuracy: 0.9824 - val_loss: 0.1024 - val_accuracy: 0.9474\n"
     ]
    },
    {
     "data": {
      "text/plain": [
       "<keras.src.callbacks.History at 0x1bb816c3310>"
      ]
     },
     "execution_count": 6,
     "metadata": {},
     "output_type": "execute_result"
    }
   ],
   "source": [
    "#Fit\n",
    "model.fit(x_train,y_train,epochs=20,batch_size=50,validation_data=(x_test,y_test))"
   ]
  },
  {
   "cell_type": "code",
   "execution_count": 7,
   "id": "cc6ab0be",
   "metadata": {},
   "outputs": [
    {
     "name": "stdout",
     "output_type": "stream",
     "text": [
      "4/4 [==============================] - 0s 3ms/step\n",
      "4/4 [==============================] - 0s 4ms/step - loss: 0.1024 - accuracy: 0.9474\n",
      "[[4.8698775e-02]\n",
      " [9.8082507e-01]\n",
      " [9.9910730e-01]\n",
      " [9.9414939e-01]\n",
      " [9.9939466e-01]\n",
      " [9.9538594e-01]\n",
      " [9.9964702e-01]\n",
      " [9.9849647e-01]\n",
      " [9.9959534e-01]\n",
      " [9.9935824e-01]\n",
      " [5.9290040e-01]\n",
      " [9.2417473e-01]\n",
      " [9.9995458e-01]\n",
      " [5.0009406e-01]\n",
      " [4.5004517e-01]\n",
      " [2.1211138e-02]\n",
      " [9.9854267e-01]\n",
      " [1.4607058e-03]\n",
      " [3.4908308e-03]\n",
      " [2.0001180e-05]\n",
      " [3.3469051e-02]\n",
      " [4.0071748e-02]\n",
      " [9.9622875e-01]\n",
      " [9.9850845e-01]\n",
      " [2.7589682e-03]\n",
      " [9.9884808e-01]\n",
      " [9.9989974e-01]\n",
      " [5.3117473e-02]\n",
      " [9.9849576e-01]\n",
      " [4.4399739e-04]\n",
      " [9.9971616e-01]\n",
      " [2.3111885e-03]\n",
      " [9.0747774e-01]\n",
      " [4.0525090e-02]\n",
      " [9.9997753e-01]\n",
      " [7.2646029e-02]\n",
      " [9.9365479e-01]\n",
      " [7.5222952e-03]\n",
      " [9.9170536e-01]\n",
      " [4.3783080e-02]\n",
      " [3.5438988e-01]\n",
      " [9.9980479e-01]\n",
      " [3.3238438e-01]\n",
      " [9.9970889e-01]\n",
      " [9.1093868e-01]\n",
      " [2.1076132e-05]\n",
      " [9.9998391e-01]\n",
      " [9.7378749e-01]\n",
      " [9.9788618e-01]\n",
      " [6.3511669e-03]\n",
      " [1.4965549e-04]\n",
      " [2.1338135e-01]\n",
      " [5.4419455e-03]\n",
      " [9.9894470e-01]\n",
      " [9.9643040e-01]\n",
      " [9.9901724e-01]\n",
      " [9.9905401e-01]\n",
      " [9.8443252e-01]\n",
      " [9.9603456e-01]\n",
      " [6.2248523e-06]\n",
      " [1.1166639e-01]\n",
      " [3.3029661e-02]\n",
      " [9.9991697e-01]\n",
      " [9.9401975e-01]\n",
      " [9.6556637e-04]\n",
      " [9.1440988e-01]\n",
      " [1.6328386e-08]\n",
      " [1.8693650e-03]\n",
      " [3.2593202e-04]\n",
      " [9.9690562e-01]\n",
      " [7.2557670e-01]\n",
      " [1.6557282e-03]\n",
      " [9.9771339e-01]\n",
      " [5.3815776e-01]\n",
      " [1.2936523e-04]\n",
      " [9.8685467e-01]\n",
      " [9.9989969e-01]\n",
      " [9.5443016e-01]\n",
      " [9.9957740e-01]\n",
      " [9.9888366e-01]\n",
      " [5.9222657e-02]\n",
      " [8.1658487e-07]\n",
      " [2.2263527e-03]\n",
      " [9.9942291e-01]\n",
      " [4.7907248e-02]\n",
      " [9.9887317e-01]\n",
      " [9.9990857e-01]\n",
      " [9.9995214e-01]\n",
      " [7.8740800e-03]\n",
      " [1.1273029e-06]\n",
      " [9.9992967e-01]\n",
      " [6.1791790e-01]\n",
      " [3.6578786e-01]\n",
      " [1.2769185e-03]\n",
      " [9.9302852e-01]\n",
      " [9.9650317e-01]\n",
      " [1.6428364e-04]\n",
      " [9.8434788e-01]\n",
      " [9.9012458e-01]\n",
      " [9.9483067e-01]\n",
      " [9.9998903e-01]\n",
      " [9.9886727e-01]\n",
      " [9.9599773e-01]\n",
      " [8.5838026e-01]\n",
      " [1.3138258e-03]\n",
      " [9.9908197e-01]\n",
      " [3.2148219e-04]\n",
      " [9.0603864e-01]\n",
      " [8.6309040e-01]\n",
      " [8.5649353e-01]\n",
      " [9.7607940e-01]\n",
      " [1.0929077e-03]\n",
      " [4.8744371e-03]\n",
      " [9.6023995e-01]]\n",
      "[0.10242850333452225, 0.9473684430122375]\n"
     ]
    }
   ],
   "source": [
    "predictions=model.predict(x_test)\n",
    "score=model.evaluate(x_test,y_test)\n",
    "print(predictions)\n",
    "print(score)"
   ]
  },
  {
   "cell_type": "code",
   "execution_count": null,
   "id": "d53639b7",
   "metadata": {},
   "outputs": [],
   "source": []
  }
 ],
 "metadata": {
  "kernelspec": {
   "display_name": "Python 3 (ipykernel)",
   "language": "python",
   "name": "python3"
  },
  "language_info": {
   "codemirror_mode": {
    "name": "ipython",
    "version": 3
   },
   "file_extension": ".py",
   "mimetype": "text/x-python",
   "name": "python",
   "nbconvert_exporter": "python",
   "pygments_lexer": "ipython3",
   "version": "3.11.4"
  }
 },
 "nbformat": 4,
 "nbformat_minor": 5
}
