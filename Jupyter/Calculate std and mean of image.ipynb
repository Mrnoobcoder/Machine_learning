{
 "cells": [
  {
   "cell_type": "code",
   "execution_count": 2,
   "id": "8a6ca509",
   "metadata": {},
   "outputs": [
    {
     "name": "stdout",
     "output_type": "stream",
     "text": [
      "Mean: tensor([0.3570, 0.7503, 0.5559])\n",
      "Std: tensor([0.3445, 0.0633, 0.2608])\n"
     ]
    }
   ],
   "source": [
    "import torch\n",
    "from torchvision import datasets, transforms\n",
    "from torch.utils.data import DataLoader\n",
    "\n",
    "# Define the transformation\n",
    "transform = transforms.Compose([\n",
    "    transforms.Resize((224, 224)),\n",
    "    transforms.ToTensor(),\n",
    "])\n",
    "\n",
    "# Load your dataset\n",
    "dataset = datasets.ImageFolder('G:\\Vinay_Canabis\\Lead_I', transform=transform)\n",
    "dataloader = DataLoader(dataset, batch_size=64, shuffle=False, num_workers=4)\n",
    "\n",
    "# Variables to store total and squared sum\n",
    "total = torch.tensor([0.0, 0.0, 0.0])\n",
    "squared_total = torch.tensor([0.0, 0.0, 0.0])\n",
    "n_pixels = 0\n",
    "\n",
    "for data, _ in dataloader:\n",
    "    # 'data' is a batch of images with shape [batch_size, 3, height, width]\n",
    "    # Reshape data: (batch_size, 3, height, width) -> (batch_size, 3, height * width)\n",
    "    data = data.view(data.size(0), 3, -1)\n",
    "\n",
    "    # Sum up the pixel values and squared pixel values\n",
    "    total += data.sum(dim=[0, 2])\n",
    "    squared_total += (data ** 2).sum(dim=[0, 2])\n",
    "\n",
    "    # Accumulate the total number of pixels\n",
    "    n_pixels += data.size(0) * data.size(2)\n",
    "\n",
    "# Calculate the mean and standard deviation\n",
    "mean = total / n_pixels\n",
    "std = (squared_total / n_pixels - mean ** 2).sqrt()\n",
    "\n",
    "print('Mean:', mean)\n",
    "print('Std:', std)"
   ]
  },
  {
   "cell_type": "code",
   "execution_count": null,
   "id": "57b0e642",
   "metadata": {},
   "outputs": [],
   "source": []
  }
 ],
 "metadata": {
  "kernelspec": {
   "display_name": "Python 3 (ipykernel)",
   "language": "python",
   "name": "python3"
  },
  "language_info": {
   "codemirror_mode": {
    "name": "ipython",
    "version": 3
   },
   "file_extension": ".py",
   "mimetype": "text/x-python",
   "name": "python",
   "nbconvert_exporter": "python",
   "pygments_lexer": "ipython3",
   "version": "3.9.13"
  }
 },
 "nbformat": 4,
 "nbformat_minor": 5
}
