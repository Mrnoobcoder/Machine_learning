{
 "cells": [
  {
   "cell_type": "code",
   "execution_count": 1,
   "id": "c8996c87",
   "metadata": {},
   "outputs": [],
   "source": [
    "import tensorflow as tf\n",
    "from tensorflow.keras.models import Sequential\n",
    "from tensorflow.keras.layers import Dense"
   ]
  },
  {
   "cell_type": "code",
   "execution_count": 2,
   "id": "0ed051de",
   "metadata": {},
   "outputs": [],
   "source": [
    "import numpy as np\n",
    "data=np.random.random((1000,10))\n",
    "labels=np.random.randint(2,size=(1000,1))"
   ]
  },
  {
   "cell_type": "code",
   "execution_count": 3,
   "id": "ecb740b7",
   "metadata": {},
   "outputs": [],
   "source": [
    "#model selection\n",
    "model=Sequential()\n",
    "#adding layers\n",
    "model.add(Dense(32,activation='relu',input_shape=(10,)))\n",
    "model.add(Dense(1,activation='sigmoid'))"
   ]
  },
  {
   "cell_type": "code",
   "execution_count": 4,
   "id": "113e1aab",
   "metadata": {},
   "outputs": [],
   "source": [
    "#compiling the model\n",
    "model.compile(optimizer='adam',loss='binary_crossentropy',metrics=['accuracy'])"
   ]
  },
  {
   "cell_type": "code",
   "execution_count": 5,
   "id": "b58ddf9e",
   "metadata": {},
   "outputs": [
    {
     "name": "stdout",
     "output_type": "stream",
     "text": [
      "Epoch 1/10\n",
      "25/25 [==============================] - 2s 11ms/step - loss: 0.7019 - accuracy: 0.4437 - val_loss: 0.6901 - val_accuracy: 0.5150\n",
      "Epoch 2/10\n",
      "25/25 [==============================] - 0s 2ms/step - loss: 0.6994 - accuracy: 0.4613 - val_loss: 0.6892 - val_accuracy: 0.5250\n",
      "Epoch 3/10\n",
      "25/25 [==============================] - 0s 2ms/step - loss: 0.6969 - accuracy: 0.4850 - val_loss: 0.6895 - val_accuracy: 0.5150\n",
      "Epoch 4/10\n",
      "25/25 [==============================] - 0s 2ms/step - loss: 0.6961 - accuracy: 0.4900 - val_loss: 0.6893 - val_accuracy: 0.5300\n",
      "Epoch 5/10\n",
      "25/25 [==============================] - 0s 2ms/step - loss: 0.6945 - accuracy: 0.4875 - val_loss: 0.6889 - val_accuracy: 0.5350\n",
      "Epoch 6/10\n",
      "25/25 [==============================] - 0s 2ms/step - loss: 0.6940 - accuracy: 0.5125 - val_loss: 0.6874 - val_accuracy: 0.5750\n",
      "Epoch 7/10\n",
      "25/25 [==============================] - 0s 2ms/step - loss: 0.6926 - accuracy: 0.5063 - val_loss: 0.6889 - val_accuracy: 0.5550\n",
      "Epoch 8/10\n",
      "25/25 [==============================] - 0s 4ms/step - loss: 0.6924 - accuracy: 0.4975 - val_loss: 0.6884 - val_accuracy: 0.5750\n",
      "Epoch 9/10\n",
      "25/25 [==============================] - 0s 2ms/step - loss: 0.6925 - accuracy: 0.5138 - val_loss: 0.6876 - val_accuracy: 0.5450\n",
      "Epoch 10/10\n",
      "25/25 [==============================] - 0s 2ms/step - loss: 0.6914 - accuracy: 0.5250 - val_loss: 0.6893 - val_accuracy: 0.5350\n"
     ]
    },
    {
     "data": {
      "text/plain": [
       "<keras.src.callbacks.History at 0x2668b688f90>"
      ]
     },
     "execution_count": 5,
     "metadata": {},
     "output_type": "execute_result"
    }
   ],
   "source": [
    "#train the model\n",
    "model.fit(data,labels,epochs=10,batch_size=32,validation_split=0.2)"
   ]
  },
  {
   "cell_type": "code",
   "execution_count": 6,
   "id": "2d00e7eb",
   "metadata": {},
   "outputs": [
    {
     "name": "stdout",
     "output_type": "stream",
     "text": [
      "7/7 [==============================] - 0s 2ms/step - loss: 0.6963 - accuracy: 0.4850\n",
      "Test accuracy:0.48500001430511475\n"
     ]
    }
   ],
   "source": [
    "#evaluate the model\n",
    "test_data=np.random.random((200,10))\n",
    "test_labels=np.random.randint(2,size=(200,1))\n",
    "\n",
    "loss,accuracy=model.evaluate(test_data,test_labels)\n",
    "print(f'Test accuracy:{accuracy}')"
   ]
  },
  {
   "cell_type": "code",
   "execution_count": null,
   "id": "e970702a",
   "metadata": {},
   "outputs": [],
   "source": []
  }
 ],
 "metadata": {
  "kernelspec": {
   "display_name": "Python 3 (ipykernel)",
   "language": "python",
   "name": "python3"
  },
  "language_info": {
   "codemirror_mode": {
    "name": "ipython",
    "version": 3
   },
   "file_extension": ".py",
   "mimetype": "text/x-python",
   "name": "python",
   "nbconvert_exporter": "python",
   "pygments_lexer": "ipython3",
   "version": "3.11.4"
  }
 },
 "nbformat": 4,
 "nbformat_minor": 5
}
