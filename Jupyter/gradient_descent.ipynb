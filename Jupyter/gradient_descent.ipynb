{
 "cells": [
  {
   "cell_type": "code",
   "execution_count": 1,
   "id": "f57fe8c1",
   "metadata": {},
   "outputs": [],
   "source": [
    "import pandas as pd\n",
    "import numpy as np"
   ]
  },
  {
   "cell_type": "code",
   "execution_count": 29,
   "id": "547b7dd7",
   "metadata": {},
   "outputs": [
    {
     "data": {
      "text/plain": [
       "(999, 2)"
      ]
     },
     "execution_count": 29,
     "metadata": {},
     "output_type": "execute_result"
    }
   ],
   "source": [
    "data=np.loadtxt('dia.csv',delimiter=',',skiprows=1,dtype=str)\n",
    "x=data[1:1000,2]\n",
    "y=data[1:1000,7]\n",
    "x1=[eval(i) for i in x]\n",
    "y1=[eval(i) for i in y]\n",
    "x2=np.array(x1)\n",
    "y2=np.array(y1)\n",
    "\n",
    "points =(np.vstack((x2, y2))).T\n",
    "points.shape"
   ]
  },
  {
   "cell_type": "code",
   "execution_count": 36,
   "id": "ab42e619",
   "metadata": {},
   "outputs": [],
   "source": [
    "def grad(points,lr,m,c):\n",
    "    m_slope=0\n",
    "    c_slope=0\n",
    "    M=len(points)\n",
    "    for i in range(M):\n",
    "        x=points[i,0]\n",
    "        y=points[i,1]\n",
    "        m_slope+=(-2/M)*(y-m*x-c)*x\n",
    "        c_slope+=(-2/M)*(y-m*x-c)\n",
    "    new_m=m-lr*m_slope\n",
    "    new_c=c-lr*c_slope\n",
    "    return new_m,new_c"
   ]
  },
  {
   "cell_type": "code",
   "execution_count": 37,
   "id": "81eef8e0",
   "metadata": {},
   "outputs": [],
   "source": [
    "def gd(points,lr,itr):\n",
    "    m=0\n",
    "    c=0\n",
    "    for i in range(itr):\n",
    "        m,c=grad(points,lr,m,c)\n",
    "        print(i,\"Cost:\",cost(points,m,c))\n",
    "    return m,c\n",
    "    "
   ]
  },
  {
   "cell_type": "code",
   "execution_count": 40,
   "id": "fa1f2c74",
   "metadata": {},
   "outputs": [],
   "source": [
    "def cost(points,m,c):\n",
    "    total_cost=0\n",
    "    M=len(points)\n",
    "    for i in range(M):\n",
    "        x=points[i,0]\n",
    "        y=points[i,1]\n",
    "        total_cost+=(1/M)*((y-m*x-c)**2)\n",
    "    return total_cost"
   ]
  },
  {
   "cell_type": "code",
   "execution_count": 53,
   "id": "9aba975f",
   "metadata": {},
   "outputs": [],
   "source": [
    "def run():\n",
    "    lr=0.00001\n",
    "    itr=10\n",
    "    m,c=gd(points,lr,itr)\n",
    "    print(m,c)"
   ]
  },
  {
   "cell_type": "code",
   "execution_count": 54,
   "id": "a814cc4b",
   "metadata": {},
   "outputs": [
    {
     "name": "stdout",
     "output_type": "stream",
     "text": [
      "0 Cost: 96.28950203630374\n",
      "1 Cost: 80.86973120499265\n",
      "2 Cost: 77.6020930697681\n",
      "3 Cost: 76.90963808710798\n",
      "4 Cost: 76.76289540329053\n",
      "5 Cost: 76.73179572251465\n",
      "6 Cost: 76.72520218570557\n",
      "7 Cost: 76.72380179571883\n",
      "8 Cost: 76.72350189605373\n",
      "9 Cost: 76.7234352035485\n",
      "0.058469994565028334 0.00039300822477226837\n"
     ]
    }
   ],
   "source": [
    "run()"
   ]
  },
  {
   "cell_type": "code",
   "execution_count": null,
   "id": "4b0fb1f8",
   "metadata": {},
   "outputs": [],
   "source": []
  }
 ],
 "metadata": {
  "kernelspec": {
   "display_name": "Python 3 (ipykernel)",
   "language": "python",
   "name": "python3"
  },
  "language_info": {
   "codemirror_mode": {
    "name": "ipython",
    "version": 3
   },
   "file_extension": ".py",
   "mimetype": "text/x-python",
   "name": "python",
   "nbconvert_exporter": "python",
   "pygments_lexer": "ipython3",
   "version": "3.11.4"
  }
 },
 "nbformat": 4,
 "nbformat_minor": 5
}
