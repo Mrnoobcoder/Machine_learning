{
 "cells": [
  {
   "cell_type": "code",
   "execution_count": 1,
   "id": "f7953b52",
   "metadata": {},
   "outputs": [],
   "source": [
    "import numpy as np"
   ]
  },
  {
   "cell_type": "code",
   "execution_count": 2,
   "id": "21c11e25",
   "metadata": {},
   "outputs": [
    {
     "data": {
      "text/plain": [
       "((4, 2), (4, 1))"
      ]
     },
     "execution_count": 2,
     "metadata": {},
     "output_type": "execute_result"
    }
   ],
   "source": [
    "x=np.array([[0,0],[0,1],[1,0],[1,1]])\n",
    "y=np.array([[0,1,1,0]]).T\n",
    "x.shape,y.shape"
   ]
  },
  {
   "cell_type": "code",
   "execution_count": 3,
   "id": "300bde62",
   "metadata": {},
   "outputs": [],
   "source": [
    "def sig(z):\n",
    "    return 1/(1+np.exp(-z))"
   ]
  },
  {
   "cell_type": "code",
   "execution_count": 4,
   "id": "ae87ddca",
   "metadata": {},
   "outputs": [],
   "source": [
    "def derivativeSig(z):\n",
    "    return sig(z)*(1-sig(z))"
   ]
  },
  {
   "cell_type": "code",
   "execution_count": 14,
   "id": "a7675d7f",
   "metadata": {},
   "outputs": [],
   "source": [
    "#one hidden layer weights\n",
    "wh=2*np.random.random((2,2))-1\n",
    "bh=2*np.random.random((1,2))-1\n",
    "wo=2*np.random.random((2,1))-1\n",
    "bo=2*np.random.random((1,1))-1\n"
   ]
  },
  {
   "cell_type": "code",
   "execution_count": 18,
   "id": "36b7afc3",
   "metadata": {},
   "outputs": [
    {
     "data": {
      "text/plain": [
       "(array([[0.03106018],\n",
       "        [0.65415572],\n",
       "        [0.67597801],\n",
       "        [0.66629314]]),\n",
       " array([[-6.63140263, -0.37205732],\n",
       "        [-7.64122344,  0.34333963]]),\n",
       " array([[0.45548079, 1.72992818]]),\n",
       " array([[-6.74489078],\n",
       "        [-1.15093879]]),\n",
       " array([[1.66481411]]))"
      ]
     },
     "execution_count": 18,
     "metadata": {},
     "output_type": "execute_result"
    }
   ],
   "source": [
    "#forward propagation with one hidden layer\n",
    "lr=.5\n",
    "for iter in range(10000):\n",
    "    output0=x\n",
    "    inputHidden=np.dot(output0,wh)+bh\n",
    "    outputHidden=sig(inputHidden)\n",
    "    inputForOutputLayer=np.dot(outputHidden,wo)+bo\n",
    "    output=sig(inputForOutputLayer)\n",
    "\n",
    "    first_term_output_layer=output-y\n",
    "    second_term_output_layer=derivativeSig(inputForOutputLayer)\n",
    "    first_two_output_layer=first_term_output_layer*second_term_output_layer\n",
    "\n",
    "    first_term_hidden_layer=np.dot(first_two_output_layer,wo.T)\n",
    "    second_term_hidden_layer=derivativeSig(inputHidden)\n",
    "    first_two_hidden_layer=first_term_hidden_layer*second_term_hidden_layer\n",
    "\n",
    "    changes_output=np.dot(outputHidden.T,first_two_output_layer)\n",
    "    changes_output_bias=np.sum(first_two_output_layer,axis=0,keepdims=True)\n",
    "\n",
    "    changes_hidden=np.dot(output.T,first_two_hidden_layer)\n",
    "    changes_hidden_bias=np.sum(first_two_hidden_layer,axis=0,keepdims=True)\n",
    "\n",
    "    wo=wo-lr*changes_output\n",
    "    bo=bo-lr*changes_output_bias\n",
    "\n",
    "    wh=wh-lr*changes_hidden\n",
    "    bh=bh-lr*changes_hidden_bias\n",
    "\n",
    "output0=x\n",
    "inputHidden=np.dot(output0,wh)+bh\n",
    "outputHidden=sig(inputHidden)\n",
    "inputForOutputLayer=np.dot(outputHidden,wo)+bo\n",
    "output=sig(inputForOutputLayer)\n",
    "output,wh,bh,wo,bo  \n",
    "\n",
    "                                "
   ]
  },
  {
   "cell_type": "code",
   "execution_count": null,
   "id": "6d759648",
   "metadata": {},
   "outputs": [],
   "source": []
  }
 ],
 "metadata": {
  "kernelspec": {
   "display_name": "Python 3 (ipykernel)",
   "language": "python",
   "name": "python3"
  },
  "language_info": {
   "codemirror_mode": {
    "name": "ipython",
    "version": 3
   },
   "file_extension": ".py",
   "mimetype": "text/x-python",
   "name": "python",
   "nbconvert_exporter": "python",
   "pygments_lexer": "ipython3",
   "version": "3.11.4"
  }
 },
 "nbformat": 4,
 "nbformat_minor": 5
}
