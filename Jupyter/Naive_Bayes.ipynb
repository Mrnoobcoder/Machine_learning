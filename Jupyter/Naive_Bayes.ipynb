{
 "cells": [
  {
   "cell_type": "code",
   "execution_count": 1,
   "id": "3db37df8",
   "metadata": {},
   "outputs": [],
   "source": [
    "import numpy as np"
   ]
  },
  {
   "cell_type": "code",
   "execution_count": 4,
   "id": "241caa1c",
   "metadata": {},
   "outputs": [],
   "source": [
    "def fit(x_train,y_train):\n",
    "    result={}\n",
    "    class_values=set(y_train) #distinct values of class\n",
    "    for current_class in class_values:\n",
    "        #Now every class will have a dictionary i.e, different features\n",
    "        result[current_class]={}\n",
    "        #total data\n",
    "        result[\"total_data\"]=len(y_train)\n",
    "        #We have to select that training data which have current class\n",
    "        current_class_rows=(y_train==current_class)#We will get boolean values\n",
    "        x_train_current=x_train[current_class_rows]\n",
    "        y_train_current=y_train[current_class_rows]\n",
    "        num_features=x_train.shape[1]#no of features\n",
    "        #total count of training data which belongs to current class \n",
    "        result[current_class][\"total_count\"]=len(y_train_current)\n",
    "        for j in range(1,num_features+1):\n",
    "            #Now for each features,we will create new dictinary to store the different values of that feature\n",
    "            result[current_class][j]={}\n",
    "            all_possible_values=set(x_train[:,j-1]) #distinct values of a feature\n",
    "            for current_value in all_possible_values:\n",
    "                #Now every distinct values wiil have some count\n",
    "                result[current_class][j][current_value]=(x_train_current[:,j-1]==current_value).sum()\n",
    "    return result\n",
    "    #it will give us a dictionary\n",
    "                "
   ]
  },
  {
   "cell_type": "code",
   "execution_count": 5,
   "id": "303e7b78",
   "metadata": {},
   "outputs": [],
   "source": [
    "def probability(dictionary,x,current_class):\n",
    "    output=np.log(dictionary[current_class][\"total_count\"])-np.log(dictionary[\"total_data\"]) \n",
    "    num_features=len(dictionary[current_class].keys())-1 #because \"total count is an extra key\"\n",
    "    for j in range(1,num_features+1):\n",
    "        xj=x[j-1]\n",
    "        count_current_class_with_value_xj=dictionary[current_class][j][xj]\n",
    "        count_current_class=dictionary[current_class][\"total_count\"]+len(dictionary[current_class][j].keys())\n",
    "        current_xj_probability=np.log(count_current_class_with_value_xj)-np.log(count_current_class)\n",
    "        output=output+current_xj_probability\n",
    "    return output"
   ]
  },
  {
   "cell_type": "code",
   "execution_count": 6,
   "id": "1dd70485",
   "metadata": {},
   "outputs": [],
   "source": [
    "def predictSinglePoint(dicionary,x):\n",
    "    #For single point we have predict which class it belongs to\n",
    "    classes=dictionary.keys()\n",
    "    best_p=-1000 #best probability\n",
    "    best_class=-1\n",
    "    first_run=True  # in the first run we are absolutely going to update\n",
    "    for current_class in classes:\n",
    "        if(current_class==\"total_data\"):\n",
    "            continue\n",
    "        #what is the probability that this x belongs to this current class\n",
    "        p_current_class=probability(dictionary,x,current_class)\n",
    "        if (first_run or p_current_class>best_p):\n",
    "            best_p=p_current_class\n",
    "            best_class=current_class\n",
    "        first_run=False \n",
    "    return best_class"
   ]
  },
  {
   "cell_type": "code",
   "execution_count": 7,
   "id": "8cf0ebfe",
   "metadata": {},
   "outputs": [],
   "source": [
    "def predict(dictionary,x_test):\n",
    "    #we are going to predict the class for the testing data\n",
    "    y_pred=[]\n",
    "    for x in x_test:\n",
    "        x_class=predictSinglePoint(dictionary,x) #predict the class\n",
    "        y_pred.append(x_class)\n",
    "    return y_pred"
   ]
  },
  {
   "cell_type": "code",
   "execution_count": 11,
   "id": "ed213f54",
   "metadata": {},
   "outputs": [],
   "source": [
    " def makeLabelled(column):\n",
    "        second_limit=column.mean()\n",
    "        first_limit=0.5*second_limit\n",
    "        third_limit=1.5*second_limit\n",
    "        for i in range(0,len(column)):\n",
    "            if(column[i]<first_limit):\n",
    "                column[i]=0\n",
    "            elif(column[i]<second_limit):\n",
    "                column[i]=1\n",
    "            elif(column[i]<third_limit):\n",
    "                column[i]=2\n",
    "            else:\n",
    "                column[i]=3\n",
    "        return column"
   ]
  },
  {
   "cell_type": "code",
   "execution_count": 12,
   "id": "80a59266",
   "metadata": {},
   "outputs": [],
   "source": [
    "from sklearn import datasets\n",
    "iris=datasets.load_iris()\n",
    "x=iris.data\n",
    "y=iris.target"
   ]
  },
  {
   "cell_type": "code",
   "execution_count": 13,
   "id": "21749a96",
   "metadata": {},
   "outputs": [],
   "source": [
    "for i in range(0,x.shape[-1]):\n",
    "    x[:,i]=makeLabelled(x[:,i])"
   ]
  },
  {
   "cell_type": "code",
   "execution_count": 14,
   "id": "f4740e5e",
   "metadata": {},
   "outputs": [],
   "source": [
    "from sklearn import model_selection\n",
    "x_train,x_test,y_train,y_test=model_selection.train_test_split(x,y,test_size=0.25,random_state=0)"
   ]
  },
  {
   "cell_type": "code",
   "execution_count": 15,
   "id": "802978a3",
   "metadata": {},
   "outputs": [],
   "source": [
    "dictionary=fit(x_train,y_train)"
   ]
  },
  {
   "cell_type": "code",
   "execution_count": 16,
   "id": "d5aa2d31",
   "metadata": {},
   "outputs": [
    {
     "name": "stderr",
     "output_type": "stream",
     "text": [
      "C:\\Users\\vikram kumar\\AppData\\Local\\Temp\\ipykernel_5108\\1858342055.py:8: RuntimeWarning: divide by zero encountered in log\n",
      "  current_xj_probability=np.log(count_current_class_with_value_xj)-np.log(count_current_class)\n"
     ]
    }
   ],
   "source": [
    "y_pred=predict(dictionary,x_test)"
   ]
  },
  {
   "cell_type": "code",
   "execution_count": 17,
   "id": "dddfe820",
   "metadata": {},
   "outputs": [
    {
     "name": "stdout",
     "output_type": "stream",
     "text": [
      "              precision    recall  f1-score   support\n",
      "\n",
      "           0       1.00      1.00      1.00        13\n",
      "           1       0.94      1.00      0.97        16\n",
      "           2       1.00      0.89      0.94         9\n",
      "\n",
      "    accuracy                           0.97        38\n",
      "   macro avg       0.98      0.96      0.97        38\n",
      "weighted avg       0.98      0.97      0.97        38\n",
      "\n",
      "[[13  0  0]\n",
      " [ 0 16  0]\n",
      " [ 0  1  8]]\n"
     ]
    }
   ],
   "source": [
    "from sklearn.metrics import classification_report, confusion_matrix\n",
    "print(classification_report(y_test,y_pred))\n",
    "print(confusion_matrix(y_test,y_pred))"
   ]
  },
  {
   "cell_type": "code",
   "execution_count": 18,
   "id": "afc7b9fd",
   "metadata": {},
   "outputs": [
    {
     "name": "stdout",
     "output_type": "stream",
     "text": [
      "              precision    recall  f1-score   support\n",
      "\n",
      "           0       1.00      0.85      0.92        13\n",
      "           1       0.76      1.00      0.86        16\n",
      "           2       1.00      0.67      0.80         9\n",
      "\n",
      "    accuracy                           0.87        38\n",
      "   macro avg       0.92      0.84      0.86        38\n",
      "weighted avg       0.90      0.87      0.87        38\n",
      "\n",
      "[[11  2  0]\n",
      " [ 0 16  0]\n",
      " [ 0  3  6]]\n"
     ]
    }
   ],
   "source": [
    "from sklearn.naive_bayes import GaussianNB\n",
    "clf=GaussianNB()\n",
    "clf.fit(x_train,y_train)\n",
    "y_pred=clf.predict(x_test)\n",
    "print(classification_report(y_test,y_pred))\n",
    "print(confusion_matrix(y_test,y_pred))"
   ]
  },
  {
   "cell_type": "code",
   "execution_count": null,
   "id": "9161066a",
   "metadata": {},
   "outputs": [],
   "source": [
    "from sklearn.naive_bayes import MultinomialNB\n",
    "clf=GaussNB()\n",
    "clf.fit(x_train,y_train)\n",
    "y_pred=clf.predict(x_test)\n",
    "print(classification_report(y_test,y_pred))\n",
    "print(confusion_matrix(y_test,y_pred))"
   ]
  }
 ],
 "metadata": {
  "kernelspec": {
   "display_name": "Python 3 (ipykernel)",
   "language": "python",
   "name": "python3"
  },
  "language_info": {
   "codemirror_mode": {
    "name": "ipython",
    "version": 3
   },
   "file_extension": ".py",
   "mimetype": "text/x-python",
   "name": "python",
   "nbconvert_exporter": "python",
   "pygments_lexer": "ipython3",
   "version": "3.11.4"
  }
 },
 "nbformat": 4,
 "nbformat_minor": 5
}
