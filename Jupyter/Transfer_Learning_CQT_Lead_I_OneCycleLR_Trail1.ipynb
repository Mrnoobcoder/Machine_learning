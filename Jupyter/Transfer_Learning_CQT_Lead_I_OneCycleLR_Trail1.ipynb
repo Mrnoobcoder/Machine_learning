{
 "cells": [
  {
   "cell_type": "code",
   "execution_count": 28,
   "id": "514aeb8e",
   "metadata": {},
   "outputs": [],
   "source": [
    "import torch\n",
    "import torch.nn as nn\n",
    "import torch.optim as optim\n",
    "from torch.optim import lr_scheduler\n",
    "from torchsummary import summary\n",
    "import numpy as np\n",
    "import torchvision\n",
    "from torchvision import datasets, models, transforms\n",
    "from torchvision.datasets import ImageFolder\n",
    "from tqdm import notebook\n",
    "from torch.utils.data import DataLoader, random_split\n",
    "from torchvision.utils import make_grid\n",
    "import matplotlib.pyplot as plt\n",
    "import time\n",
    "import os\n",
    "import copy\n",
    "import pandas as pd\n",
    "import matplotlib.pyplot as plt\n",
    "import seaborn as sns\n",
    "from sklearn.metrics import confusion_matrix, classification_report,precision_recall_curve"
   ]
  },
  {
   "cell_type": "markdown",
   "id": "4493ef0b",
   "metadata": {},
   "source": [
    "# Data"
   ]
  },
  {
   "cell_type": "code",
   "execution_count": 29,
   "id": "326a8f6d",
   "metadata": {},
   "outputs": [
    {
     "name": "stdout",
     "output_type": "stream",
     "text": [
      "['0', '1']\n"
     ]
    }
   ],
   "source": [
    "data_dir='G:\\Vinay_Canabis\\Lead_II'\n",
    "print(os.listdir(data_dir))"
   ]
  },
  {
   "cell_type": "code",
   "execution_count": 30,
   "id": "898f19aa",
   "metadata": {},
   "outputs": [
    {
     "name": "stdout",
     "output_type": "stream",
     "text": [
      "cuda:0\n"
     ]
    }
   ],
   "source": [
    "device = torch.device(\"cuda:0\" if torch.cuda.is_available() else \"cpu\")\n",
    "print(device)"
   ]
  },
  {
   "cell_type": "code",
   "execution_count": 31,
   "id": "d32cbea0",
   "metadata": {},
   "outputs": [],
   "source": [
    "transform = transforms.Compose([\n",
    "                transforms.ToTensor(),\n",
    "                transforms.Resize(size=(224,224)),\n",
    "                transforms.Normalize((0.3433, 0.7419, 0.5770), (0.3453, 0.0661, 0.2652))\n",
    "                ])"
   ]
  },
  {
   "cell_type": "code",
   "execution_count": 32,
   "id": "59d78715",
   "metadata": {},
   "outputs": [
    {
     "data": {
      "text/plain": [
       "(4867, 912, 304)"
      ]
     },
     "execution_count": 32,
     "metadata": {},
     "output_type": "execute_result"
    }
   ],
   "source": [
    "dataset=ImageFolder(data_dir,transform=transform)\n",
    "torch.manual_seed(42)\n",
    "train_ds, val_ds, test_ds = random_split(dataset, [0.8,0.15,0.05])\n",
    "len(train_ds),len(val_ds),len(test_ds)"
   ]
  },
  {
   "cell_type": "code",
   "execution_count": 33,
   "id": "4c6fa2db",
   "metadata": {},
   "outputs": [],
   "source": [
    "trainloader =DataLoader(train_ds, batch_size=32, shuffle=True,num_workers=4)\n",
    "valloader = DataLoader(val_ds, batch_size=32, shuffle=True,num_workers=4)"
   ]
  },
  {
   "cell_type": "code",
   "execution_count": 34,
   "id": "d789754d",
   "metadata": {},
   "outputs": [],
   "source": [
    "def evaluation(dataloader, model):\n",
    "    total, correct = 0, 0\n",
    "    model.eval()\n",
    "    for data in dataloader:\n",
    "        inputs, labels = data\n",
    "        inputs, labels = inputs.to(device), labels.to(device)\n",
    "        outputs = model(inputs)\n",
    "        _, pred = torch.max(outputs.data, 1)\n",
    "\n",
    "        total += labels.size(0)\n",
    "        correct += (pred == labels).sum().item()\n",
    "    return 100 * correct / total"
   ]
  },
  {
   "cell_type": "code",
   "execution_count": 35,
   "id": "980d5a2e",
   "metadata": {},
   "outputs": [],
   "source": [
    "def train_func(model, loss_fn, opt, trainloader, valloader, scheduler , epochs):\n",
    "    loss_epoch_arr = []\n",
    "    train_accuracy_lis = []\n",
    "    val_accuracy_lis = []\n",
    "    val_loss_epoch_arr = []\n",
    "\n",
    "    max_epochs = epochs\n",
    "    min_loss = 1000\n",
    "    model.train()\n",
    "\n",
    "    for epoch in notebook.tqdm(range(max_epochs), total=max_epochs, unit=\"epochs\"):\n",
    "        model.train()\n",
    "        for i, data in enumerate(trainloader, 0):\n",
    "    \n",
    "            inputs, labels = data\n",
    "            inputs, labels = inputs.to(device), labels.to(device)\n",
    "            opt.zero_grad()\n",
    "            outputs = model(inputs)\n",
    "            loss = loss_fn(outputs, labels)\n",
    "            loss.backward()\n",
    "            opt.step()\n",
    "\n",
    "            if min_loss > loss.item():\n",
    "                min_loss = loss.item()\n",
    "                best_model = copy.deepcopy(model.state_dict())\n",
    "                print(\"Min loss %0.2f\" %min_loss)\n",
    "            del inputs, labels, outputs\n",
    "            if torch.cuda.is_available():\n",
    "                torch.cuda.empty_cache()\n",
    "            if i % 2000 == 0:\n",
    "                print('Iteration: %d, Loss: %0.2f' % (i, loss.item()))\n",
    "            \n",
    "       \n",
    "        loss_epoch_arr.append(loss.item())\n",
    "        train_accuracy = evaluation(trainloader, model)\n",
    "        val_accuracy = evaluation(valloader, model)\n",
    "        print('Epoch: %d/%d, Test acc: %0.2f, Train acc: %0.2f' % (\n",
    "              epoch, max_epochs, val_accuracy, train_accuracy))\n",
    "        train_accuracy_lis.append(train_accuracy)\n",
    "        val_accuracy_lis.append(val_accuracy)\n",
    "    \n",
    "        model.eval()\n",
    "        with torch.no_grad():\n",
    "            for i, data in enumerate(valloader, 0):\n",
    "                inputs, labels = data\n",
    "                inputs, labels = inputs.to(device), labels.to(device)\n",
    "                outputs = model(inputs)\n",
    "                loss = loss_fn(outputs, labels)\n",
    "\n",
    "        del inputs, labels, outputs\n",
    "        if torch.cuda.is_available():\n",
    "            torch.cuda.empty_cache()\n",
    "\n",
    "        val_loss_epoch_arr.append(loss.item())\n",
    "    return best_model, loss_epoch_arr, train_accuracy_lis, val_accuracy_lis, val_loss_epoch_arr"
   ]
  },
  {
   "cell_type": "code",
   "execution_count": 36,
   "id": "5077dbcd",
   "metadata": {
    "scrolled": true
   },
   "outputs": [],
   "source": [
    "def generate_classification_report(model, dataloader, device, filepath):\n",
    "    model.eval()\n",
    "    all_preds = []\n",
    "    all_labels = []\n",
    "\n",
    "    with torch.no_grad():\n",
    "        for data in dataloader:\n",
    "            inputs, labels = data\n",
    "            inputs, labels = inputs.to(device), labels.to(device)\n",
    "            outputs = model(inputs)\n",
    "            _, preds = torch.max(outputs, 1)\n",
    "            all_preds.append(preds)\n",
    "            all_labels.append(labels)\n",
    "\n",
    "    all_preds = torch.cat(all_preds).cpu().numpy()\n",
    "    all_labels = torch.cat(all_labels).cpu().numpy()\n",
    "\n",
    "    report = classification_report(all_labels, all_preds, target_names=[str(i) for i in range(len(set(all_labels)))])\n",
    "\n",
    "    # Save the classification report to a text file\n",
    "    with open(filepath, 'w') as f:\n",
    "        f.write(report)\n",
    "    \n",
    "    print(f\"Classification report saved to '{filepath}'\")"
   ]
  },
  {
   "cell_type": "code",
   "execution_count": 37,
   "id": "937d2223",
   "metadata": {
    "scrolled": true
   },
   "outputs": [],
   "source": [
    "def plot_evaluation_metrics(model, dataloader, device):\n",
    "    model.eval()\n",
    "    all_preds = []\n",
    "    all_labels = []\n",
    "\n",
    "    with torch.no_grad():\n",
    "        for data in dataloader:\n",
    "            inputs, labels = data\n",
    "            inputs, labels = inputs.to(device), labels.to(device)\n",
    "            outputs = model(inputs)\n",
    "            _, preds = torch.max(outputs, 1)\n",
    "            all_preds.append(preds)\n",
    "            all_labels.append(labels)\n",
    "\n",
    "    all_preds = torch.cat(all_preds).cpu().numpy()\n",
    "    all_labels = torch.cat(all_labels).cpu().numpy()\n",
    "    return all_preds, all_labels"
   ]
  },
  {
   "cell_type": "code",
   "execution_count": null,
   "id": "548d63e4",
   "metadata": {},
   "outputs": [],
   "source": []
  },
  {
   "cell_type": "markdown",
   "id": "5ca47e94",
   "metadata": {},
   "source": [
    "# Resnet50"
   ]
  },
  {
   "cell_type": "code",
   "execution_count": 38,
   "id": "572807cf",
   "metadata": {},
   "outputs": [],
   "source": [
    "resnet = models.resnet50(weights=True)"
   ]
  },
  {
   "cell_type": "code",
   "execution_count": 39,
   "id": "7ab59738",
   "metadata": {},
   "outputs": [],
   "source": [
    "for param in resnet.parameters():\n",
    "    param.requires_grad=True"
   ]
  },
  {
   "cell_type": "code",
   "execution_count": 40,
   "id": "b89f93b2",
   "metadata": {},
   "outputs": [],
   "source": [
    "num_features = resnet.fc.in_features\n",
    "new_classifier = nn.Sequential(\n",
    "    nn.Linear(num_features, 256), nn.ReLU(), nn.Dropout(0.2),\n",
    "    nn.Linear(256, 2))\n",
    "resnet.fc = new_classifier"
   ]
  },
  {
   "cell_type": "code",
   "execution_count": 41,
   "id": "cd3c204a",
   "metadata": {},
   "outputs": [
    {
     "name": "stdout",
     "output_type": "stream",
     "text": [
      "----------------------------------------------------------------\n",
      "        Layer (type)               Output Shape         Param #\n",
      "================================================================\n",
      "            Conv2d-1         [-1, 64, 112, 112]           9,408\n",
      "       BatchNorm2d-2         [-1, 64, 112, 112]             128\n",
      "              ReLU-3         [-1, 64, 112, 112]               0\n",
      "         MaxPool2d-4           [-1, 64, 56, 56]               0\n",
      "            Conv2d-5           [-1, 64, 56, 56]           4,096\n",
      "       BatchNorm2d-6           [-1, 64, 56, 56]             128\n",
      "              ReLU-7           [-1, 64, 56, 56]               0\n",
      "            Conv2d-8           [-1, 64, 56, 56]          36,864\n",
      "       BatchNorm2d-9           [-1, 64, 56, 56]             128\n",
      "             ReLU-10           [-1, 64, 56, 56]               0\n",
      "           Conv2d-11          [-1, 256, 56, 56]          16,384\n",
      "      BatchNorm2d-12          [-1, 256, 56, 56]             512\n",
      "           Conv2d-13          [-1, 256, 56, 56]          16,384\n",
      "      BatchNorm2d-14          [-1, 256, 56, 56]             512\n",
      "             ReLU-15          [-1, 256, 56, 56]               0\n",
      "       Bottleneck-16          [-1, 256, 56, 56]               0\n",
      "           Conv2d-17           [-1, 64, 56, 56]          16,384\n",
      "      BatchNorm2d-18           [-1, 64, 56, 56]             128\n",
      "             ReLU-19           [-1, 64, 56, 56]               0\n",
      "           Conv2d-20           [-1, 64, 56, 56]          36,864\n",
      "      BatchNorm2d-21           [-1, 64, 56, 56]             128\n",
      "             ReLU-22           [-1, 64, 56, 56]               0\n",
      "           Conv2d-23          [-1, 256, 56, 56]          16,384\n",
      "      BatchNorm2d-24          [-1, 256, 56, 56]             512\n",
      "             ReLU-25          [-1, 256, 56, 56]               0\n",
      "       Bottleneck-26          [-1, 256, 56, 56]               0\n",
      "           Conv2d-27           [-1, 64, 56, 56]          16,384\n",
      "      BatchNorm2d-28           [-1, 64, 56, 56]             128\n",
      "             ReLU-29           [-1, 64, 56, 56]               0\n",
      "           Conv2d-30           [-1, 64, 56, 56]          36,864\n",
      "      BatchNorm2d-31           [-1, 64, 56, 56]             128\n",
      "             ReLU-32           [-1, 64, 56, 56]               0\n",
      "           Conv2d-33          [-1, 256, 56, 56]          16,384\n",
      "      BatchNorm2d-34          [-1, 256, 56, 56]             512\n",
      "             ReLU-35          [-1, 256, 56, 56]               0\n",
      "       Bottleneck-36          [-1, 256, 56, 56]               0\n",
      "           Conv2d-37          [-1, 128, 56, 56]          32,768\n",
      "      BatchNorm2d-38          [-1, 128, 56, 56]             256\n",
      "             ReLU-39          [-1, 128, 56, 56]               0\n",
      "           Conv2d-40          [-1, 128, 28, 28]         147,456\n",
      "      BatchNorm2d-41          [-1, 128, 28, 28]             256\n",
      "             ReLU-42          [-1, 128, 28, 28]               0\n",
      "           Conv2d-43          [-1, 512, 28, 28]          65,536\n",
      "      BatchNorm2d-44          [-1, 512, 28, 28]           1,024\n",
      "           Conv2d-45          [-1, 512, 28, 28]         131,072\n",
      "      BatchNorm2d-46          [-1, 512, 28, 28]           1,024\n",
      "             ReLU-47          [-1, 512, 28, 28]               0\n",
      "       Bottleneck-48          [-1, 512, 28, 28]               0\n",
      "           Conv2d-49          [-1, 128, 28, 28]          65,536\n",
      "      BatchNorm2d-50          [-1, 128, 28, 28]             256\n",
      "             ReLU-51          [-1, 128, 28, 28]               0\n",
      "           Conv2d-52          [-1, 128, 28, 28]         147,456\n",
      "      BatchNorm2d-53          [-1, 128, 28, 28]             256\n",
      "             ReLU-54          [-1, 128, 28, 28]               0\n",
      "           Conv2d-55          [-1, 512, 28, 28]          65,536\n",
      "      BatchNorm2d-56          [-1, 512, 28, 28]           1,024\n",
      "             ReLU-57          [-1, 512, 28, 28]               0\n",
      "       Bottleneck-58          [-1, 512, 28, 28]               0\n",
      "           Conv2d-59          [-1, 128, 28, 28]          65,536\n",
      "      BatchNorm2d-60          [-1, 128, 28, 28]             256\n",
      "             ReLU-61          [-1, 128, 28, 28]               0\n",
      "           Conv2d-62          [-1, 128, 28, 28]         147,456\n",
      "      BatchNorm2d-63          [-1, 128, 28, 28]             256\n",
      "             ReLU-64          [-1, 128, 28, 28]               0\n",
      "           Conv2d-65          [-1, 512, 28, 28]          65,536\n",
      "      BatchNorm2d-66          [-1, 512, 28, 28]           1,024\n",
      "             ReLU-67          [-1, 512, 28, 28]               0\n",
      "       Bottleneck-68          [-1, 512, 28, 28]               0\n",
      "           Conv2d-69          [-1, 128, 28, 28]          65,536\n",
      "      BatchNorm2d-70          [-1, 128, 28, 28]             256\n",
      "             ReLU-71          [-1, 128, 28, 28]               0\n",
      "           Conv2d-72          [-1, 128, 28, 28]         147,456\n",
      "      BatchNorm2d-73          [-1, 128, 28, 28]             256\n",
      "             ReLU-74          [-1, 128, 28, 28]               0\n",
      "           Conv2d-75          [-1, 512, 28, 28]          65,536\n",
      "      BatchNorm2d-76          [-1, 512, 28, 28]           1,024\n",
      "             ReLU-77          [-1, 512, 28, 28]               0\n",
      "       Bottleneck-78          [-1, 512, 28, 28]               0\n",
      "           Conv2d-79          [-1, 256, 28, 28]         131,072\n",
      "      BatchNorm2d-80          [-1, 256, 28, 28]             512\n",
      "             ReLU-81          [-1, 256, 28, 28]               0\n",
      "           Conv2d-82          [-1, 256, 14, 14]         589,824\n",
      "      BatchNorm2d-83          [-1, 256, 14, 14]             512\n",
      "             ReLU-84          [-1, 256, 14, 14]               0\n",
      "           Conv2d-85         [-1, 1024, 14, 14]         262,144\n",
      "      BatchNorm2d-86         [-1, 1024, 14, 14]           2,048\n",
      "           Conv2d-87         [-1, 1024, 14, 14]         524,288\n",
      "      BatchNorm2d-88         [-1, 1024, 14, 14]           2,048\n",
      "             ReLU-89         [-1, 1024, 14, 14]               0\n",
      "       Bottleneck-90         [-1, 1024, 14, 14]               0\n",
      "           Conv2d-91          [-1, 256, 14, 14]         262,144\n",
      "      BatchNorm2d-92          [-1, 256, 14, 14]             512\n",
      "             ReLU-93          [-1, 256, 14, 14]               0\n",
      "           Conv2d-94          [-1, 256, 14, 14]         589,824\n",
      "      BatchNorm2d-95          [-1, 256, 14, 14]             512\n",
      "             ReLU-96          [-1, 256, 14, 14]               0\n",
      "           Conv2d-97         [-1, 1024, 14, 14]         262,144\n",
      "      BatchNorm2d-98         [-1, 1024, 14, 14]           2,048\n",
      "             ReLU-99         [-1, 1024, 14, 14]               0\n",
      "      Bottleneck-100         [-1, 1024, 14, 14]               0\n",
      "          Conv2d-101          [-1, 256, 14, 14]         262,144\n",
      "     BatchNorm2d-102          [-1, 256, 14, 14]             512\n",
      "            ReLU-103          [-1, 256, 14, 14]               0\n",
      "          Conv2d-104          [-1, 256, 14, 14]         589,824\n",
      "     BatchNorm2d-105          [-1, 256, 14, 14]             512\n",
      "            ReLU-106          [-1, 256, 14, 14]               0\n",
      "          Conv2d-107         [-1, 1024, 14, 14]         262,144\n",
      "     BatchNorm2d-108         [-1, 1024, 14, 14]           2,048\n",
      "            ReLU-109         [-1, 1024, 14, 14]               0\n",
      "      Bottleneck-110         [-1, 1024, 14, 14]               0\n",
      "          Conv2d-111          [-1, 256, 14, 14]         262,144\n",
      "     BatchNorm2d-112          [-1, 256, 14, 14]             512\n",
      "            ReLU-113          [-1, 256, 14, 14]               0\n",
      "          Conv2d-114          [-1, 256, 14, 14]         589,824\n",
      "     BatchNorm2d-115          [-1, 256, 14, 14]             512\n",
      "            ReLU-116          [-1, 256, 14, 14]               0\n",
      "          Conv2d-117         [-1, 1024, 14, 14]         262,144\n",
      "     BatchNorm2d-118         [-1, 1024, 14, 14]           2,048\n",
      "            ReLU-119         [-1, 1024, 14, 14]               0\n",
      "      Bottleneck-120         [-1, 1024, 14, 14]               0\n",
      "          Conv2d-121          [-1, 256, 14, 14]         262,144\n",
      "     BatchNorm2d-122          [-1, 256, 14, 14]             512\n",
      "            ReLU-123          [-1, 256, 14, 14]               0\n",
      "          Conv2d-124          [-1, 256, 14, 14]         589,824\n",
      "     BatchNorm2d-125          [-1, 256, 14, 14]             512\n",
      "            ReLU-126          [-1, 256, 14, 14]               0\n",
      "          Conv2d-127         [-1, 1024, 14, 14]         262,144\n",
      "     BatchNorm2d-128         [-1, 1024, 14, 14]           2,048\n",
      "            ReLU-129         [-1, 1024, 14, 14]               0\n",
      "      Bottleneck-130         [-1, 1024, 14, 14]               0\n",
      "          Conv2d-131          [-1, 256, 14, 14]         262,144\n",
      "     BatchNorm2d-132          [-1, 256, 14, 14]             512\n",
      "            ReLU-133          [-1, 256, 14, 14]               0\n",
      "          Conv2d-134          [-1, 256, 14, 14]         589,824\n",
      "     BatchNorm2d-135          [-1, 256, 14, 14]             512\n",
      "            ReLU-136          [-1, 256, 14, 14]               0\n",
      "          Conv2d-137         [-1, 1024, 14, 14]         262,144\n",
      "     BatchNorm2d-138         [-1, 1024, 14, 14]           2,048\n",
      "            ReLU-139         [-1, 1024, 14, 14]               0\n",
      "      Bottleneck-140         [-1, 1024, 14, 14]               0\n",
      "          Conv2d-141          [-1, 512, 14, 14]         524,288\n",
      "     BatchNorm2d-142          [-1, 512, 14, 14]           1,024\n",
      "            ReLU-143          [-1, 512, 14, 14]               0\n",
      "          Conv2d-144            [-1, 512, 7, 7]       2,359,296\n",
      "     BatchNorm2d-145            [-1, 512, 7, 7]           1,024\n",
      "            ReLU-146            [-1, 512, 7, 7]               0\n",
      "          Conv2d-147           [-1, 2048, 7, 7]       1,048,576\n",
      "     BatchNorm2d-148           [-1, 2048, 7, 7]           4,096\n",
      "          Conv2d-149           [-1, 2048, 7, 7]       2,097,152\n",
      "     BatchNorm2d-150           [-1, 2048, 7, 7]           4,096\n",
      "            ReLU-151           [-1, 2048, 7, 7]               0\n",
      "      Bottleneck-152           [-1, 2048, 7, 7]               0\n",
      "          Conv2d-153            [-1, 512, 7, 7]       1,048,576\n",
      "     BatchNorm2d-154            [-1, 512, 7, 7]           1,024\n",
      "            ReLU-155            [-1, 512, 7, 7]               0\n",
      "          Conv2d-156            [-1, 512, 7, 7]       2,359,296\n",
      "     BatchNorm2d-157            [-1, 512, 7, 7]           1,024\n",
      "            ReLU-158            [-1, 512, 7, 7]               0\n",
      "          Conv2d-159           [-1, 2048, 7, 7]       1,048,576\n",
      "     BatchNorm2d-160           [-1, 2048, 7, 7]           4,096\n",
      "            ReLU-161           [-1, 2048, 7, 7]               0\n",
      "      Bottleneck-162           [-1, 2048, 7, 7]               0\n",
      "          Conv2d-163            [-1, 512, 7, 7]       1,048,576\n",
      "     BatchNorm2d-164            [-1, 512, 7, 7]           1,024\n",
      "            ReLU-165            [-1, 512, 7, 7]               0\n",
      "          Conv2d-166            [-1, 512, 7, 7]       2,359,296\n",
      "     BatchNorm2d-167            [-1, 512, 7, 7]           1,024\n",
      "            ReLU-168            [-1, 512, 7, 7]               0\n",
      "          Conv2d-169           [-1, 2048, 7, 7]       1,048,576\n",
      "     BatchNorm2d-170           [-1, 2048, 7, 7]           4,096\n",
      "            ReLU-171           [-1, 2048, 7, 7]               0\n",
      "      Bottleneck-172           [-1, 2048, 7, 7]               0\n",
      "AdaptiveAvgPool2d-173           [-1, 2048, 1, 1]               0\n",
      "          Linear-174                  [-1, 256]         524,544\n",
      "            ReLU-175                  [-1, 256]               0\n",
      "         Dropout-176                  [-1, 256]               0\n",
      "          Linear-177                    [-1, 2]             514\n",
      "================================================================\n",
      "Total params: 24,033,090\n",
      "Trainable params: 24,033,090\n",
      "Non-trainable params: 0\n",
      "----------------------------------------------------------------\n",
      "Input size (MB): 0.57\n",
      "Forward/backward pass size (MB): 286.56\n",
      "Params size (MB): 91.68\n",
      "Estimated Total Size (MB): 378.81\n",
      "----------------------------------------------------------------\n"
     ]
    }
   ],
   "source": [
    "resnet =resnet.to(device)\n",
    "loss_fn = nn.CrossEntropyLoss()\n",
    "opt = optim.Adam(resnet.parameters(), lr=0.0001)\n",
    "summary(resnet, (3, 224, 224))"
   ]
  },
  {
   "cell_type": "code",
   "execution_count": 42,
   "id": "89634e20",
   "metadata": {},
   "outputs": [],
   "source": [
    "steps_per_epoch = len(trainloader)\n",
    "\n",
    "# Set the maximum learning rate and the factor by which to increase it\n",
    "max_lr = 0.01\n",
    "lr_step_factor = 8\n",
    "\n",
    "# Define the learning rate scheduler with the OneCycleLR policy\n",
    "scheduler = lr_scheduler.OneCycleLR(opt, max_lr, total_steps=50* steps_per_epoch, pct_start=0.3, div_factor=lr_step_factor)\n"
   ]
  },
  {
   "cell_type": "code",
   "execution_count": 43,
   "id": "e6479fba",
   "metadata": {},
   "outputs": [
    {
     "data": {
      "application/vnd.jupyter.widget-view+json": {
       "model_id": "1dfa83ae518544c0a77dc9b6d88dbaff",
       "version_major": 2,
       "version_minor": 0
      },
      "text/plain": [
       "  0%|          | 0/50 [00:00<?, ?epochs/s]"
      ]
     },
     "metadata": {},
     "output_type": "display_data"
    },
    {
     "name": "stdout",
     "output_type": "stream",
     "text": [
      "Min loss 0.69\n",
      "Iteration: 0, Loss: 0.69\n",
      "Min loss 0.67\n",
      "Min loss 0.67\n",
      "Min loss 0.65\n",
      "Min loss 0.63\n",
      "Min loss 0.62\n",
      "Min loss 0.59\n",
      "Min loss 0.58\n",
      "Min loss 0.58\n",
      "Min loss 0.56\n",
      "Epoch: 0/50, Test acc: 49.89, Train acc: 51.63\n",
      "Iteration: 0, Loss: 0.66\n",
      "Min loss 0.54\n",
      "Min loss 0.53\n",
      "Min loss 0.46\n",
      "Epoch: 1/50, Test acc: 62.72, Train acc: 63.43\n",
      "Iteration: 0, Loss: 0.67\n",
      "Min loss 0.41\n",
      "Min loss 0.37\n",
      "Epoch: 2/50, Test acc: 73.46, Train acc: 75.47\n",
      "Iteration: 0, Loss: 0.42\n",
      "Min loss 0.35\n",
      "Min loss 0.30\n",
      "Epoch: 3/50, Test acc: 66.78, Train acc: 66.82\n",
      "Iteration: 0, Loss: 0.41\n",
      "Min loss 0.25\n",
      "Min loss 0.23\n",
      "Epoch: 4/50, Test acc: 78.95, Train acc: 79.58\n",
      "Iteration: 0, Loss: 0.42\n",
      "Min loss 0.18\n",
      "Epoch: 5/50, Test acc: 78.73, Train acc: 80.71\n",
      "Iteration: 0, Loss: 0.32\n",
      "Epoch: 6/50, Test acc: 79.50, Train acc: 80.67\n",
      "Iteration: 0, Loss: 0.34\n",
      "Epoch: 7/50, Test acc: 78.51, Train acc: 81.59\n",
      "Iteration: 0, Loss: 0.28\n",
      "Epoch: 8/50, Test acc: 82.13, Train acc: 84.53\n",
      "Iteration: 0, Loss: 0.34\n",
      "Min loss 0.13\n",
      "Min loss 0.12\n",
      "Epoch: 9/50, Test acc: 77.19, Train acc: 78.84\n",
      "Iteration: 0, Loss: 0.43\n",
      "Min loss 0.11\n",
      "Min loss 0.09\n",
      "Epoch: 10/50, Test acc: 67.32, Train acc: 71.09\n",
      "Iteration: 0, Loss: 0.28\n",
      "Epoch: 11/50, Test acc: 82.24, Train acc: 85.02\n",
      "Iteration: 0, Loss: 0.33\n",
      "Epoch: 12/50, Test acc: 83.22, Train acc: 85.88\n",
      "Iteration: 0, Loss: 0.15\n",
      "Epoch: 13/50, Test acc: 87.39, Train acc: 91.12\n",
      "Iteration: 0, Loss: 0.10\n",
      "Min loss 0.07\n",
      "Min loss 0.07\n",
      "Epoch: 14/50, Test acc: 82.46, Train acc: 87.10\n",
      "Iteration: 0, Loss: 0.23\n",
      "Min loss 0.04\n",
      "Epoch: 15/50, Test acc: 85.86, Train acc: 89.52\n",
      "Iteration: 0, Loss: 0.25\n",
      "Epoch: 16/50, Test acc: 85.31, Train acc: 89.15\n",
      "Iteration: 0, Loss: 0.22\n",
      "Epoch: 17/50, Test acc: 79.71, Train acc: 83.60\n",
      "Iteration: 0, Loss: 0.24\n",
      "Epoch: 18/50, Test acc: 86.29, Train acc: 90.67\n",
      "Iteration: 0, Loss: 0.10\n",
      "Epoch: 19/50, Test acc: 90.79, Train acc: 93.53\n",
      "Iteration: 0, Loss: 0.26\n",
      "Epoch: 20/50, Test acc: 87.94, Train acc: 91.21\n",
      "Iteration: 0, Loss: 0.22\n",
      "Min loss 0.00\n",
      "Epoch: 21/50, Test acc: 84.98, Train acc: 88.60\n",
      "Iteration: 0, Loss: 0.14\n",
      "Epoch: 22/50, Test acc: 89.69, Train acc: 92.48\n",
      "Iteration: 0, Loss: 0.13\n",
      "Epoch: 23/50, Test acc: 87.28, Train acc: 91.31\n",
      "Iteration: 0, Loss: 0.17\n",
      "Epoch: 24/50, Test acc: 89.14, Train acc: 92.73\n",
      "Iteration: 0, Loss: 0.19\n",
      "Epoch: 25/50, Test acc: 90.35, Train acc: 93.38\n",
      "Iteration: 0, Loss: 0.09\n",
      "Epoch: 26/50, Test acc: 92.21, Train acc: 94.14\n",
      "Iteration: 0, Loss: 0.09\n",
      "Epoch: 27/50, Test acc: 91.45, Train acc: 93.06\n",
      "Iteration: 0, Loss: 0.21\n",
      "Epoch: 28/50, Test acc: 84.32, Train acc: 86.69\n",
      "Iteration: 0, Loss: 0.19\n",
      "Epoch: 29/50, Test acc: 88.82, Train acc: 92.91\n",
      "Iteration: 0, Loss: 0.35\n",
      "Epoch: 30/50, Test acc: 91.01, Train acc: 94.00\n",
      "Iteration: 0, Loss: 0.08\n",
      "Epoch: 31/50, Test acc: 90.68, Train acc: 94.19\n",
      "Iteration: 0, Loss: 0.16\n",
      "Epoch: 32/50, Test acc: 91.45, Train acc: 94.10\n",
      "Iteration: 0, Loss: 0.07\n",
      "Epoch: 33/50, Test acc: 90.24, Train acc: 94.27\n",
      "Iteration: 0, Loss: 0.05\n",
      "Epoch: 34/50, Test acc: 91.23, Train acc: 92.66\n",
      "Iteration: 0, Loss: 0.13\n",
      "Epoch: 35/50, Test acc: 90.46, Train acc: 92.34\n",
      "Iteration: 0, Loss: 0.43\n",
      "Epoch: 36/50, Test acc: 91.45, Train acc: 93.98\n",
      "Iteration: 0, Loss: 0.11\n",
      "Epoch: 37/50, Test acc: 91.12, Train acc: 93.45\n",
      "Iteration: 0, Loss: 0.13\n",
      "Epoch: 38/50, Test acc: 92.11, Train acc: 93.79\n",
      "Iteration: 0, Loss: 0.19\n",
      "Epoch: 39/50, Test acc: 91.56, Train acc: 94.33\n",
      "Iteration: 0, Loss: 0.12\n",
      "Min loss 0.00\n",
      "Epoch: 40/50, Test acc: 91.45, Train acc: 94.33\n",
      "Iteration: 0, Loss: 0.07\n",
      "Epoch: 41/50, Test acc: 92.43, Train acc: 94.62\n",
      "Iteration: 0, Loss: 0.28\n",
      "Epoch: 42/50, Test acc: 89.69, Train acc: 93.20\n",
      "Iteration: 0, Loss: 0.10\n",
      "Epoch: 43/50, Test acc: 90.68, Train acc: 93.43\n",
      "Iteration: 0, Loss: 0.05\n",
      "Epoch: 44/50, Test acc: 91.34, Train acc: 93.71\n",
      "Iteration: 0, Loss: 0.10\n",
      "Min loss 0.00\n",
      "Epoch: 45/50, Test acc: 91.45, Train acc: 94.33\n",
      "Iteration: 0, Loss: 0.25\n",
      "Epoch: 46/50, Test acc: 92.43, Train acc: 94.58\n",
      "Iteration: 0, Loss: 0.13\n",
      "Epoch: 47/50, Test acc: 92.54, Train acc: 94.23\n",
      "Iteration: 0, Loss: 0.13\n",
      "Epoch: 48/50, Test acc: 93.64, Train acc: 94.51\n",
      "Iteration: 0, Loss: 0.06\n",
      "Epoch: 49/50, Test acc: 92.98, Train acc: 94.49\n"
     ]
    }
   ],
   "source": [
    "best_model, loss_epoch_arr, train_accuracy_lis, val_accuracy_lis, val_loss_epoch_arr = train_func(resnet, loss_fn, opt, trainloader, valloader, scheduler , epochs=50\n",
    "                                                                            )      "
   ]
  },
  {
   "cell_type": "code",
   "execution_count": 44,
   "id": "5fdec74a",
   "metadata": {},
   "outputs": [],
   "source": [
    "testloader = DataLoader(test_ds, batch_size=32, shuffle=False)"
   ]
  },
  {
   "cell_type": "code",
   "execution_count": 45,
   "id": "e15acc0b",
   "metadata": {},
   "outputs": [
    {
     "data": {
      "text/plain": [
       "92.10526315789474"
      ]
     },
     "execution_count": 45,
     "metadata": {},
     "output_type": "execute_result"
    }
   ],
   "source": [
    "evaluation(testloader,resnet)"
   ]
  },
  {
   "cell_type": "code",
   "execution_count": 46,
   "id": "4cc8609f",
   "metadata": {},
   "outputs": [],
   "source": [
    "num_epochs = 50\n",
    "epochs = list(range(1, num_epochs + 1))"
   ]
  },
  {
   "cell_type": "code",
   "execution_count": 47,
   "id": "94a84505",
   "metadata": {
    "scrolled": true
   },
   "outputs": [],
   "source": [
    "folder_name = 'Resnet_50_results'\n",
    "os.makedirs(folder_name, exist_ok=True)"
   ]
  },
  {
   "cell_type": "code",
   "execution_count": 48,
   "id": "7b7832eb",
   "metadata": {
    "scrolled": true
   },
   "outputs": [],
   "source": [
    "data = {\n",
    "    'Loss': loss_epoch_arr,\n",
    "    'Train Accuracy': train_accuracy_lis,\n",
    "    'Validation Accuracy': val_accuracy_lis,\n",
    "    'Validation Loss': val_loss_epoch_arr\n",
    "}\n",
    "df = pd.DataFrame(data)\n",
    "\n",
    "# Save to CSV file\n",
    "df.to_csv('Resnet_50_results/resnet50_OneCLR_training_data.csv', index=False)"
   ]
  },
  {
   "cell_type": "code",
   "execution_count": 49,
   "id": "8a68c91a",
   "metadata": {
    "scrolled": true
   },
   "outputs": [
    {
     "data": {
      "image/png": "[encoded data removed]",
      "text/plain": [
       "<Figure size 1200x600 with 1 Axes>"
      ]
     },
     "metadata": {},
     "output_type": "display_data"
    }
   ],
   "source": [
    "sns.set(style='darkgrid') \n",
    "plt.figure(figsize=(12, 6))\n",
    "sns.lineplot(x = epochs,y = train_accuracy_lis, label='Training accuracy', marker='o', color='green')\n",
    "sns.lineplot(x = epochs,y = val_accuracy_lis, label='Validation accuracy', marker='o', color='red')\n",
    "plt.title('Resnet_50 Training and Validation Accuracy')\n",
    "plt.xlabel('Epochs')\n",
    "plt.ylabel('Accuracy')\n",
    "plt.legend()\n",
    "plt.savefig(os.path.join(folder_name, 'Resnet50_accuracy_plot.png'))\n",
    "plt.show()"
   ]
  },
  {
   "cell_type": "code",
   "execution_count": 50,
   "id": "d0547ae2",
   "metadata": {
    "scrolled": true
   },
   "outputs": [
    {
     "data": {
      "image/png": "[encoded data removed]",
      "text/plain": [
       "<Figure size 1200x600 with 1 Axes>"
      ]
     },
     "metadata": {},
     "output_type": "display_data"
    }
   ],
   "source": [
    "plt.figure(figsize=(12, 6))\n",
    "sns.lineplot(x = epochs,y = loss_epoch_arr, label='Training loss', marker='o', color='green')\n",
    "sns.lineplot(x = epochs, y = val_loss_epoch_arr, label='Validation loss', marker='o', color='red')\n",
    "plt.title('Resnet_50 Training and Validation Loss')\n",
    "plt.xlabel('Epochs')\n",
    "plt.ylabel('Loss')\n",
    "plt.legend()\n",
    "plt.savefig(os.path.join(folder_name, 'Resnet_50_loss_plot.png'))\n",
    "plt.show()"
   ]
  },
  {
   "cell_type": "code",
   "execution_count": 51,
   "id": "cc066f2d",
   "metadata": {
    "scrolled": true
   },
   "outputs": [],
   "source": [
    "all_preds, all_labels = plot_evaluation_metrics(resnet,valloader,device)"
   ]
  },
  {
   "cell_type": "code",
   "execution_count": 52,
   "id": "dbb3ae0c",
   "metadata": {
    "scrolled": true
   },
   "outputs": [
    {
     "data": {
      "image/png": "[encoded data removed]",
      "text/plain": [
       "<Figure size 1000x700 with 2 Axes>"
      ]
     },
     "metadata": {},
     "output_type": "display_data"
    }
   ],
   "source": [
    "cm = confusion_matrix(all_labels, all_preds)\n",
    "plt.figure(figsize=(10, 7))\n",
    "sns.heatmap(cm, annot=True, fmt='d',cmap = \"magma\")\n",
    "plt.title('Resnet_50 Val_Confusion_Matrix')\n",
    "plt.ylabel('True Label')\n",
    "plt.xlabel('Predicted Label')\n",
    "plt.savefig(os.path.join(folder_name, 'Resnet_50_Val_Confusion_Matrix.png'))\n",
    "plt.show()"
   ]
  },
  {
   "cell_type": "code",
   "execution_count": 53,
   "id": "637003bf",
   "metadata": {
    "scrolled": true
   },
   "outputs": [
    {
     "name": "stdout",
     "output_type": "stream",
     "text": [
      "Classification report saved to 'Resnet_50_results/Val_report.txt'\n"
     ]
    }
   ],
   "source": [
    "generate_classification_report(resnet,valloader, device, 'Resnet_50_results/Val_report.txt')"
   ]
  },
  {
   "cell_type": "code",
   "execution_count": 54,
   "id": "4c2ec6aa",
   "metadata": {
    "scrolled": true
   },
   "outputs": [],
   "source": [
    "all_preds, all_labels = plot_evaluation_metrics(resnet,testloader,device)"
   ]
  },
  {
   "cell_type": "code",
   "execution_count": 55,
   "id": "1468897f",
   "metadata": {
    "scrolled": true
   },
   "outputs": [
    {
     "data": {
      "image/png": "[encoded data removed]",
      "text/plain": [
       "<Figure size 1000x700 with 2 Axes>"
      ]
     },
     "metadata": {},
     "output_type": "display_data"
    }
   ],
   "source": [
    "cm = confusion_matrix(all_labels, all_preds)\n",
    "plt.figure(figsize=(10, 7))\n",
    "sns.heatmap(cm, annot=True, fmt='d',cmap = \"magma\")\n",
    "plt.title('Resnet_50 Test_Confusion_Matrix')\n",
    "plt.ylabel('True Label')\n",
    "plt.xlabel('Predicted Label')\n",
    "plt.savefig(os.path.join(folder_name, 'Resnet_50_Test_Confusion_Matrix.png'))\n",
    "plt.show()"
   ]
  },
  {
   "cell_type": "code",
   "execution_count": 56,
   "id": "39e2c8ad",
   "metadata": {
    "scrolled": true
   },
   "outputs": [
    {
     "name": "stdout",
     "output_type": "stream",
     "text": [
      "Classification report saved to 'Resnet_50_results/Test_report.txt'\n"
     ]
    }
   ],
   "source": [
    "generate_classification_report(resnet,testloader, device, 'Resnet_50_results/Test_report.txt')"
   ]
  },
  {
   "cell_type": "markdown",
   "id": "67f073d9",
   "metadata": {},
   "source": [
    "# Resnet-152"
   ]
  },
  {
   "cell_type": "code",
   "execution_count": 57,
   "id": "abdeaa54",
   "metadata": {},
   "outputs": [
    {
     "name": "stderr",
     "output_type": "stream",
     "text": [
      "C:\\Users\\BTBM\\anaconda3\\lib\\site-packages\\torchvision\\models\\_utils.py:223: UserWarning: Arguments other than a weight enum or `None` for 'weights' are deprecated since 0.13 and may be removed in the future. The current behavior is equivalent to passing `weights=ResNet152_Weights.IMAGENET1K_V1`. You can also use `weights=ResNet152_Weights.DEFAULT` to get the most up-to-date weights.\n",
      "  warnings.warn(msg)\n"
     ]
    }
   ],
   "source": [
    "resnet = models.resnet152(weights=True)"
   ]
  },
  {
   "cell_type": "code",
   "execution_count": 58,
   "id": "0eefad49",
   "metadata": {},
   "outputs": [],
   "source": [
    "for param in resnet.parameters():\n",
    "    param.requires_grad=True"
   ]
  },
  {
   "cell_type": "code",
   "execution_count": 59,
   "id": "756d947b",
   "metadata": {},
   "outputs": [],
   "source": [
    "num_features = resnet.fc.in_features\n",
    "new_classifier = nn.Sequential(\n",
    "    nn.Linear(num_features, 256), nn.ReLU(), nn.Dropout(0.2),\n",
    "    nn.Linear(256, 2))\n",
    "resnet.fc = new_classifier"
   ]
  },
  {
   "cell_type": "code",
   "execution_count": 60,
   "id": "4cb30f60",
   "metadata": {},
   "outputs": [
    {
     "name": "stdout",
     "output_type": "stream",
     "text": [
      "----------------------------------------------------------------\n",
      "        Layer (type)               Output Shape         Param #\n",
      "================================================================\n",
      "            Conv2d-1         [-1, 64, 112, 112]           9,408\n",
      "       BatchNorm2d-2         [-1, 64, 112, 112]             128\n",
      "              ReLU-3         [-1, 64, 112, 112]               0\n",
      "         MaxPool2d-4           [-1, 64, 56, 56]               0\n",
      "            Conv2d-5           [-1, 64, 56, 56]           4,096\n",
      "       BatchNorm2d-6           [-1, 64, 56, 56]             128\n",
      "              ReLU-7           [-1, 64, 56, 56]               0\n",
      "            Conv2d-8           [-1, 64, 56, 56]          36,864\n",
      "       BatchNorm2d-9           [-1, 64, 56, 56]             128\n",
      "             ReLU-10           [-1, 64, 56, 56]               0\n",
      "           Conv2d-11          [-1, 256, 56, 56]          16,384\n",
      "      BatchNorm2d-12          [-1, 256, 56, 56]             512\n",
      "           Conv2d-13          [-1, 256, 56, 56]          16,384\n",
      "      BatchNorm2d-14          [-1, 256, 56, 56]             512\n",
      "             ReLU-15          [-1, 256, 56, 56]               0\n",
      "       Bottleneck-16          [-1, 256, 56, 56]               0\n",
      "           Conv2d-17           [-1, 64, 56, 56]          16,384\n",
      "      BatchNorm2d-18           [-1, 64, 56, 56]             128\n",
      "             ReLU-19           [-1, 64, 56, 56]               0\n",
      "           Conv2d-20           [-1, 64, 56, 56]          36,864\n",
      "      BatchNorm2d-21           [-1, 64, 56, 56]             128\n",
      "             ReLU-22           [-1, 64, 56, 56]               0\n",
      "           Conv2d-23          [-1, 256, 56, 56]          16,384\n",
      "      BatchNorm2d-24          [-1, 256, 56, 56]             512\n",
      "             ReLU-25          [-1, 256, 56, 56]               0\n",
      "       Bottleneck-26          [-1, 256, 56, 56]               0\n",
      "           Conv2d-27           [-1, 64, 56, 56]          16,384\n",
      "      BatchNorm2d-28           [-1, 64, 56, 56]             128\n",
      "             ReLU-29           [-1, 64, 56, 56]               0\n",
      "           Conv2d-30           [-1, 64, 56, 56]          36,864\n",
      "      BatchNorm2d-31           [-1, 64, 56, 56]             128\n",
      "             ReLU-32           [-1, 64, 56, 56]               0\n",
      "           Conv2d-33          [-1, 256, 56, 56]          16,384\n",
      "      BatchNorm2d-34          [-1, 256, 56, 56]             512\n",
      "             ReLU-35          [-1, 256, 56, 56]               0\n",
      "       Bottleneck-36          [-1, 256, 56, 56]               0\n",
      "           Conv2d-37          [-1, 128, 56, 56]          32,768\n",
      "      BatchNorm2d-38          [-1, 128, 56, 56]             256\n",
      "             ReLU-39          [-1, 128, 56, 56]               0\n",
      "           Conv2d-40          [-1, 128, 28, 28]         147,456\n",
      "      BatchNorm2d-41          [-1, 128, 28, 28]             256\n",
      "             ReLU-42          [-1, 128, 28, 28]               0\n",
      "           Conv2d-43          [-1, 512, 28, 28]          65,536\n",
      "      BatchNorm2d-44          [-1, 512, 28, 28]           1,024\n",
      "           Conv2d-45          [-1, 512, 28, 28]         131,072\n",
      "      BatchNorm2d-46          [-1, 512, 28, 28]           1,024\n",
      "             ReLU-47          [-1, 512, 28, 28]               0\n",
      "       Bottleneck-48          [-1, 512, 28, 28]               0\n",
      "           Conv2d-49          [-1, 128, 28, 28]          65,536\n",
      "      BatchNorm2d-50          [-1, 128, 28, 28]             256\n",
      "             ReLU-51          [-1, 128, 28, 28]               0\n",
      "           Conv2d-52          [-1, 128, 28, 28]         147,456\n",
      "      BatchNorm2d-53          [-1, 128, 28, 28]             256\n",
      "             ReLU-54          [-1, 128, 28, 28]               0\n",
      "           Conv2d-55          [-1, 512, 28, 28]          65,536\n",
      "      BatchNorm2d-56          [-1, 512, 28, 28]           1,024\n",
      "             ReLU-57          [-1, 512, 28, 28]               0\n",
      "       Bottleneck-58          [-1, 512, 28, 28]               0\n",
      "           Conv2d-59          [-1, 128, 28, 28]          65,536\n",
      "      BatchNorm2d-60          [-1, 128, 28, 28]             256\n",
      "             ReLU-61          [-1, 128, 28, 28]               0\n",
      "           Conv2d-62          [-1, 128, 28, 28]         147,456\n",
      "      BatchNorm2d-63          [-1, 128, 28, 28]             256\n",
      "             ReLU-64          [-1, 128, 28, 28]               0\n",
      "           Conv2d-65          [-1, 512, 28, 28]          65,536\n",
      "      BatchNorm2d-66          [-1, 512, 28, 28]           1,024\n",
      "             ReLU-67          [-1, 512, 28, 28]               0\n",
      "       Bottleneck-68          [-1, 512, 28, 28]               0\n",
      "           Conv2d-69          [-1, 128, 28, 28]          65,536\n",
      "      BatchNorm2d-70          [-1, 128, 28, 28]             256\n",
      "             ReLU-71          [-1, 128, 28, 28]               0\n",
      "           Conv2d-72          [-1, 128, 28, 28]         147,456\n",
      "      BatchNorm2d-73          [-1, 128, 28, 28]             256\n",
      "             ReLU-74          [-1, 128, 28, 28]               0\n",
      "           Conv2d-75          [-1, 512, 28, 28]          65,536\n",
      "      BatchNorm2d-76          [-1, 512, 28, 28]           1,024\n",
      "             ReLU-77          [-1, 512, 28, 28]               0\n",
      "       Bottleneck-78          [-1, 512, 28, 28]               0\n",
      "           Conv2d-79          [-1, 128, 28, 28]          65,536\n",
      "      BatchNorm2d-80          [-1, 128, 28, 28]             256\n",
      "             ReLU-81          [-1, 128, 28, 28]               0\n",
      "           Conv2d-82          [-1, 128, 28, 28]         147,456\n",
      "      BatchNorm2d-83          [-1, 128, 28, 28]             256\n",
      "             ReLU-84          [-1, 128, 28, 28]               0\n",
      "           Conv2d-85          [-1, 512, 28, 28]          65,536\n",
      "      BatchNorm2d-86          [-1, 512, 28, 28]           1,024\n",
      "             ReLU-87          [-1, 512, 28, 28]               0\n",
      "       Bottleneck-88          [-1, 512, 28, 28]               0\n",
      "           Conv2d-89          [-1, 128, 28, 28]          65,536\n",
      "      BatchNorm2d-90          [-1, 128, 28, 28]             256\n",
      "             ReLU-91          [-1, 128, 28, 28]               0\n",
      "           Conv2d-92          [-1, 128, 28, 28]         147,456\n",
      "      BatchNorm2d-93          [-1, 128, 28, 28]             256\n",
      "             ReLU-94          [-1, 128, 28, 28]               0\n",
      "           Conv2d-95          [-1, 512, 28, 28]          65,536\n",
      "      BatchNorm2d-96          [-1, 512, 28, 28]           1,024\n",
      "             ReLU-97          [-1, 512, 28, 28]               0\n",
      "       Bottleneck-98          [-1, 512, 28, 28]               0\n",
      "           Conv2d-99          [-1, 128, 28, 28]          65,536\n",
      "     BatchNorm2d-100          [-1, 128, 28, 28]             256\n",
      "            ReLU-101          [-1, 128, 28, 28]               0\n",
      "          Conv2d-102          [-1, 128, 28, 28]         147,456\n",
      "     BatchNorm2d-103          [-1, 128, 28, 28]             256\n",
      "            ReLU-104          [-1, 128, 28, 28]               0\n",
      "          Conv2d-105          [-1, 512, 28, 28]          65,536\n",
      "     BatchNorm2d-106          [-1, 512, 28, 28]           1,024\n",
      "            ReLU-107          [-1, 512, 28, 28]               0\n",
      "      Bottleneck-108          [-1, 512, 28, 28]               0\n",
      "          Conv2d-109          [-1, 128, 28, 28]          65,536\n",
      "     BatchNorm2d-110          [-1, 128, 28, 28]             256\n",
      "            ReLU-111          [-1, 128, 28, 28]               0\n",
      "          Conv2d-112          [-1, 128, 28, 28]         147,456\n",
      "     BatchNorm2d-113          [-1, 128, 28, 28]             256\n",
      "            ReLU-114          [-1, 128, 28, 28]               0\n",
      "          Conv2d-115          [-1, 512, 28, 28]          65,536\n",
      "     BatchNorm2d-116          [-1, 512, 28, 28]           1,024\n",
      "            ReLU-117          [-1, 512, 28, 28]               0\n",
      "      Bottleneck-118          [-1, 512, 28, 28]               0\n",
      "          Conv2d-119          [-1, 256, 28, 28]         131,072\n",
      "     BatchNorm2d-120          [-1, 256, 28, 28]             512\n",
      "            ReLU-121          [-1, 256, 28, 28]               0\n",
      "          Conv2d-122          [-1, 256, 14, 14]         589,824\n",
      "     BatchNorm2d-123          [-1, 256, 14, 14]             512\n",
      "            ReLU-124          [-1, 256, 14, 14]               0\n",
      "          Conv2d-125         [-1, 1024, 14, 14]         262,144\n",
      "     BatchNorm2d-126         [-1, 1024, 14, 14]           2,048\n",
      "          Conv2d-127         [-1, 1024, 14, 14]         524,288\n",
      "     BatchNorm2d-128         [-1, 1024, 14, 14]           2,048\n",
      "            ReLU-129         [-1, 1024, 14, 14]               0\n",
      "      Bottleneck-130         [-1, 1024, 14, 14]               0\n",
      "          Conv2d-131          [-1, 256, 14, 14]         262,144\n",
      "     BatchNorm2d-132          [-1, 256, 14, 14]             512\n",
      "            ReLU-133          [-1, 256, 14, 14]               0\n",
      "          Conv2d-134          [-1, 256, 14, 14]         589,824\n",
      "     BatchNorm2d-135          [-1, 256, 14, 14]             512\n",
      "            ReLU-136          [-1, 256, 14, 14]               0\n",
      "          Conv2d-137         [-1, 1024, 14, 14]         262,144\n",
      "     BatchNorm2d-138         [-1, 1024, 14, 14]           2,048\n",
      "            ReLU-139         [-1, 1024, 14, 14]               0\n",
      "      Bottleneck-140         [-1, 1024, 14, 14]               0\n",
      "          Conv2d-141          [-1, 256, 14, 14]         262,144\n",
      "     BatchNorm2d-142          [-1, 256, 14, 14]             512\n",
      "            ReLU-143          [-1, 256, 14, 14]               0\n",
      "          Conv2d-144          [-1, 256, 14, 14]         589,824\n",
      "     BatchNorm2d-145          [-1, 256, 14, 14]             512\n",
      "            ReLU-146          [-1, 256, 14, 14]               0\n",
      "          Conv2d-147         [-1, 1024, 14, 14]         262,144\n",
      "     BatchNorm2d-148         [-1, 1024, 14, 14]           2,048\n",
      "            ReLU-149         [-1, 1024, 14, 14]               0\n",
      "      Bottleneck-150         [-1, 1024, 14, 14]               0\n",
      "          Conv2d-151          [-1, 256, 14, 14]         262,144\n",
      "     BatchNorm2d-152          [-1, 256, 14, 14]             512\n",
      "            ReLU-153          [-1, 256, 14, 14]               0\n",
      "          Conv2d-154          [-1, 256, 14, 14]         589,824\n",
      "     BatchNorm2d-155          [-1, 256, 14, 14]             512\n",
      "            ReLU-156          [-1, 256, 14, 14]               0\n",
      "          Conv2d-157         [-1, 1024, 14, 14]         262,144\n",
      "     BatchNorm2d-158         [-1, 1024, 14, 14]           2,048\n",
      "            ReLU-159         [-1, 1024, 14, 14]               0\n",
      "      Bottleneck-160         [-1, 1024, 14, 14]               0\n",
      "          Conv2d-161          [-1, 256, 14, 14]         262,144\n",
      "     BatchNorm2d-162          [-1, 256, 14, 14]             512\n",
      "            ReLU-163          [-1, 256, 14, 14]               0\n",
      "          Conv2d-164          [-1, 256, 14, 14]         589,824\n",
      "     BatchNorm2d-165          [-1, 256, 14, 14]             512\n",
      "            ReLU-166          [-1, 256, 14, 14]               0\n",
      "          Conv2d-167         [-1, 1024, 14, 14]         262,144\n",
      "     BatchNorm2d-168         [-1, 1024, 14, 14]           2,048\n",
      "            ReLU-169         [-1, 1024, 14, 14]               0\n",
      "      Bottleneck-170         [-1, 1024, 14, 14]               0\n",
      "          Conv2d-171          [-1, 256, 14, 14]         262,144\n",
      "     BatchNorm2d-172          [-1, 256, 14, 14]             512\n",
      "            ReLU-173          [-1, 256, 14, 14]               0\n",
      "          Conv2d-174          [-1, 256, 14, 14]         589,824\n",
      "     BatchNorm2d-175          [-1, 256, 14, 14]             512\n",
      "            ReLU-176          [-1, 256, 14, 14]               0\n",
      "          Conv2d-177         [-1, 1024, 14, 14]         262,144\n",
      "     BatchNorm2d-178         [-1, 1024, 14, 14]           2,048\n",
      "            ReLU-179         [-1, 1024, 14, 14]               0\n",
      "      Bottleneck-180         [-1, 1024, 14, 14]               0\n",
      "          Conv2d-181          [-1, 256, 14, 14]         262,144\n",
      "     BatchNorm2d-182          [-1, 256, 14, 14]             512\n",
      "            ReLU-183          [-1, 256, 14, 14]               0\n",
      "          Conv2d-184          [-1, 256, 14, 14]         589,824\n",
      "     BatchNorm2d-185          [-1, 256, 14, 14]             512\n",
      "            ReLU-186          [-1, 256, 14, 14]               0\n",
      "          Conv2d-187         [-1, 1024, 14, 14]         262,144\n",
      "     BatchNorm2d-188         [-1, 1024, 14, 14]           2,048\n",
      "            ReLU-189         [-1, 1024, 14, 14]               0\n",
      "      Bottleneck-190         [-1, 1024, 14, 14]               0\n",
      "          Conv2d-191          [-1, 256, 14, 14]         262,144\n",
      "     BatchNorm2d-192          [-1, 256, 14, 14]             512\n",
      "            ReLU-193          [-1, 256, 14, 14]               0\n",
      "          Conv2d-194          [-1, 256, 14, 14]         589,824\n",
      "     BatchNorm2d-195          [-1, 256, 14, 14]             512\n",
      "            ReLU-196          [-1, 256, 14, 14]               0\n",
      "          Conv2d-197         [-1, 1024, 14, 14]         262,144\n",
      "     BatchNorm2d-198         [-1, 1024, 14, 14]           2,048\n",
      "            ReLU-199         [-1, 1024, 14, 14]               0\n",
      "      Bottleneck-200         [-1, 1024, 14, 14]               0\n",
      "          Conv2d-201          [-1, 256, 14, 14]         262,144\n",
      "     BatchNorm2d-202          [-1, 256, 14, 14]             512\n",
      "            ReLU-203          [-1, 256, 14, 14]               0\n",
      "          Conv2d-204          [-1, 256, 14, 14]         589,824\n",
      "     BatchNorm2d-205          [-1, 256, 14, 14]             512\n",
      "            ReLU-206          [-1, 256, 14, 14]               0\n",
      "          Conv2d-207         [-1, 1024, 14, 14]         262,144\n",
      "     BatchNorm2d-208         [-1, 1024, 14, 14]           2,048\n",
      "            ReLU-209         [-1, 1024, 14, 14]               0\n",
      "      Bottleneck-210         [-1, 1024, 14, 14]               0\n",
      "          Conv2d-211          [-1, 256, 14, 14]         262,144\n",
      "     BatchNorm2d-212          [-1, 256, 14, 14]             512\n",
      "            ReLU-213          [-1, 256, 14, 14]               0\n",
      "          Conv2d-214          [-1, 256, 14, 14]         589,824\n",
      "     BatchNorm2d-215          [-1, 256, 14, 14]             512\n",
      "            ReLU-216          [-1, 256, 14, 14]               0\n",
      "          Conv2d-217         [-1, 1024, 14, 14]         262,144\n",
      "     BatchNorm2d-218         [-1, 1024, 14, 14]           2,048\n",
      "            ReLU-219         [-1, 1024, 14, 14]               0\n",
      "      Bottleneck-220         [-1, 1024, 14, 14]               0\n",
      "          Conv2d-221          [-1, 256, 14, 14]         262,144\n",
      "     BatchNorm2d-222          [-1, 256, 14, 14]             512\n",
      "            ReLU-223          [-1, 256, 14, 14]               0\n",
      "          Conv2d-224          [-1, 256, 14, 14]         589,824\n",
      "     BatchNorm2d-225          [-1, 256, 14, 14]             512\n",
      "            ReLU-226          [-1, 256, 14, 14]               0\n",
      "          Conv2d-227         [-1, 1024, 14, 14]         262,144\n",
      "     BatchNorm2d-228         [-1, 1024, 14, 14]           2,048\n",
      "            ReLU-229         [-1, 1024, 14, 14]               0\n",
      "      Bottleneck-230         [-1, 1024, 14, 14]               0\n",
      "          Conv2d-231          [-1, 256, 14, 14]         262,144\n",
      "     BatchNorm2d-232          [-1, 256, 14, 14]             512\n",
      "            ReLU-233          [-1, 256, 14, 14]               0\n",
      "          Conv2d-234          [-1, 256, 14, 14]         589,824\n",
      "     BatchNorm2d-235          [-1, 256, 14, 14]             512\n",
      "            ReLU-236          [-1, 256, 14, 14]               0\n",
      "          Conv2d-237         [-1, 1024, 14, 14]         262,144\n",
      "     BatchNorm2d-238         [-1, 1024, 14, 14]           2,048\n",
      "            ReLU-239         [-1, 1024, 14, 14]               0\n",
      "      Bottleneck-240         [-1, 1024, 14, 14]               0\n",
      "          Conv2d-241          [-1, 256, 14, 14]         262,144\n",
      "     BatchNorm2d-242          [-1, 256, 14, 14]             512\n",
      "            ReLU-243          [-1, 256, 14, 14]               0\n",
      "          Conv2d-244          [-1, 256, 14, 14]         589,824\n",
      "     BatchNorm2d-245          [-1, 256, 14, 14]             512\n",
      "            ReLU-246          [-1, 256, 14, 14]               0\n",
      "          Conv2d-247         [-1, 1024, 14, 14]         262,144\n",
      "     BatchNorm2d-248         [-1, 1024, 14, 14]           2,048\n",
      "            ReLU-249         [-1, 1024, 14, 14]               0\n",
      "      Bottleneck-250         [-1, 1024, 14, 14]               0\n",
      "          Conv2d-251          [-1, 256, 14, 14]         262,144\n",
      "     BatchNorm2d-252          [-1, 256, 14, 14]             512\n",
      "            ReLU-253          [-1, 256, 14, 14]               0\n",
      "          Conv2d-254          [-1, 256, 14, 14]         589,824\n",
      "     BatchNorm2d-255          [-1, 256, 14, 14]             512\n",
      "            ReLU-256          [-1, 256, 14, 14]               0\n",
      "          Conv2d-257         [-1, 1024, 14, 14]         262,144\n",
      "     BatchNorm2d-258         [-1, 1024, 14, 14]           2,048\n",
      "            ReLU-259         [-1, 1024, 14, 14]               0\n",
      "      Bottleneck-260         [-1, 1024, 14, 14]               0\n",
      "          Conv2d-261          [-1, 256, 14, 14]         262,144\n",
      "     BatchNorm2d-262          [-1, 256, 14, 14]             512\n",
      "            ReLU-263          [-1, 256, 14, 14]               0\n",
      "          Conv2d-264          [-1, 256, 14, 14]         589,824\n",
      "     BatchNorm2d-265          [-1, 256, 14, 14]             512\n",
      "            ReLU-266          [-1, 256, 14, 14]               0\n",
      "          Conv2d-267         [-1, 1024, 14, 14]         262,144\n",
      "     BatchNorm2d-268         [-1, 1024, 14, 14]           2,048\n",
      "            ReLU-269         [-1, 1024, 14, 14]               0\n",
      "      Bottleneck-270         [-1, 1024, 14, 14]               0\n",
      "          Conv2d-271          [-1, 256, 14, 14]         262,144\n",
      "     BatchNorm2d-272          [-1, 256, 14, 14]             512\n",
      "            ReLU-273          [-1, 256, 14, 14]               0\n",
      "          Conv2d-274          [-1, 256, 14, 14]         589,824\n",
      "     BatchNorm2d-275          [-1, 256, 14, 14]             512\n",
      "            ReLU-276          [-1, 256, 14, 14]               0\n",
      "          Conv2d-277         [-1, 1024, 14, 14]         262,144\n",
      "     BatchNorm2d-278         [-1, 1024, 14, 14]           2,048\n",
      "            ReLU-279         [-1, 1024, 14, 14]               0\n",
      "      Bottleneck-280         [-1, 1024, 14, 14]               0\n",
      "          Conv2d-281          [-1, 256, 14, 14]         262,144\n",
      "     BatchNorm2d-282          [-1, 256, 14, 14]             512\n",
      "            ReLU-283          [-1, 256, 14, 14]               0\n",
      "          Conv2d-284          [-1, 256, 14, 14]         589,824\n",
      "     BatchNorm2d-285          [-1, 256, 14, 14]             512\n",
      "            ReLU-286          [-1, 256, 14, 14]               0\n",
      "          Conv2d-287         [-1, 1024, 14, 14]         262,144\n",
      "     BatchNorm2d-288         [-1, 1024, 14, 14]           2,048\n",
      "            ReLU-289         [-1, 1024, 14, 14]               0\n",
      "      Bottleneck-290         [-1, 1024, 14, 14]               0\n",
      "          Conv2d-291          [-1, 256, 14, 14]         262,144\n",
      "     BatchNorm2d-292          [-1, 256, 14, 14]             512\n",
      "            ReLU-293          [-1, 256, 14, 14]               0\n",
      "          Conv2d-294          [-1, 256, 14, 14]         589,824\n",
      "     BatchNorm2d-295          [-1, 256, 14, 14]             512\n",
      "            ReLU-296          [-1, 256, 14, 14]               0\n",
      "          Conv2d-297         [-1, 1024, 14, 14]         262,144\n",
      "     BatchNorm2d-298         [-1, 1024, 14, 14]           2,048\n",
      "            ReLU-299         [-1, 1024, 14, 14]               0\n",
      "      Bottleneck-300         [-1, 1024, 14, 14]               0\n",
      "          Conv2d-301          [-1, 256, 14, 14]         262,144\n",
      "     BatchNorm2d-302          [-1, 256, 14, 14]             512\n",
      "            ReLU-303          [-1, 256, 14, 14]               0\n",
      "          Conv2d-304          [-1, 256, 14, 14]         589,824\n",
      "     BatchNorm2d-305          [-1, 256, 14, 14]             512\n",
      "            ReLU-306          [-1, 256, 14, 14]               0\n",
      "          Conv2d-307         [-1, 1024, 14, 14]         262,144\n",
      "     BatchNorm2d-308         [-1, 1024, 14, 14]           2,048\n",
      "            ReLU-309         [-1, 1024, 14, 14]               0\n",
      "      Bottleneck-310         [-1, 1024, 14, 14]               0\n",
      "          Conv2d-311          [-1, 256, 14, 14]         262,144\n",
      "     BatchNorm2d-312          [-1, 256, 14, 14]             512\n",
      "            ReLU-313          [-1, 256, 14, 14]               0\n",
      "          Conv2d-314          [-1, 256, 14, 14]         589,824\n",
      "     BatchNorm2d-315          [-1, 256, 14, 14]             512\n",
      "            ReLU-316          [-1, 256, 14, 14]               0\n",
      "          Conv2d-317         [-1, 1024, 14, 14]         262,144\n",
      "     BatchNorm2d-318         [-1, 1024, 14, 14]           2,048\n",
      "            ReLU-319         [-1, 1024, 14, 14]               0\n",
      "      Bottleneck-320         [-1, 1024, 14, 14]               0\n",
      "          Conv2d-321          [-1, 256, 14, 14]         262,144\n",
      "     BatchNorm2d-322          [-1, 256, 14, 14]             512\n",
      "            ReLU-323          [-1, 256, 14, 14]               0\n",
      "          Conv2d-324          [-1, 256, 14, 14]         589,824\n",
      "     BatchNorm2d-325          [-1, 256, 14, 14]             512\n",
      "            ReLU-326          [-1, 256, 14, 14]               0\n",
      "          Conv2d-327         [-1, 1024, 14, 14]         262,144\n",
      "     BatchNorm2d-328         [-1, 1024, 14, 14]           2,048\n",
      "            ReLU-329         [-1, 1024, 14, 14]               0\n",
      "      Bottleneck-330         [-1, 1024, 14, 14]               0\n",
      "          Conv2d-331          [-1, 256, 14, 14]         262,144\n",
      "     BatchNorm2d-332          [-1, 256, 14, 14]             512\n",
      "            ReLU-333          [-1, 256, 14, 14]               0\n",
      "          Conv2d-334          [-1, 256, 14, 14]         589,824\n",
      "     BatchNorm2d-335          [-1, 256, 14, 14]             512\n",
      "            ReLU-336          [-1, 256, 14, 14]               0\n",
      "          Conv2d-337         [-1, 1024, 14, 14]         262,144\n",
      "     BatchNorm2d-338         [-1, 1024, 14, 14]           2,048\n",
      "            ReLU-339         [-1, 1024, 14, 14]               0\n",
      "      Bottleneck-340         [-1, 1024, 14, 14]               0\n",
      "          Conv2d-341          [-1, 256, 14, 14]         262,144\n",
      "     BatchNorm2d-342          [-1, 256, 14, 14]             512\n",
      "            ReLU-343          [-1, 256, 14, 14]               0\n",
      "          Conv2d-344          [-1, 256, 14, 14]         589,824\n",
      "     BatchNorm2d-345          [-1, 256, 14, 14]             512\n",
      "            ReLU-346          [-1, 256, 14, 14]               0\n",
      "          Conv2d-347         [-1, 1024, 14, 14]         262,144\n",
      "     BatchNorm2d-348         [-1, 1024, 14, 14]           2,048\n",
      "            ReLU-349         [-1, 1024, 14, 14]               0\n",
      "      Bottleneck-350         [-1, 1024, 14, 14]               0\n",
      "          Conv2d-351          [-1, 256, 14, 14]         262,144\n",
      "     BatchNorm2d-352          [-1, 256, 14, 14]             512\n",
      "            ReLU-353          [-1, 256, 14, 14]               0\n",
      "          Conv2d-354          [-1, 256, 14, 14]         589,824\n",
      "     BatchNorm2d-355          [-1, 256, 14, 14]             512\n",
      "            ReLU-356          [-1, 256, 14, 14]               0\n",
      "          Conv2d-357         [-1, 1024, 14, 14]         262,144\n",
      "     BatchNorm2d-358         [-1, 1024, 14, 14]           2,048\n",
      "            ReLU-359         [-1, 1024, 14, 14]               0\n",
      "      Bottleneck-360         [-1, 1024, 14, 14]               0\n",
      "          Conv2d-361          [-1, 256, 14, 14]         262,144\n",
      "     BatchNorm2d-362          [-1, 256, 14, 14]             512\n",
      "            ReLU-363          [-1, 256, 14, 14]               0\n",
      "          Conv2d-364          [-1, 256, 14, 14]         589,824\n",
      "     BatchNorm2d-365          [-1, 256, 14, 14]             512\n",
      "            ReLU-366          [-1, 256, 14, 14]               0\n",
      "          Conv2d-367         [-1, 1024, 14, 14]         262,144\n",
      "     BatchNorm2d-368         [-1, 1024, 14, 14]           2,048\n",
      "            ReLU-369         [-1, 1024, 14, 14]               0\n",
      "      Bottleneck-370         [-1, 1024, 14, 14]               0\n",
      "          Conv2d-371          [-1, 256, 14, 14]         262,144\n",
      "     BatchNorm2d-372          [-1, 256, 14, 14]             512\n",
      "            ReLU-373          [-1, 256, 14, 14]               0\n",
      "          Conv2d-374          [-1, 256, 14, 14]         589,824\n",
      "     BatchNorm2d-375          [-1, 256, 14, 14]             512\n",
      "            ReLU-376          [-1, 256, 14, 14]               0\n",
      "          Conv2d-377         [-1, 1024, 14, 14]         262,144\n",
      "     BatchNorm2d-378         [-1, 1024, 14, 14]           2,048\n",
      "            ReLU-379         [-1, 1024, 14, 14]               0\n",
      "      Bottleneck-380         [-1, 1024, 14, 14]               0\n",
      "          Conv2d-381          [-1, 256, 14, 14]         262,144\n",
      "     BatchNorm2d-382          [-1, 256, 14, 14]             512\n",
      "            ReLU-383          [-1, 256, 14, 14]               0\n",
      "          Conv2d-384          [-1, 256, 14, 14]         589,824\n",
      "     BatchNorm2d-385          [-1, 256, 14, 14]             512\n",
      "            ReLU-386          [-1, 256, 14, 14]               0\n",
      "          Conv2d-387         [-1, 1024, 14, 14]         262,144\n",
      "     BatchNorm2d-388         [-1, 1024, 14, 14]           2,048\n",
      "            ReLU-389         [-1, 1024, 14, 14]               0\n",
      "      Bottleneck-390         [-1, 1024, 14, 14]               0\n",
      "          Conv2d-391          [-1, 256, 14, 14]         262,144\n",
      "     BatchNorm2d-392          [-1, 256, 14, 14]             512\n",
      "            ReLU-393          [-1, 256, 14, 14]               0\n",
      "          Conv2d-394          [-1, 256, 14, 14]         589,824\n",
      "     BatchNorm2d-395          [-1, 256, 14, 14]             512\n",
      "            ReLU-396          [-1, 256, 14, 14]               0\n",
      "          Conv2d-397         [-1, 1024, 14, 14]         262,144\n",
      "     BatchNorm2d-398         [-1, 1024, 14, 14]           2,048\n",
      "            ReLU-399         [-1, 1024, 14, 14]               0\n",
      "      Bottleneck-400         [-1, 1024, 14, 14]               0\n",
      "          Conv2d-401          [-1, 256, 14, 14]         262,144\n",
      "     BatchNorm2d-402          [-1, 256, 14, 14]             512\n",
      "            ReLU-403          [-1, 256, 14, 14]               0\n",
      "          Conv2d-404          [-1, 256, 14, 14]         589,824\n",
      "     BatchNorm2d-405          [-1, 256, 14, 14]             512\n",
      "            ReLU-406          [-1, 256, 14, 14]               0\n",
      "          Conv2d-407         [-1, 1024, 14, 14]         262,144\n",
      "     BatchNorm2d-408         [-1, 1024, 14, 14]           2,048\n",
      "            ReLU-409         [-1, 1024, 14, 14]               0\n",
      "      Bottleneck-410         [-1, 1024, 14, 14]               0\n",
      "          Conv2d-411          [-1, 256, 14, 14]         262,144\n",
      "     BatchNorm2d-412          [-1, 256, 14, 14]             512\n",
      "            ReLU-413          [-1, 256, 14, 14]               0\n",
      "          Conv2d-414          [-1, 256, 14, 14]         589,824\n",
      "     BatchNorm2d-415          [-1, 256, 14, 14]             512\n",
      "            ReLU-416          [-1, 256, 14, 14]               0\n",
      "          Conv2d-417         [-1, 1024, 14, 14]         262,144\n",
      "     BatchNorm2d-418         [-1, 1024, 14, 14]           2,048\n",
      "            ReLU-419         [-1, 1024, 14, 14]               0\n",
      "      Bottleneck-420         [-1, 1024, 14, 14]               0\n",
      "          Conv2d-421          [-1, 256, 14, 14]         262,144\n",
      "     BatchNorm2d-422          [-1, 256, 14, 14]             512\n",
      "            ReLU-423          [-1, 256, 14, 14]               0\n",
      "          Conv2d-424          [-1, 256, 14, 14]         589,824\n",
      "     BatchNorm2d-425          [-1, 256, 14, 14]             512\n",
      "            ReLU-426          [-1, 256, 14, 14]               0\n",
      "          Conv2d-427         [-1, 1024, 14, 14]         262,144\n",
      "     BatchNorm2d-428         [-1, 1024, 14, 14]           2,048\n",
      "            ReLU-429         [-1, 1024, 14, 14]               0\n",
      "      Bottleneck-430         [-1, 1024, 14, 14]               0\n",
      "          Conv2d-431          [-1, 256, 14, 14]         262,144\n",
      "     BatchNorm2d-432          [-1, 256, 14, 14]             512\n",
      "            ReLU-433          [-1, 256, 14, 14]               0\n",
      "          Conv2d-434          [-1, 256, 14, 14]         589,824\n",
      "     BatchNorm2d-435          [-1, 256, 14, 14]             512\n",
      "            ReLU-436          [-1, 256, 14, 14]               0\n",
      "          Conv2d-437         [-1, 1024, 14, 14]         262,144\n",
      "     BatchNorm2d-438         [-1, 1024, 14, 14]           2,048\n",
      "            ReLU-439         [-1, 1024, 14, 14]               0\n",
      "      Bottleneck-440         [-1, 1024, 14, 14]               0\n",
      "          Conv2d-441          [-1, 256, 14, 14]         262,144\n",
      "     BatchNorm2d-442          [-1, 256, 14, 14]             512\n",
      "            ReLU-443          [-1, 256, 14, 14]               0\n",
      "          Conv2d-444          [-1, 256, 14, 14]         589,824\n",
      "     BatchNorm2d-445          [-1, 256, 14, 14]             512\n",
      "            ReLU-446          [-1, 256, 14, 14]               0\n",
      "          Conv2d-447         [-1, 1024, 14, 14]         262,144\n",
      "     BatchNorm2d-448         [-1, 1024, 14, 14]           2,048\n",
      "            ReLU-449         [-1, 1024, 14, 14]               0\n",
      "      Bottleneck-450         [-1, 1024, 14, 14]               0\n",
      "          Conv2d-451          [-1, 256, 14, 14]         262,144\n",
      "     BatchNorm2d-452          [-1, 256, 14, 14]             512\n",
      "            ReLU-453          [-1, 256, 14, 14]               0\n",
      "          Conv2d-454          [-1, 256, 14, 14]         589,824\n",
      "     BatchNorm2d-455          [-1, 256, 14, 14]             512\n",
      "            ReLU-456          [-1, 256, 14, 14]               0\n",
      "          Conv2d-457         [-1, 1024, 14, 14]         262,144\n",
      "     BatchNorm2d-458         [-1, 1024, 14, 14]           2,048\n",
      "            ReLU-459         [-1, 1024, 14, 14]               0\n",
      "      Bottleneck-460         [-1, 1024, 14, 14]               0\n",
      "          Conv2d-461          [-1, 256, 14, 14]         262,144\n",
      "     BatchNorm2d-462          [-1, 256, 14, 14]             512\n",
      "            ReLU-463          [-1, 256, 14, 14]               0\n",
      "          Conv2d-464          [-1, 256, 14, 14]         589,824\n",
      "     BatchNorm2d-465          [-1, 256, 14, 14]             512\n",
      "            ReLU-466          [-1, 256, 14, 14]               0\n",
      "          Conv2d-467         [-1, 1024, 14, 14]         262,144\n",
      "     BatchNorm2d-468         [-1, 1024, 14, 14]           2,048\n",
      "            ReLU-469         [-1, 1024, 14, 14]               0\n",
      "      Bottleneck-470         [-1, 1024, 14, 14]               0\n",
      "          Conv2d-471          [-1, 256, 14, 14]         262,144\n",
      "     BatchNorm2d-472          [-1, 256, 14, 14]             512\n",
      "            ReLU-473          [-1, 256, 14, 14]               0\n",
      "          Conv2d-474          [-1, 256, 14, 14]         589,824\n",
      "     BatchNorm2d-475          [-1, 256, 14, 14]             512\n",
      "            ReLU-476          [-1, 256, 14, 14]               0\n",
      "          Conv2d-477         [-1, 1024, 14, 14]         262,144\n",
      "     BatchNorm2d-478         [-1, 1024, 14, 14]           2,048\n",
      "            ReLU-479         [-1, 1024, 14, 14]               0\n",
      "      Bottleneck-480         [-1, 1024, 14, 14]               0\n",
      "          Conv2d-481          [-1, 512, 14, 14]         524,288\n",
      "     BatchNorm2d-482          [-1, 512, 14, 14]           1,024\n",
      "            ReLU-483          [-1, 512, 14, 14]               0\n",
      "          Conv2d-484            [-1, 512, 7, 7]       2,359,296\n",
      "     BatchNorm2d-485            [-1, 512, 7, 7]           1,024\n",
      "            ReLU-486            [-1, 512, 7, 7]               0\n",
      "          Conv2d-487           [-1, 2048, 7, 7]       1,048,576\n",
      "     BatchNorm2d-488           [-1, 2048, 7, 7]           4,096\n",
      "          Conv2d-489           [-1, 2048, 7, 7]       2,097,152\n",
      "     BatchNorm2d-490           [-1, 2048, 7, 7]           4,096\n",
      "            ReLU-491           [-1, 2048, 7, 7]               0\n",
      "      Bottleneck-492           [-1, 2048, 7, 7]               0\n",
      "          Conv2d-493            [-1, 512, 7, 7]       1,048,576\n",
      "     BatchNorm2d-494            [-1, 512, 7, 7]           1,024\n",
      "            ReLU-495            [-1, 512, 7, 7]               0\n",
      "          Conv2d-496            [-1, 512, 7, 7]       2,359,296\n",
      "     BatchNorm2d-497            [-1, 512, 7, 7]           1,024\n",
      "            ReLU-498            [-1, 512, 7, 7]               0\n",
      "          Conv2d-499           [-1, 2048, 7, 7]       1,048,576\n",
      "     BatchNorm2d-500           [-1, 2048, 7, 7]           4,096\n",
      "            ReLU-501           [-1, 2048, 7, 7]               0\n",
      "      Bottleneck-502           [-1, 2048, 7, 7]               0\n",
      "          Conv2d-503            [-1, 512, 7, 7]       1,048,576\n",
      "     BatchNorm2d-504            [-1, 512, 7, 7]           1,024\n",
      "            ReLU-505            [-1, 512, 7, 7]               0\n",
      "          Conv2d-506            [-1, 512, 7, 7]       2,359,296\n",
      "     BatchNorm2d-507            [-1, 512, 7, 7]           1,024\n",
      "            ReLU-508            [-1, 512, 7, 7]               0\n",
      "          Conv2d-509           [-1, 2048, 7, 7]       1,048,576\n",
      "     BatchNorm2d-510           [-1, 2048, 7, 7]           4,096\n",
      "            ReLU-511           [-1, 2048, 7, 7]               0\n",
      "      Bottleneck-512           [-1, 2048, 7, 7]               0\n",
      "AdaptiveAvgPool2d-513           [-1, 2048, 1, 1]               0\n",
      "          Linear-514                  [-1, 256]         524,544\n",
      "            ReLU-515                  [-1, 256]               0\n",
      "         Dropout-516                  [-1, 256]               0\n",
      "          Linear-517                    [-1, 2]             514\n",
      "================================================================\n",
      "Total params: 58,668,866\n",
      "Trainable params: 58,668,866\n",
      "Non-trainable params: 0\n",
      "----------------------------------------------------------------\n",
      "Input size (MB): 0.57\n",
      "Forward/backward pass size (MB): 606.59\n",
      "Params size (MB): 223.80\n",
      "Estimated Total Size (MB): 830.97\n",
      "----------------------------------------------------------------\n"
     ]
    }
   ],
   "source": [
    "resnet =resnet.to(device)\n",
    "loss_fn = nn.CrossEntropyLoss()\n",
    "opt = optim.Adam(resnet.parameters(), lr=0.0001)\n",
    "summary(resnet, (3, 224, 224))"
   ]
  },
  {
   "cell_type": "code",
   "execution_count": 61,
   "id": "250a4382",
   "metadata": {},
   "outputs": [],
   "source": [
    "steps_per_epoch = len(trainloader)\n",
    "\n",
    "# Set the maximum learning rate and the factor by which to increase it\n",
    "max_lr = 0.01\n",
    "lr_step_factor = 8\n",
    "\n",
    "# Define the learning rate scheduler with the OneCycleLR policy\n",
    "scheduler = lr_scheduler.OneCycleLR(opt, max_lr, total_steps=50* steps_per_epoch, pct_start=0.3, div_factor=lr_step_factor)\n"
   ]
  },
  {
   "cell_type": "code",
   "execution_count": null,
   "id": "c2d6fb0b",
   "metadata": {},
   "outputs": [
    {
     "data": {
      "application/vnd.jupyter.widget-view+json": {
       "model_id": "26ad3ec451d1406ea83faba29f773bd7",
       "version_major": 2,
       "version_minor": 0
      },
      "text/plain": [
       "  0%|          | 0/50 [00:00<?, ?epochs/s]"
      ]
     },
     "metadata": {},
     "output_type": "display_data"
    },
    {
     "name": "stdout",
     "output_type": "stream",
     "text": [
      "Min loss 0.71\n",
      "Iteration: 0, Loss: 0.71\n",
      "Min loss 0.68\n",
      "Min loss 0.68\n",
      "Min loss 0.66\n",
      "Min loss 0.65\n",
      "Min loss 0.64\n",
      "Min loss 0.62\n",
      "Min loss 0.61\n",
      "Min loss 0.58\n",
      "Min loss 0.58\n",
      "Min loss 0.58\n",
      "Epoch: 0/50, Test acc: 50.99, Train acc: 52.13\n",
      "Iteration: 0, Loss: 0.70\n",
      "Min loss 0.57\n",
      "Min loss 0.56\n",
      "Min loss 0.56\n",
      "Min loss 0.55\n",
      "Min loss 0.55\n",
      "Min loss 0.53\n",
      "Min loss 0.38\n",
      "Epoch: 1/50, Test acc: 67.98, Train acc: 67.29\n",
      "Iteration: 0, Loss: 0.62\n",
      "Epoch: 2/50, Test acc: 67.98, Train acc: 66.74\n",
      "Iteration: 0, Loss: 0.53\n",
      "Epoch: 3/50, Test acc: 69.85, Train acc: 71.54\n",
      "Iteration: 0, Loss: 0.54\n",
      "Min loss 0.37\n",
      "Epoch: 4/50, Test acc: 73.68, Train acc: 74.75\n",
      "Iteration: 0, Loss: 0.43\n",
      "Min loss 0.35\n",
      "Min loss 0.34\n",
      "Min loss 0.33\n",
      "Min loss 0.31\n",
      "Epoch: 5/50, Test acc: 64.91, Train acc: 69.02\n",
      "Iteration: 0, Loss: 0.35\n",
      "Min loss 0.26\n",
      "Epoch: 6/50, Test acc: 76.10, Train acc: 77.38\n",
      "Iteration: 0, Loss: 0.37\n",
      "Min loss 0.24\n",
      "Min loss 0.23\n",
      "Epoch: 7/50, Test acc: 72.92, Train acc: 77.58\n",
      "Iteration: 0, Loss: 0.47\n",
      "Min loss 0.23\n",
      "Epoch: 8/50, Test acc: 77.30, Train acc: 79.78\n",
      "Iteration: 0, Loss: 0.34\n"
     ]
    }
   ],
   "source": [
    "best_model, loss_epoch_arr, train_accuracy_lis, val_accuracy_lis, val_loss_epoch_arr = train_func(resnet, loss_fn, opt, trainloader, valloader, scheduler , epochs=50\n",
    "                                                                            )      "
   ]
  },
  {
   "cell_type": "code",
   "execution_count": null,
   "id": "6ba3c234",
   "metadata": {},
   "outputs": [],
   "source": [
    "testloader = DataLoader(test_ds, batch_size=32, shuffle=False)"
   ]
  },
  {
   "cell_type": "code",
   "execution_count": null,
   "id": "fb643838",
   "metadata": {},
   "outputs": [],
   "source": [
    "evaluation(testloader,resnet)"
   ]
  },
  {
   "cell_type": "markdown",
   "id": "8750f42c",
   "metadata": {},
   "source": [
    "# Resnet 18"
   ]
  },
  {
   "cell_type": "code",
   "execution_count": null,
   "id": "5ba23e7a",
   "metadata": {},
   "outputs": [],
   "source": [
    "resnet = models.resnet18(weights=True)"
   ]
  },
  {
   "cell_type": "code",
   "execution_count": null,
   "id": "d82a09df",
   "metadata": {},
   "outputs": [],
   "source": [
    "for param in resnet.parameters():\n",
    "    param.requires_grad=False"
   ]
  },
  {
   "cell_type": "code",
   "execution_count": null,
   "id": "e2f66514",
   "metadata": {},
   "outputs": [],
   "source": [
    "num_features = resnet.fc.in_features\n",
    "new_classifier = nn.Sequential(\n",
    "    nn.Linear(num_features, 256), nn.ReLU(), nn.Dropout(0.2),\n",
    "    nn.Linear(256, 2))\n",
    "resnet.fc = new_classifier"
   ]
  },
  {
   "cell_type": "code",
   "execution_count": null,
   "id": "de007ca0",
   "metadata": {},
   "outputs": [],
   "source": [
    "resnet =resnet.to(device)\n",
    "loss_fn = nn.CrossEntropyLoss()\n",
    "opt = optim.Adam(resnet.parameters(), lr=0.0001)\n",
    "summary(resnet, (3, 224, 224))"
   ]
  },
  {
   "cell_type": "code",
   "execution_count": null,
   "id": "d40f1350",
   "metadata": {},
   "outputs": [],
   "source": [
    "steps_per_epoch = len(trainloader)\n",
    "\n",
    "# Set the maximum learning rate and the factor by which to increase it\n",
    "max_lr = 0.01\n",
    "lr_step_factor = 8\n",
    "\n",
    "# Define the learning rate scheduler with the OneCycleLR policy\n",
    "scheduler = lr_scheduler.OneCycleLR(opt, max_lr, total_steps=50* steps_per_epoch, pct_start=0.3, div_factor=lr_step_factor)\n"
   ]
  },
  {
   "cell_type": "code",
   "execution_count": null,
   "id": "c0bf46d2",
   "metadata": {},
   "outputs": [],
   "source": [
    "best_model, loss_epoch_arr, train_accuracy_lis, val_accuracy_lis, val_loss_epoch_arr = train_func(resnet, loss_fn, opt, trainloader, valloader, scheduler , epochs=50\n",
    "                                                                            )      "
   ]
  },
  {
   "cell_type": "code",
   "execution_count": null,
   "id": "e93d42af",
   "metadata": {},
   "outputs": [],
   "source": [
    "testloader = DataLoader(test_ds, batch_size=32, shuffle=False)"
   ]
  },
  {
   "cell_type": "code",
   "execution_count": null,
   "id": "56bcf102",
   "metadata": {},
   "outputs": [],
   "source": [
    "evaluation(testloader,resnet)"
   ]
  },
  {
   "cell_type": "markdown",
   "id": "48c93fcf",
   "metadata": {},
   "source": [
    "# resnet-34"
   ]
  },
  {
   "cell_type": "code",
   "execution_count": null,
   "id": "cba8addf",
   "metadata": {},
   "outputs": [],
   "source": [
    "resnet = models.resnet34(weights=True)"
   ]
  },
  {
   "cell_type": "code",
   "execution_count": null,
   "id": "26f3959e",
   "metadata": {},
   "outputs": [],
   "source": [
    "for param in resnet.parameters():\n",
    "    param.requires_grad=False"
   ]
  },
  {
   "cell_type": "code",
   "execution_count": null,
   "id": "5cff8f4a",
   "metadata": {},
   "outputs": [],
   "source": [
    "num_features = resnet.fc.in_features\n",
    "new_classifier = nn.Sequential(\n",
    "    nn.Linear(num_features, 256), nn.ReLU(), nn.Dropout(0.2),\n",
    "    nn.Linear(256, 2))\n",
    "resnet.fc = new_classifier"
   ]
  },
  {
   "cell_type": "code",
   "execution_count": null,
   "id": "5c6a9a91",
   "metadata": {},
   "outputs": [],
   "source": [
    "resnet =resnet.to(device)\n",
    "loss_fn = nn.CrossEntropyLoss()\n",
    "opt = optim.Adam(resnet.parameters(), lr=0.0001)\n",
    "summary(resnet, (3, 224, 224))"
   ]
  },
  {
   "cell_type": "code",
   "execution_count": null,
   "id": "a786a5fe",
   "metadata": {},
   "outputs": [],
   "source": [
    "steps_per_epoch = len(trainloader)\n",
    "\n",
    "# Set the maximum learning rate and the factor by which to increase it\n",
    "max_lr = 0.01\n",
    "lr_step_factor = 8\n",
    "\n",
    "# Define the learning rate scheduler with the OneCycleLR policy\n",
    "scheduler = lr_scheduler.OneCycleLR(opt, max_lr, total_steps=50* steps_per_epoch, pct_start=0.3, div_factor=lr_step_factor)\n"
   ]
  },
  {
   "cell_type": "code",
   "execution_count": null,
   "id": "1c4e9964",
   "metadata": {},
   "outputs": [],
   "source": [
    "best_model, loss_epoch_arr, train_accuracy_lis, val_accuracy_lis, val_loss_epoch_arr = train_func(resnet, loss_fn, opt, trainloader, valloader, scheduler , epochs=50\n",
    "                                                                            )      "
   ]
  },
  {
   "cell_type": "code",
   "execution_count": null,
   "id": "caf5fc0d",
   "metadata": {},
   "outputs": [],
   "source": [
    "testloader = DataLoader(test_ds, batch_size=32, shuffle=False)"
   ]
  },
  {
   "cell_type": "code",
   "execution_count": null,
   "id": "cdfc5ccb",
   "metadata": {},
   "outputs": [],
   "source": [
    "evaluation(testloader,resnet)"
   ]
  },
  {
   "cell_type": "markdown",
   "id": "12ccb179",
   "metadata": {},
   "source": [
    "# resnet 101"
   ]
  },
  {
   "cell_type": "code",
   "execution_count": null,
   "id": "dedbd4c4",
   "metadata": {},
   "outputs": [],
   "source": [
    "resnet = models.resnet101(weights=True)"
   ]
  },
  {
   "cell_type": "code",
   "execution_count": null,
   "id": "4600161c",
   "metadata": {},
   "outputs": [],
   "source": [
    "for param in resnet.parameters():\n",
    "    param.requires_grad=False"
   ]
  },
  {
   "cell_type": "code",
   "execution_count": null,
   "id": "1e07fc31",
   "metadata": {},
   "outputs": [],
   "source": [
    "num_features = resnet.fc.in_features\n",
    "new_classifier = nn.Sequential(\n",
    "    nn.Linear(num_features, 256), nn.ReLU(), nn.Dropout(0.2),\n",
    "    nn.Linear(256, 2))\n",
    "resnet.fc = new_classifier"
   ]
  },
  {
   "cell_type": "code",
   "execution_count": null,
   "id": "353294d6",
   "metadata": {},
   "outputs": [],
   "source": [
    "resnet =resnet.to(device)\n",
    "loss_fn = nn.CrossEntropyLoss()\n",
    "opt = optim.Adam(resnet.parameters(), lr=0.0001)\n",
    "summary(resnet, (3, 224, 224))"
   ]
  },
  {
   "cell_type": "code",
   "execution_count": null,
   "id": "124a50c9",
   "metadata": {},
   "outputs": [],
   "source": [
    "steps_per_epoch = len(trainloader)\n",
    "\n",
    "# Set the maximum learning rate and the factor by which to increase it\n",
    "max_lr = 0.01\n",
    "lr_step_factor = 8\n",
    "\n",
    "# Define the learning rate scheduler with the OneCycleLR policy\n",
    "scheduler = lr_scheduler.OneCycleLR(opt, max_lr, total_steps=50* steps_per_epoch, pct_start=0.3, div_factor=lr_step_factor)\n"
   ]
  },
  {
   "cell_type": "code",
   "execution_count": null,
   "id": "b2936985",
   "metadata": {},
   "outputs": [],
   "source": [
    "best_model, loss_epoch_arr, train_accuracy_lis, val_accuracy_lis, val_loss_epoch_arr = train_func(resnet, loss_fn, opt, trainloader, valloader, scheduler , epochs=50\n",
    "                                                                            )      "
   ]
  },
  {
   "cell_type": "code",
   "execution_count": null,
   "id": "3f8c5e3a",
   "metadata": {},
   "outputs": [],
   "source": [
    "testloader = DataLoader(test_ds, batch_size=32, shuffle=False)"
   ]
  },
  {
   "cell_type": "code",
   "execution_count": null,
   "id": "890184a7",
   "metadata": {},
   "outputs": [],
   "source": [
    "evaluation(testloader,resnet)"
   ]
  },
  {
   "cell_type": "markdown",
   "id": "d8a3a05f",
   "metadata": {},
   "source": [
    "# VGG-16"
   ]
  },
  {
   "cell_type": "code",
   "execution_count": null,
   "id": "7974f9dd",
   "metadata": {},
   "outputs": [],
   "source": [
    "vgg16 = models.vgg16_bn(pretrained=True)"
   ]
  },
  {
   "cell_type": "code",
   "execution_count": null,
   "id": "c9010881",
   "metadata": {},
   "outputs": [],
   "source": [
    "for param in vgg16.features.parameters():\n",
    "    param.requires_grad = False"
   ]
  },
  {
   "cell_type": "code",
   "execution_count": null,
   "id": "ecb57e14",
   "metadata": {},
   "outputs": [],
   "source": [
    "num_features = vgg16.classifier[6].in_features\n",
    "vgg16.classifier[6] = nn.Linear(num_features, 2)"
   ]
  },
  {
   "cell_type": "code",
   "execution_count": null,
   "id": "c1ceadf2",
   "metadata": {},
   "outputs": [],
   "source": [
    "vgg16 = vgg16.to(device)\n",
    "loss_fn = nn.CrossEntropyLoss()\n",
    "opt = optim.Adam(vgg16.parameters(), lr=0.0001)"
   ]
  },
  {
   "cell_type": "code",
   "execution_count": null,
   "id": "0114385e",
   "metadata": {},
   "outputs": [],
   "source": [
    "steps_per_epoch = len(trainloader)\n",
    "\n",
    "# Set the maximum learning rate and the factor by which to increase it\n",
    "max_lr = 0.01\n",
    "lr_step_factor = 8\n",
    "\n",
    "# Define the learning rate scheduler with the OneCycleLR policy\n",
    "scheduler = lr_scheduler.OneCycleLR(opt, max_lr, total_steps=50* steps_per_epoch, pct_start=0.3, div_factor=lr_step_factor)"
   ]
  },
  {
   "cell_type": "code",
   "execution_count": null,
   "id": "d9be3e15",
   "metadata": {},
   "outputs": [],
   "source": [
    "best_model, loss_epoch_arr, train_accuracy_lis, val_accuracy_lis, val_loss_epoch_arr = train_func(vgg16, loss_fn, opt, trainloader, valloader, scheduler , epochs=50\n",
    "                                                                            )      "
   ]
  },
  {
   "cell_type": "code",
   "execution_count": null,
   "id": "f3f59840",
   "metadata": {},
   "outputs": [],
   "source": [
    "testloader = DataLoader(test_ds, batch_size=32, shuffle=False)"
   ]
  },
  {
   "cell_type": "code",
   "execution_count": null,
   "id": "562db651",
   "metadata": {},
   "outputs": [],
   "source": [
    "evaluation(testloader,vgg16)"
   ]
  },
  {
   "cell_type": "markdown",
   "id": "302bb6cb",
   "metadata": {},
   "source": [
    "# VGG-19"
   ]
  },
  {
   "cell_type": "code",
   "execution_count": null,
   "id": "057b5933",
   "metadata": {},
   "outputs": [],
   "source": [
    "vgg19 = models.vgg19_bn(pretrained=True)"
   ]
  },
  {
   "cell_type": "code",
   "execution_count": null,
   "id": "39954775",
   "metadata": {},
   "outputs": [],
   "source": [
    "for param in vgg19.features.parameters():\n",
    "    param.requires_grad = False"
   ]
  },
  {
   "cell_type": "code",
   "execution_count": null,
   "id": "4c987192",
   "metadata": {},
   "outputs": [],
   "source": [
    "num_features = vgg19.classifier[6].in_features\n",
    "vgg19.classifier[6] = nn.Linear(num_features, 2)"
   ]
  },
  {
   "cell_type": "code",
   "execution_count": null,
   "id": "46a1ba55",
   "metadata": {},
   "outputs": [],
   "source": [
    "vgg19 = vgg19.to(device)\n",
    "loss_fn = nn.CrossEntropyLoss()\n",
    "opt = optim.Adam(vgg19.parameters(), lr=0.0001)"
   ]
  },
  {
   "cell_type": "code",
   "execution_count": null,
   "id": "35c6da8d",
   "metadata": {},
   "outputs": [],
   "source": [
    "steps_per_epoch = len(trainloader)\n",
    "\n",
    "# Set the maximum learning rate and the factor by which to increase it\n",
    "max_lr = 0.01\n",
    "lr_step_factor = 8\n",
    "\n",
    "# Define the learning rate scheduler with the OneCycleLR policy\n",
    "scheduler = lr_scheduler.OneCycleLR(opt, max_lr, total_steps=50* steps_per_epoch, pct_start=0.3, div_factor=lr_step_factor)"
   ]
  },
  {
   "cell_type": "code",
   "execution_count": null,
   "id": "9c042566",
   "metadata": {},
   "outputs": [],
   "source": [
    "best_model, loss_epoch_arr, train_accuracy_lis, val_accuracy_lis, val_loss_epoch_arr = train_func(vgg19, loss_fn, opt, trainloader, valloader, scheduler , epochs=50\n",
    "                                                                            )      "
   ]
  },
  {
   "cell_type": "code",
   "execution_count": null,
   "id": "ef9ef1fc",
   "metadata": {},
   "outputs": [],
   "source": [
    "testloader = DataLoader(test_ds, batch_size=32, shuffle=False)"
   ]
  },
  {
   "cell_type": "code",
   "execution_count": null,
   "id": "97ead7cd",
   "metadata": {},
   "outputs": [],
   "source": [
    "evaluation(testloader,vgg19)"
   ]
  },
  {
   "cell_type": "markdown",
   "id": "b0cf800b",
   "metadata": {},
   "source": [
    "# Densenet121"
   ]
  },
  {
   "cell_type": "code",
   "execution_count": null,
   "id": "fc02e083",
   "metadata": {},
   "outputs": [],
   "source": [
    "densenet121 = models.densenet121(pretrained=True)"
   ]
  },
  {
   "cell_type": "code",
   "execution_count": null,
   "id": "d54480f7",
   "metadata": {},
   "outputs": [],
   "source": [
    "for param in densenet121.features.parameters():\n",
    "    param.requires_grad = False\n"
   ]
  },
  {
   "cell_type": "code",
   "execution_count": null,
   "id": "20063da0",
   "metadata": {},
   "outputs": [],
   "source": [
    "num_features = densenet121.classifier.in_features\n",
    "densenet121.classifier = nn.Linear(num_features, 2)"
   ]
  },
  {
   "cell_type": "code",
   "execution_count": null,
   "id": "cc19bdbd",
   "metadata": {},
   "outputs": [],
   "source": [
    "densenet121 = densenet121.to(device)\n",
    "loss_fn = nn.CrossEntropyLoss()\n",
    "opt = optim.Adam(densenet121.parameters(), lr=0.0001)"
   ]
  },
  {
   "cell_type": "code",
   "execution_count": null,
   "id": "349161e5",
   "metadata": {},
   "outputs": [],
   "source": [
    "steps_per_epoch = len(trainloader)\n",
    "\n",
    "# Set the maximum learning rate and the factor by which to increase it\n",
    "max_lr = 0.01\n",
    "lr_step_factor = 8\n",
    "\n",
    "# Define the learning rate scheduler with the OneCycleLR policy\n",
    "scheduler = lr_scheduler.OneCycleLR(opt, max_lr, total_steps=50* steps_per_epoch, pct_start=0.3, div_factor=lr_step_factor)"
   ]
  },
  {
   "cell_type": "code",
   "execution_count": null,
   "id": "c6eea9b0",
   "metadata": {},
   "outputs": [],
   "source": [
    "best_model, loss_epoch_arr, train_accuracy_lis, val_accuracy_lis, val_loss_epoch_arr = train_func(densenet121, loss_fn, opt, trainloader, valloader, scheduler , epochs=50\n",
    "                                                                            )      "
   ]
  },
  {
   "cell_type": "code",
   "execution_count": null,
   "id": "27ac98f0",
   "metadata": {},
   "outputs": [],
   "source": [
    "testloader = DataLoader(test_ds, batch_size=32, shuffle=False)"
   ]
  },
  {
   "cell_type": "code",
   "execution_count": null,
   "id": "cf509079",
   "metadata": {},
   "outputs": [],
   "source": [
    "evaluation(testloader,densenet121)"
   ]
  },
  {
   "cell_type": "markdown",
   "id": "37fdf3bf",
   "metadata": {},
   "source": [
    "# DenseNet201"
   ]
  },
  {
   "cell_type": "code",
   "execution_count": null,
   "id": "326ee151",
   "metadata": {},
   "outputs": [],
   "source": [
    "densenet201 = models.densenet201(weights=True)"
   ]
  },
  {
   "cell_type": "code",
   "execution_count": null,
   "id": "c7a460e1",
   "metadata": {},
   "outputs": [],
   "source": [
    "for param in densenet201.features.parameters():\n",
    "    param.requires_grad = True"
   ]
  },
  {
   "cell_type": "code",
   "execution_count": null,
   "id": "9e4cb7a4",
   "metadata": {},
   "outputs": [],
   "source": [
    "num_features = densenet201.classifier.in_features\n",
    "densenet201.classifier = nn.Linear(num_features, 2)"
   ]
  },
  {
   "cell_type": "code",
   "execution_count": null,
   "id": "a4378e4a",
   "metadata": {},
   "outputs": [],
   "source": [
    "densenet201 = densenet201.to(device)\n",
    "loss_fn = nn.CrossEntropyLoss()\n",
    "opt = optim.Adam(densenet201.parameters(), lr=0.001)"
   ]
  },
  {
   "cell_type": "code",
   "execution_count": null,
   "id": "13daa2c7",
   "metadata": {
    "scrolled": false
   },
   "outputs": [],
   "source": [
    "best_model, loss_epoch_arr, train_accuracy_lis, val_accuracy_lis, val_loss_epoch_arr = train_func(densenet201, loss_fn, opt, trainloader, valloader, scheduler , epochs=100\n",
    "                                                                            )      "
   ]
  },
  {
   "cell_type": "code",
   "execution_count": null,
   "id": "b517a951",
   "metadata": {},
   "outputs": [],
   "source": [
    "testloader = DataLoader(test_ds, batch_size=32, shuffle=False)"
   ]
  },
  {
   "cell_type": "code",
   "execution_count": null,
   "id": "8b640405",
   "metadata": {},
   "outputs": [],
   "source": [
    "evaluation(testloader,densenet201)"
   ]
  },
  {
   "cell_type": "code",
   "execution_count": null,
   "id": "fc39a3cb",
   "metadata": {},
   "outputs": [],
   "source": [
    "densenet201b= models.densenet201(weights=False)"
   ]
  },
  {
   "cell_type": "code",
   "execution_count": null,
   "id": "e62ae724",
   "metadata": {},
   "outputs": [],
   "source": [
    "for param in densenet201b.features.parameters():\n",
    "    param.requires_grad = True"
   ]
  },
  {
   "cell_type": "code",
   "execution_count": null,
   "id": "a63c22a4",
   "metadata": {},
   "outputs": [],
   "source": [
    "num_features = densenet201b.classifier.in_features\n",
    "densenet201b.classifier = nn.Linear(num_features, 2)"
   ]
  },
  {
   "cell_type": "code",
   "execution_count": null,
   "id": "a09665af",
   "metadata": {},
   "outputs": [],
   "source": [
    "densenet201b = densenet201b.to(device)\n",
    "loss_fn = nn.CrossEntropyLoss()\n",
    "opt = optim.Adam(densenet201b.parameters(), lr=0.001)"
   ]
  },
  {
   "cell_type": "code",
   "execution_count": null,
   "id": "51db8bba",
   "metadata": {
    "scrolled": false
   },
   "outputs": [],
   "source": [
    "best_modelb, loss_epoch_arrb, train_accuracy_lisb, val_accuracy_lisb, val_loss_epoch_arrb = train_func(densenet201b, loss_fn, opt, trainloader, valloader, scheduler , epochs=100\n",
    "                                                                            )      "
   ]
  },
  {
   "cell_type": "code",
   "execution_count": null,
   "id": "b5724c10",
   "metadata": {},
   "outputs": [],
   "source": [
    "testloaderb = DataLoader(test_ds, batch_size=32, shuffle=False)"
   ]
  },
  {
   "cell_type": "code",
   "execution_count": null,
   "id": "9a0a2135",
   "metadata": {},
   "outputs": [],
   "source": [
    "evaluation(testloaderb,densenet201b)"
   ]
  },
  {
   "cell_type": "code",
   "execution_count": null,
   "id": "de42e001",
   "metadata": {},
   "outputs": [],
   "source": []
  },
  {
   "cell_type": "code",
   "execution_count": null,
   "id": "f5e6c1f0",
   "metadata": {},
   "outputs": [],
   "source": []
  },
  {
   "cell_type": "code",
   "execution_count": null,
   "id": "972ed585",
   "metadata": {},
   "outputs": [],
   "source": []
  },
  {
   "cell_type": "markdown",
   "id": "b28e8cf8",
   "metadata": {},
   "source": [
    "# Data1"
   ]
  },
  {
   "cell_type": "code",
   "execution_count": null,
   "id": "751be952",
   "metadata": {},
   "outputs": [],
   "source": [
    "data_dir='G:\\DCDA-Net\\Data_1'\n",
    "print(os.listdir(data_dir))"
   ]
  },
  {
   "cell_type": "code",
   "execution_count": null,
   "id": "cba07efc",
   "metadata": {},
   "outputs": [],
   "source": [
    "device = torch.device(\"cuda:0\" if torch.cuda.is_available() else \"cpu\")\n",
    "print(device)"
   ]
  },
  {
   "cell_type": "code",
   "execution_count": null,
   "id": "a78a6626",
   "metadata": {},
   "outputs": [],
   "source": [
    "transform = transforms.Compose([\n",
    "                transforms.ToTensor(),\n",
    "                transforms.Resize(size=(224,224)),\n",
    "                transforms.Normalize((0.3570, 0.7503, 0.5559), (0.3445, 0.0633, 0.2608))\n",
    "                ])"
   ]
  },
  {
   "cell_type": "code",
   "execution_count": null,
   "id": "4bdf2240",
   "metadata": {},
   "outputs": [],
   "source": [
    "dataset=ImageFolder(data_dir,transform=transform)\n",
    "torch.manual_seed(42)\n",
    "train_ds, val_ds, test_ds = random_split(dataset, [0.8,0.15,0.05])\n",
    "len(train_ds),len(val_ds),len(test_ds)"
   ]
  },
  {
   "cell_type": "code",
   "execution_count": null,
   "id": "38327145",
   "metadata": {},
   "outputs": [],
   "source": [
    "trainloader =DataLoader(train_ds, batch_size=16, shuffle=True,num_workers=4)\n",
    "valloader = DataLoader(val_ds, batch_size=32, shuffle=True,num_workers=4)"
   ]
  },
  {
   "cell_type": "code",
   "execution_count": null,
   "id": "70a22ca5",
   "metadata": {},
   "outputs": [],
   "source": [
    "def evaluation(dataloader, model):\n",
    "    total, correct = 0, 0\n",
    "    model.eval()\n",
    "    for data in dataloader:\n",
    "        inputs, labels = data\n",
    "        inputs, labels = inputs.to(device), labels.to(device)\n",
    "        outputs = model(inputs)\n",
    "        _, pred = torch.max(outputs.data, 1)\n",
    "\n",
    "        total += labels.size(0)\n",
    "        correct += (pred == labels).sum().item()\n",
    "    return 100 * correct / total"
   ]
  },
  {
   "cell_type": "code",
   "execution_count": null,
   "id": "4b6d1359",
   "metadata": {},
   "outputs": [],
   "source": [
    "def train_func(model, loss_fn, opt, trainloader, valloader, scheduler , epochs=50):\n",
    "    loss_epoch_arr = []\n",
    "    train_accuracy_lis = []\n",
    "    val_accuracy_lis = []\n",
    "    val_loss_epoch_arr = []\n",
    "\n",
    "    max_epochs = epochs\n",
    "    min_loss = 1000\n",
    "    model.train()\n",
    "\n",
    "    for epoch in notebook.tqdm(range(max_epochs), total=max_epochs, unit=\"epochs\"):\n",
    "        model.train()\n",
    "        for i, data in enumerate(trainloader, 0):\n",
    "    \n",
    "            inputs, labels = data\n",
    "            inputs, labels = inputs.to(device), labels.to(device)\n",
    "            opt.zero_grad()\n",
    "            outputs = model(inputs)\n",
    "            loss = loss_fn(outputs, labels)\n",
    "            loss.backward()\n",
    "            opt.step()\n",
    "            scheduler.step()\n",
    "\n",
    "            if min_loss > loss.item():\n",
    "                min_loss = loss.item()\n",
    "                best_model = copy.deepcopy(model.state_dict())\n",
    "                print(\"Min loss %0.2f\" %min_loss)\n",
    "            del inputs, labels, outputs\n",
    "            if torch.cuda.is_available():\n",
    "                torch.cuda.empty_cache()\n",
    "            if i % 2000 == 0:\n",
    "                print('Iteration: %d, Loss: %0.2f' % (i, loss.item()))\n",
    "            \n",
    "       \n",
    "        loss_epoch_arr.append(loss.item())\n",
    "        train_accuracy = evaluation(trainloader, model)\n",
    "        val_accuracy = evaluation(valloader, model)\n",
    "        print('Epoch: %d/%d, Test acc: %0.2f, Train acc: %0.2f' % (\n",
    "              epoch, max_epochs, val_accuracy, train_accuracy))\n",
    "        train_accuracy_lis.append(train_accuracy)\n",
    "        val_accuracy_lis.append(val_accuracy)\n",
    "    \n",
    "        model.eval()\n",
    "        with torch.no_grad():\n",
    "            for i, data in enumerate(valloader, 0):\n",
    "                inputs, labels = data\n",
    "                inputs, labels = inputs.to(device), labels.to(device)\n",
    "                outputs = model(inputs)\n",
    "                loss = loss_fn(outputs, labels)\n",
    "\n",
    "        del inputs, labels, outputs\n",
    "        if torch.cuda.is_available():\n",
    "            torch.cuda.empty_cache()\n",
    "\n",
    "        val_loss_epoch_arr.append(loss.item())\n",
    "    return best_model, loss_epoch_arr, train_accuracy_lis, val_accuracy_lis, val_loss_epoch_arr"
   ]
  },
  {
   "cell_type": "markdown",
   "id": "f54f879e",
   "metadata": {},
   "source": [
    "# Resnet50"
   ]
  },
  {
   "cell_type": "code",
   "execution_count": null,
   "id": "e52fb354",
   "metadata": {},
   "outputs": [],
   "source": [
    "resnet = models.resnet50(weights=True)"
   ]
  },
  {
   "cell_type": "code",
   "execution_count": null,
   "id": "5a561604",
   "metadata": {},
   "outputs": [],
   "source": [
    "for param in resnet.parameters():\n",
    "    param.requires_grad=False"
   ]
  },
  {
   "cell_type": "code",
   "execution_count": null,
   "id": "9794e2b0",
   "metadata": {},
   "outputs": [],
   "source": [
    "num_features = resnet.fc.in_features\n",
    "new_classifier = nn.Sequential(\n",
    "    nn.Linear(num_features, 256), nn.ReLU(), nn.Dropout(0.2),\n",
    "    nn.Linear(256, 2))\n",
    "resnet.fc = new_classifier"
   ]
  },
  {
   "cell_type": "code",
   "execution_count": null,
   "id": "380e308c",
   "metadata": {},
   "outputs": [],
   "source": [
    "resnet =resnet.to(device)\n",
    "loss_fn = nn.CrossEntropyLoss()\n",
    "opt = optim.Adam(resnet.parameters(), lr=0.0001)\n",
    "summary(resnet, (3, 224, 224))"
   ]
  },
  {
   "cell_type": "code",
   "execution_count": null,
   "id": "3b03ef6b",
   "metadata": {},
   "outputs": [],
   "source": [
    "steps_per_epoch = len(trainloader)\n",
    "\n",
    "# Set the maximum learning rate and the factor by which to increase it\n",
    "max_lr = 0.01\n",
    "lr_step_factor = 8\n",
    "\n",
    "# Define the learning rate scheduler with the OneCycleLR policy\n",
    "scheduler = lr_scheduler.OneCycleLR(opt, max_lr, total_steps=50* steps_per_epoch, pct_start=0.3, div_factor=lr_step_factor)\n"
   ]
  },
  {
   "cell_type": "code",
   "execution_count": null,
   "id": "2eca626b",
   "metadata": {},
   "outputs": [],
   "source": [
    "best_model, loss_epoch_arr, train_accuracy_lis, val_accuracy_lis, val_loss_epoch_arr = train_func(resnet, loss_fn, opt, trainloader, valloader, scheduler , epochs=50\n",
    "                                                                            )      "
   ]
  },
  {
   "cell_type": "code",
   "execution_count": null,
   "id": "b08216ab",
   "metadata": {},
   "outputs": [],
   "source": [
    "testloader = DataLoader(test_ds, batch_size=32, shuffle=False)"
   ]
  },
  {
   "cell_type": "code",
   "execution_count": null,
   "id": "240cef81",
   "metadata": {},
   "outputs": [],
   "source": [
    "evaluation(testloader,resnet)"
   ]
  },
  {
   "cell_type": "markdown",
   "id": "fe830ff8",
   "metadata": {},
   "source": [
    "# Resnet-152"
   ]
  },
  {
   "cell_type": "code",
   "execution_count": null,
   "id": "f007dd62",
   "metadata": {},
   "outputs": [],
   "source": [
    "resnet = models.resnet152(weights=True)"
   ]
  },
  {
   "cell_type": "code",
   "execution_count": null,
   "id": "fb128894",
   "metadata": {},
   "outputs": [],
   "source": [
    "for param in resnet.parameters():\n",
    "    param.requires_grad=False"
   ]
  },
  {
   "cell_type": "code",
   "execution_count": null,
   "id": "c4c8469a",
   "metadata": {},
   "outputs": [],
   "source": [
    "num_features = resnet.fc.in_features\n",
    "new_classifier = nn.Sequential(\n",
    "    nn.Linear(num_features, 256), nn.ReLU(), nn.Dropout(0.2),\n",
    "    nn.Linear(256, 2))\n",
    "resnet.fc = new_classifier"
   ]
  },
  {
   "cell_type": "code",
   "execution_count": null,
   "id": "6bab3825",
   "metadata": {},
   "outputs": [],
   "source": [
    "resnet =resnet.to(device)\n",
    "loss_fn = nn.CrossEntropyLoss()\n",
    "opt = optim.Adam(resnet.parameters(), lr=0.0001)\n",
    "summary(resnet, (3, 224, 224))"
   ]
  },
  {
   "cell_type": "code",
   "execution_count": null,
   "id": "60c936df",
   "metadata": {},
   "outputs": [],
   "source": [
    "steps_per_epoch = len(trainloader)\n",
    "\n",
    "# Set the maximum learning rate and the factor by which to increase it\n",
    "max_lr = 0.01\n",
    "lr_step_factor = 8\n",
    "\n",
    "# Define the learning rate scheduler with the OneCycleLR policy\n",
    "scheduler = lr_scheduler.OneCycleLR(opt, max_lr, total_steps=50* steps_per_epoch, pct_start=0.3, div_factor=lr_step_factor)\n"
   ]
  },
  {
   "cell_type": "code",
   "execution_count": null,
   "id": "6e7681c5",
   "metadata": {},
   "outputs": [],
   "source": [
    "best_model, loss_epoch_arr, train_accuracy_lis, val_accuracy_lis, val_loss_epoch_arr = train_func(resnet, loss_fn, opt, trainloader, valloader, scheduler , epochs=50\n",
    "                                                                            )      "
   ]
  },
  {
   "cell_type": "code",
   "execution_count": null,
   "id": "81ff71b3",
   "metadata": {},
   "outputs": [],
   "source": [
    "testloader = DataLoader(test_ds, batch_size=32, shuffle=False)"
   ]
  },
  {
   "cell_type": "code",
   "execution_count": null,
   "id": "4afad551",
   "metadata": {},
   "outputs": [],
   "source": [
    "evaluation(testloader,resnet)"
   ]
  },
  {
   "cell_type": "markdown",
   "id": "4c6802db",
   "metadata": {},
   "source": [
    "# Resnet 18"
   ]
  },
  {
   "cell_type": "code",
   "execution_count": null,
   "id": "29ee1450",
   "metadata": {},
   "outputs": [],
   "source": [
    "resnet = models.resnet18(weights=True)"
   ]
  },
  {
   "cell_type": "code",
   "execution_count": null,
   "id": "51ee7b76",
   "metadata": {},
   "outputs": [],
   "source": [
    "for param in resnet.parameters():\n",
    "    param.requires_grad=False"
   ]
  },
  {
   "cell_type": "code",
   "execution_count": null,
   "id": "404517dd",
   "metadata": {},
   "outputs": [],
   "source": [
    "num_features = resnet.fc.in_features\n",
    "new_classifier = nn.Sequential(\n",
    "    nn.Linear(num_features, 256), nn.ReLU(), nn.Dropout(0.2),\n",
    "    nn.Linear(256, 2))\n",
    "resnet.fc = new_classifier"
   ]
  },
  {
   "cell_type": "code",
   "execution_count": null,
   "id": "741b1367",
   "metadata": {},
   "outputs": [],
   "source": [
    "resnet =resnet.to(device)\n",
    "loss_fn = nn.CrossEntropyLoss()\n",
    "opt = optim.Adam(resnet.parameters(), lr=0.0001)\n",
    "summary(resnet, (3, 224, 224))"
   ]
  },
  {
   "cell_type": "code",
   "execution_count": null,
   "id": "83a9351c",
   "metadata": {},
   "outputs": [],
   "source": [
    "steps_per_epoch = len(trainloader)\n",
    "\n",
    "# Set the maximum learning rate and the factor by which to increase it\n",
    "max_lr = 0.01\n",
    "lr_step_factor = 8\n",
    "\n",
    "# Define the learning rate scheduler with the OneCycleLR policy\n",
    "scheduler = lr_scheduler.OneCycleLR(opt, max_lr, total_steps=50* steps_per_epoch, pct_start=0.3, div_factor=lr_step_factor)\n"
   ]
  },
  {
   "cell_type": "code",
   "execution_count": null,
   "id": "09fba94a",
   "metadata": {},
   "outputs": [],
   "source": [
    "best_model, loss_epoch_arr, train_accuracy_lis, val_accuracy_lis, val_loss_epoch_arr = train_func(resnet, loss_fn, opt, trainloader, valloader, scheduler , epochs=50\n",
    "                                                                            )      "
   ]
  },
  {
   "cell_type": "code",
   "execution_count": null,
   "id": "325b75d3",
   "metadata": {},
   "outputs": [],
   "source": [
    "testloader = DataLoader(test_ds, batch_size=32, shuffle=False)"
   ]
  },
  {
   "cell_type": "code",
   "execution_count": null,
   "id": "01a385b6",
   "metadata": {},
   "outputs": [],
   "source": [
    "evaluation(testloader,resnet)"
   ]
  },
  {
   "cell_type": "markdown",
   "id": "e9370323",
   "metadata": {},
   "source": [
    "# resnet-34"
   ]
  },
  {
   "cell_type": "code",
   "execution_count": null,
   "id": "b05641ae",
   "metadata": {},
   "outputs": [],
   "source": [
    "resnet = models.resnet34(weights=True)"
   ]
  },
  {
   "cell_type": "code",
   "execution_count": null,
   "id": "0440a221",
   "metadata": {},
   "outputs": [],
   "source": [
    "for param in resnet.parameters():\n",
    "    param.requires_grad=False"
   ]
  },
  {
   "cell_type": "code",
   "execution_count": null,
   "id": "05d44606",
   "metadata": {},
   "outputs": [],
   "source": [
    "num_features = resnet.fc.in_features\n",
    "new_classifier = nn.Sequential(\n",
    "    nn.Linear(num_features, 256), nn.ReLU(), nn.Dropout(0.2),\n",
    "    nn.Linear(256, 2))\n",
    "resnet.fc = new_classifier"
   ]
  },
  {
   "cell_type": "code",
   "execution_count": null,
   "id": "96f57da1",
   "metadata": {},
   "outputs": [],
   "source": [
    "resnet =resnet.to(device)\n",
    "loss_fn = nn.CrossEntropyLoss()\n",
    "opt = optim.Adam(resnet.parameters(), lr=0.0001)\n",
    "summary(resnet, (3, 224, 224))"
   ]
  },
  {
   "cell_type": "code",
   "execution_count": null,
   "id": "042f4ff0",
   "metadata": {},
   "outputs": [],
   "source": [
    "steps_per_epoch = len(trainloader)\n",
    "\n",
    "# Set the maximum learning rate and the factor by which to increase it\n",
    "max_lr = 0.01\n",
    "lr_step_factor = 8\n",
    "\n",
    "# Define the learning rate scheduler with the OneCycleLR policy\n",
    "scheduler = lr_scheduler.OneCycleLR(opt, max_lr, total_steps=50* steps_per_epoch, pct_start=0.3, div_factor=lr_step_factor)\n"
   ]
  },
  {
   "cell_type": "code",
   "execution_count": null,
   "id": "608fb592",
   "metadata": {},
   "outputs": [],
   "source": [
    "best_model, loss_epoch_arr, train_accuracy_lis, val_accuracy_lis, val_loss_epoch_arr = train_func(resnet, loss_fn, opt, trainloader, valloader, scheduler , epochs=50\n",
    "                                                                            )      "
   ]
  },
  {
   "cell_type": "code",
   "execution_count": null,
   "id": "75a58e44",
   "metadata": {},
   "outputs": [],
   "source": [
    "testloader = DataLoader(test_ds, batch_size=32, shuffle=False)"
   ]
  },
  {
   "cell_type": "code",
   "execution_count": null,
   "id": "433a2029",
   "metadata": {},
   "outputs": [],
   "source": [
    "evaluation(testloader,resnet)"
   ]
  },
  {
   "cell_type": "markdown",
   "id": "47838698",
   "metadata": {},
   "source": [
    "# resnet 101"
   ]
  },
  {
   "cell_type": "code",
   "execution_count": null,
   "id": "964350da",
   "metadata": {},
   "outputs": [],
   "source": [
    "resnet = models.resnet101(weights=True)"
   ]
  },
  {
   "cell_type": "code",
   "execution_count": null,
   "id": "f1dd2573",
   "metadata": {},
   "outputs": [],
   "source": [
    "for param in resnet.parameters():\n",
    "    param.requires_grad=False"
   ]
  },
  {
   "cell_type": "code",
   "execution_count": null,
   "id": "0d9dff07",
   "metadata": {},
   "outputs": [],
   "source": [
    "num_features = resnet.fc.in_features\n",
    "new_classifier = nn.Sequential(\n",
    "    nn.Linear(num_features, 256), nn.ReLU(), nn.Dropout(0.2),\n",
    "    nn.Linear(256, 2))\n",
    "resnet.fc = new_classifier"
   ]
  },
  {
   "cell_type": "code",
   "execution_count": null,
   "id": "b4c0e8ff",
   "metadata": {},
   "outputs": [],
   "source": [
    "resnet =resnet.to(device)\n",
    "loss_fn = nn.CrossEntropyLoss()\n",
    "opt = optim.Adam(resnet.parameters(), lr=0.0001)\n",
    "summary(resnet, (3, 224, 224))"
   ]
  },
  {
   "cell_type": "code",
   "execution_count": null,
   "id": "0c2b7e37",
   "metadata": {},
   "outputs": [],
   "source": [
    "steps_per_epoch = len(trainloader)\n",
    "\n",
    "# Set the maximum learning rate and the factor by which to increase it\n",
    "max_lr = 0.01\n",
    "lr_step_factor = 8\n",
    "\n",
    "# Define the learning rate scheduler with the OneCycleLR policy\n",
    "scheduler = lr_scheduler.OneCycleLR(opt, max_lr, total_steps=50* steps_per_epoch, pct_start=0.3, div_factor=lr_step_factor)\n"
   ]
  },
  {
   "cell_type": "code",
   "execution_count": null,
   "id": "ef04365f",
   "metadata": {},
   "outputs": [],
   "source": [
    "best_model, loss_epoch_arr, train_accuracy_lis, val_accuracy_lis, val_loss_epoch_arr = train_func(resnet, loss_fn, opt, trainloader, valloader, scheduler , epochs=50\n",
    "                                                                            )      "
   ]
  },
  {
   "cell_type": "code",
   "execution_count": null,
   "id": "278e55e5",
   "metadata": {},
   "outputs": [],
   "source": [
    "testloader = DataLoader(test_ds, batch_size=32, shuffle=False)"
   ]
  },
  {
   "cell_type": "code",
   "execution_count": null,
   "id": "6c4802d1",
   "metadata": {},
   "outputs": [],
   "source": [
    "evaluation(testloader,resnet)"
   ]
  },
  {
   "cell_type": "markdown",
   "id": "126b9099",
   "metadata": {},
   "source": [
    "# VGG-16"
   ]
  },
  {
   "cell_type": "code",
   "execution_count": null,
   "id": "6474be7a",
   "metadata": {},
   "outputs": [],
   "source": [
    "vgg16 = models.vgg16_bn(pretrained=True)"
   ]
  },
  {
   "cell_type": "code",
   "execution_count": null,
   "id": "37fc7aa0",
   "metadata": {},
   "outputs": [],
   "source": [
    "for param in vgg16.features.parameters():\n",
    "    param.requires_grad = False"
   ]
  },
  {
   "cell_type": "code",
   "execution_count": null,
   "id": "11d33929",
   "metadata": {},
   "outputs": [],
   "source": [
    "num_features = vgg16.classifier[6].in_features\n",
    "vgg16.classifier[6] = nn.Linear(num_features, 2)"
   ]
  },
  {
   "cell_type": "code",
   "execution_count": null,
   "id": "ccee4758",
   "metadata": {},
   "outputs": [],
   "source": [
    "vgg16 = vgg16.to(device)\n",
    "loss_fn = nn.CrossEntropyLoss()\n",
    "opt = optim.Adam(vgg16.parameters(), lr=0.0001)"
   ]
  },
  {
   "cell_type": "code",
   "execution_count": null,
   "id": "55bd573b",
   "metadata": {},
   "outputs": [],
   "source": [
    "steps_per_epoch = len(trainloader)\n",
    "\n",
    "# Set the maximum learning rate and the factor by which to increase it\n",
    "max_lr = 0.01\n",
    "lr_step_factor = 8\n",
    "\n",
    "# Define the learning rate scheduler with the OneCycleLR policy\n",
    "scheduler = lr_scheduler.OneCycleLR(opt, max_lr, total_steps=50* steps_per_epoch, pct_start=0.3, div_factor=lr_step_factor)"
   ]
  },
  {
   "cell_type": "code",
   "execution_count": null,
   "id": "3c03ec1b",
   "metadata": {},
   "outputs": [],
   "source": [
    "best_model, loss_epoch_arr, train_accuracy_lis, val_accuracy_lis, val_loss_epoch_arr = train_func(vgg16, loss_fn, opt, trainloader, valloader, scheduler , epochs=50\n",
    "                                                                            )      "
   ]
  },
  {
   "cell_type": "code",
   "execution_count": null,
   "id": "3a9be7c2",
   "metadata": {},
   "outputs": [],
   "source": [
    "testloader = DataLoader(test_ds, batch_size=32, shuffle=False)"
   ]
  },
  {
   "cell_type": "code",
   "execution_count": null,
   "id": "98907e2f",
   "metadata": {},
   "outputs": [],
   "source": [
    "evaluation(testloader,vgg16)"
   ]
  },
  {
   "cell_type": "markdown",
   "id": "35aeec3d",
   "metadata": {},
   "source": [
    "# VGG-19"
   ]
  },
  {
   "cell_type": "code",
   "execution_count": null,
   "id": "6841a56b",
   "metadata": {},
   "outputs": [],
   "source": [
    "vgg19 = models.vgg19_bn(pretrained=True)"
   ]
  },
  {
   "cell_type": "code",
   "execution_count": null,
   "id": "f8142e5f",
   "metadata": {},
   "outputs": [],
   "source": [
    "for param in vgg19.features.parameters():\n",
    "    param.requires_grad = False"
   ]
  },
  {
   "cell_type": "code",
   "execution_count": null,
   "id": "5c50484a",
   "metadata": {},
   "outputs": [],
   "source": [
    "num_features = vgg19.classifier[6].in_features\n",
    "vgg19.classifier[6] = nn.Linear(num_features, 2)"
   ]
  },
  {
   "cell_type": "code",
   "execution_count": null,
   "id": "568c221b",
   "metadata": {},
   "outputs": [],
   "source": [
    "vgg19 = vgg19.to(device)\n",
    "loss_fn = nn.CrossEntropyLoss()\n",
    "opt = optim.Adam(vgg19.parameters(), lr=0.0001)"
   ]
  },
  {
   "cell_type": "code",
   "execution_count": null,
   "id": "ae1e2869",
   "metadata": {},
   "outputs": [],
   "source": [
    "steps_per_epoch = len(trainloader)\n",
    "\n",
    "# Set the maximum learning rate and the factor by which to increase it\n",
    "max_lr = 0.01\n",
    "lr_step_factor = 8\n",
    "\n",
    "# Define the learning rate scheduler with the OneCycleLR policy\n",
    "scheduler = lr_scheduler.OneCycleLR(opt, max_lr, total_steps=50* steps_per_epoch, pct_start=0.3, div_factor=lr_step_factor)"
   ]
  },
  {
   "cell_type": "code",
   "execution_count": null,
   "id": "daa04910",
   "metadata": {},
   "outputs": [],
   "source": [
    "best_model, loss_epoch_arr, train_accuracy_lis, val_accuracy_lis, val_loss_epoch_arr = train_func(vgg19, loss_fn, opt, trainloader, valloader, scheduler , epochs=50\n",
    "                                                                            )      "
   ]
  },
  {
   "cell_type": "code",
   "execution_count": null,
   "id": "57566f3b",
   "metadata": {},
   "outputs": [],
   "source": [
    "testloader = DataLoader(test_ds, batch_size=32, shuffle=False)"
   ]
  },
  {
   "cell_type": "code",
   "execution_count": null,
   "id": "ec015e0a",
   "metadata": {},
   "outputs": [],
   "source": [
    "evaluation(testloader,vgg19)"
   ]
  },
  {
   "cell_type": "markdown",
   "id": "6b16dd58",
   "metadata": {},
   "source": [
    "# Densenet121"
   ]
  },
  {
   "cell_type": "code",
   "execution_count": null,
   "id": "196508d0",
   "metadata": {},
   "outputs": [],
   "source": [
    "densenet121 = models.densenet121(pretrained=True)"
   ]
  },
  {
   "cell_type": "code",
   "execution_count": null,
   "id": "a6bdccd7",
   "metadata": {},
   "outputs": [],
   "source": [
    "for param in densenet121.features.parameters():\n",
    "    param.requires_grad = False\n"
   ]
  },
  {
   "cell_type": "code",
   "execution_count": null,
   "id": "d9bbcd28",
   "metadata": {},
   "outputs": [],
   "source": [
    "num_features = densenet121.classifier.in_features\n",
    "densenet121.classifier = nn.Linear(num_features, 2)"
   ]
  },
  {
   "cell_type": "code",
   "execution_count": null,
   "id": "6bb03ad6",
   "metadata": {},
   "outputs": [],
   "source": [
    "densenet121 = densenet121.to(device)\n",
    "loss_fn = nn.CrossEntropyLoss()\n",
    "opt = optim.Adam(densenet121.parameters(), lr=0.0001)"
   ]
  },
  {
   "cell_type": "code",
   "execution_count": null,
   "id": "530cd9c9",
   "metadata": {},
   "outputs": [],
   "source": [
    "steps_per_epoch = len(trainloader)\n",
    "\n",
    "# Set the maximum learning rate and the factor by which to increase it\n",
    "max_lr = 0.01\n",
    "lr_step_factor = 8\n",
    "\n",
    "# Define the learning rate scheduler with the OneCycleLR policy\n",
    "scheduler = lr_scheduler.OneCycleLR(opt, max_lr, total_steps=50* steps_per_epoch, pct_start=0.3, div_factor=lr_step_factor)"
   ]
  },
  {
   "cell_type": "code",
   "execution_count": null,
   "id": "695553a4",
   "metadata": {},
   "outputs": [],
   "source": [
    "best_model, loss_epoch_arr, train_accuracy_lis, val_accuracy_lis, val_loss_epoch_arr = train_func(densenet121, loss_fn, opt, trainloader, valloader, scheduler , epochs=50\n",
    "                                                                            )      "
   ]
  },
  {
   "cell_type": "code",
   "execution_count": null,
   "id": "8f521400",
   "metadata": {},
   "outputs": [],
   "source": [
    "testloader = DataLoader(test_ds, batch_size=32, shuffle=False)"
   ]
  },
  {
   "cell_type": "code",
   "execution_count": null,
   "id": "867bd72c",
   "metadata": {},
   "outputs": [],
   "source": [
    "evaluation(testloader,densenet121)"
   ]
  },
  {
   "cell_type": "markdown",
   "id": "e72f0254",
   "metadata": {},
   "source": [
    "# DenseNet201"
   ]
  },
  {
   "cell_type": "code",
   "execution_count": null,
   "id": "fa85a879",
   "metadata": {},
   "outputs": [],
   "source": [
    "densenet201 = models.densenet201(pretrained=True)"
   ]
  },
  {
   "cell_type": "code",
   "execution_count": null,
   "id": "a2e3e85a",
   "metadata": {},
   "outputs": [],
   "source": [
    "for param in densenet201.features.parameters():\n",
    "    param.requires_grad = False"
   ]
  },
  {
   "cell_type": "code",
   "execution_count": null,
   "id": "77fcee53",
   "metadata": {},
   "outputs": [],
   "source": [
    "num_features = densenet201.classifier.in_features\n",
    "densenet201.classifier = nn.Linear(num_features, 2)"
   ]
  },
  {
   "cell_type": "code",
   "execution_count": null,
   "id": "67399e87",
   "metadata": {},
   "outputs": [],
   "source": [
    "densenet201 = densenet201.to(device)\n",
    "loss_fn = nn.CrossEntropyLoss()\n",
    "opt = optim.Adam(densenet201.parameters(), lr=0.0001)"
   ]
  },
  {
   "cell_type": "code",
   "execution_count": null,
   "id": "aa21960c",
   "metadata": {},
   "outputs": [],
   "source": [
    "steps_per_epoch = len(trainloader)\n",
    "\n",
    "# Set the maximum learning rate and the factor by which to increase it\n",
    "max_lr = 0.01\n",
    "lr_step_factor = 8\n",
    "\n",
    "# Define the learning rate scheduler with the OneCycleLR policy\n",
    "scheduler = lr_scheduler.OneCycleLR(opt, max_lr, total_steps=50* steps_per_epoch, pct_start=0.3, div_factor=lr_step_factor)"
   ]
  },
  {
   "cell_type": "code",
   "execution_count": null,
   "id": "208f6d74",
   "metadata": {},
   "outputs": [],
   "source": [
    "best_model, loss_epoch_arr, train_accuracy_lis, val_accuracy_lis, val_loss_epoch_arr = train_func(densenet201, loss_fn, opt, trainloader, valloader, scheduler , epochs=50\n",
    "                                                                            )      "
   ]
  },
  {
   "cell_type": "code",
   "execution_count": null,
   "id": "2de5621a",
   "metadata": {},
   "outputs": [],
   "source": [
    "testloader = DataLoader(test_ds, batch_size=32, shuffle=False)"
   ]
  },
  {
   "cell_type": "code",
   "execution_count": null,
   "id": "4deb24f1",
   "metadata": {},
   "outputs": [],
   "source": [
    "evaluation(testloader,densenet201)"
   ]
  },
  {
   "cell_type": "markdown",
   "id": "0b8154a3",
   "metadata": {},
   "source": [
    "## Densenet 264"
   ]
  },
  {
   "cell_type": "code",
   "execution_count": null,
   "id": "7254edab",
   "metadata": {},
   "outputs": [],
   "source": []
  },
  {
   "cell_type": "code",
   "execution_count": null,
   "id": "49ad7338",
   "metadata": {},
   "outputs": [],
   "source": []
  }
 ],
 "metadata": {
  "kernelspec": {
   "display_name": "Python 3 (ipykernel)",
   "language": "python",
   "name": "python3"
  },
  "language_info": {
   "codemirror_mode": {
    "name": "ipython",
    "version": 3
   },
   "file_extension": ".py",
   "mimetype": "text/x-python",
   "name": "python",
   "nbconvert_exporter": "python",
   "pygments_lexer": "ipython3",
   "version": "3.9.13"
  }
 },
 "nbformat": 4,
 "nbformat_minor": 5
}
