{
 "cells": [
  {
   "cell_type": "code",
   "execution_count": 13,
   "id": "087e0471",
   "metadata": {},
   "outputs": [
    {
     "name": "stdout",
     "output_type": "stream",
     "text": [
      "Requirement already satisfied: torchsummary in c:\\users\\vikram kumar\\appdata\\local\\programs\\python\\python311\\lib\\site-packages (1.5.1)\n",
      "Requirement already satisfied: torchvision in c:\\users\\vikram kumar\\appdata\\local\\programs\\python\\python311\\lib\\site-packages (0.16.1)\n",
      "Requirement already satisfied: numpy in c:\\users\\vikram kumar\\appdata\\local\\programs\\python\\python311\\lib\\site-packages (from torchvision) (1.25.2)\n",
      "Requirement already satisfied: requests in c:\\users\\vikram kumar\\appdata\\local\\programs\\python\\python311\\lib\\site-packages (from torchvision) (2.31.0)\n",
      "Requirement already satisfied: torch==2.1.1 in c:\\users\\vikram kumar\\appdata\\local\\programs\\python\\python311\\lib\\site-packages (from torchvision) (2.1.1)\n",
      "Requirement already satisfied: pillow!=8.3.*,>=5.3.0 in c:\\users\\vikram kumar\\appdata\\local\\programs\\python\\python311\\lib\\site-packages (from torchvision) (10.0.0)\n",
      "Requirement already satisfied: filelock in c:\\users\\vikram kumar\\appdata\\local\\programs\\python\\python311\\lib\\site-packages (from torch==2.1.1->torchvision) (3.13.1)\n",
      "Requirement already satisfied: typing-extensions in c:\\users\\vikram kumar\\appdata\\local\\programs\\python\\python311\\lib\\site-packages (from torch==2.1.1->torchvision) (4.8.0)\n",
      "Requirement already satisfied: sympy in c:\\users\\vikram kumar\\appdata\\local\\programs\\python\\python311\\lib\\site-packages (from torch==2.1.1->torchvision) (1.12)\n",
      "Requirement already satisfied: networkx in c:\\users\\vikram kumar\\appdata\\local\\programs\\python\\python311\\lib\\site-packages (from torch==2.1.1->torchvision) (3.2.1)\n",
      "Requirement already satisfied: jinja2 in c:\\users\\vikram kumar\\appdata\\local\\programs\\python\\python311\\lib\\site-packages (from torch==2.1.1->torchvision) (3.1.2)\n",
      "Requirement already satisfied: fsspec in c:\\users\\vikram kumar\\appdata\\local\\programs\\python\\python311\\lib\\site-packages (from torch==2.1.1->torchvision) (2023.10.0)\n",
      "Requirement already satisfied: charset-normalizer<4,>=2 in c:\\users\\vikram kumar\\appdata\\local\\programs\\python\\python311\\lib\\site-packages (from requests->torchvision) (3.2.0)\n",
      "Requirement already satisfied: idna<4,>=2.5 in c:\\users\\vikram kumar\\appdata\\local\\programs\\python\\python311\\lib\\site-packages (from requests->torchvision) (3.4)\n",
      "Requirement already satisfied: urllib3<3,>=1.21.1 in c:\\users\\vikram kumar\\appdata\\local\\programs\\python\\python311\\lib\\site-packages (from requests->torchvision) (1.26.16)\n",
      "Requirement already satisfied: certifi>=2017.4.17 in c:\\users\\vikram kumar\\appdata\\local\\programs\\python\\python311\\lib\\site-packages (from requests->torchvision) (2023.7.22)\n",
      "Requirement already satisfied: MarkupSafe>=2.0 in c:\\users\\vikram kumar\\appdata\\local\\programs\\python\\python311\\lib\\site-packages (from jinja2->torch==2.1.1->torchvision) (2.1.3)\n",
      "Requirement already satisfied: mpmath>=0.19 in c:\\users\\vikram kumar\\appdata\\local\\programs\\python\\python311\\lib\\site-packages (from sympy->torch==2.1.1->torchvision) (1.3.0)\n",
      "Collecting seaborn\n",
      "  Downloading seaborn-0.13.0-py3-none-any.whl.metadata (5.3 kB)\n",
      "Requirement already satisfied: numpy!=1.24.0,>=1.20 in c:\\users\\vikram kumar\\appdata\\local\\programs\\python\\python311\\lib\\site-packages (from seaborn) (1.25.2)\n",
      "Requirement already satisfied: pandas>=1.2 in c:\\users\\vikram kumar\\appdata\\local\\programs\\python\\python311\\lib\\site-packages (from seaborn) (2.0.3)\n",
      "Requirement already satisfied: matplotlib!=3.6.1,>=3.3 in c:\\users\\vikram kumar\\appdata\\local\\programs\\python\\python311\\lib\\site-packages (from seaborn) (3.7.2)\n",
      "Requirement already satisfied: contourpy>=1.0.1 in c:\\users\\vikram kumar\\appdata\\local\\programs\\python\\python311\\lib\\site-packages (from matplotlib!=3.6.1,>=3.3->seaborn) (1.1.0)\n",
      "Requirement already satisfied: cycler>=0.10 in c:\\users\\vikram kumar\\appdata\\local\\programs\\python\\python311\\lib\\site-packages (from matplotlib!=3.6.1,>=3.3->seaborn) (0.11.0)\n",
      "Requirement already satisfied: fonttools>=4.22.0 in c:\\users\\vikram kumar\\appdata\\local\\programs\\python\\python311\\lib\\site-packages (from matplotlib!=3.6.1,>=3.3->seaborn) (4.42.1)\n",
      "Requirement already satisfied: kiwisolver>=1.0.1 in c:\\users\\vikram kumar\\appdata\\local\\programs\\python\\python311\\lib\\site-packages (from matplotlib!=3.6.1,>=3.3->seaborn) (1.4.5)\n",
      "Requirement already satisfied: packaging>=20.0 in c:\\users\\vikram kumar\\appdata\\local\\programs\\python\\python311\\lib\\site-packages (from matplotlib!=3.6.1,>=3.3->seaborn) (23.1)\n",
      "Requirement already satisfied: pillow>=6.2.0 in c:\\users\\vikram kumar\\appdata\\local\\programs\\python\\python311\\lib\\site-packages (from matplotlib!=3.6.1,>=3.3->seaborn) (10.0.0)\n",
      "Requirement already satisfied: pyparsing<3.1,>=2.3.1 in c:\\users\\vikram kumar\\appdata\\local\\programs\\python\\python311\\lib\\site-packages (from matplotlib!=3.6.1,>=3.3->seaborn) (3.0.9)\n",
      "Requirement already satisfied: python-dateutil>=2.7 in c:\\users\\vikram kumar\\appdata\\local\\programs\\python\\python311\\lib\\site-packages (from matplotlib!=3.6.1,>=3.3->seaborn) (2.8.2)\n",
      "Requirement already satisfied: pytz>=2020.1 in c:\\users\\vikram kumar\\appdata\\local\\programs\\python\\python311\\lib\\site-packages (from pandas>=1.2->seaborn) (2023.3)\n",
      "Requirement already satisfied: tzdata>=2022.1 in c:\\users\\vikram kumar\\appdata\\local\\programs\\python\\python311\\lib\\site-packages (from pandas>=1.2->seaborn) (2023.3)\n",
      "Requirement already satisfied: six>=1.5 in c:\\users\\vikram kumar\\appdata\\local\\programs\\python\\python311\\lib\\site-packages (from python-dateutil>=2.7->matplotlib!=3.6.1,>=3.3->seaborn) (1.16.0)\n",
      "Downloading seaborn-0.13.0-py3-none-any.whl (294 kB)\n",
      "   ---------------------------------------- 0.0/294.6 kB ? eta -:--:--\n",
      "   - -------------------------------------- 10.2/294.6 kB ? eta -:--:--\n",
      "   - -------------------------------------- 10.2/294.6 kB ? eta -:--:--\n",
      "   - -------------------------------------- 10.2/294.6 kB ? eta -:--:--\n",
      "   ---- ---------------------------------- 30.7/294.6 kB 187.9 kB/s eta 0:00:02\n",
      "   ---- ---------------------------------- 30.7/294.6 kB 187.9 kB/s eta 0:00:02\n",
      "   ---- ---------------------------------- 30.7/294.6 kB 187.9 kB/s eta 0:00:02\n",
      "   ----- --------------------------------- 41.0/294.6 kB 122.9 kB/s eta 0:00:03\n",
      "   ----- --------------------------------- 41.0/294.6 kB 122.9 kB/s eta 0:00:03\n",
      "   -------- ------------------------------ 61.4/294.6 kB 156.1 kB/s eta 0:00:02\n",
      "   -------- ------------------------------ 61.4/294.6 kB 156.1 kB/s eta 0:00:02\n",
      "   --------- ----------------------------- 71.7/294.6 kB 145.6 kB/s eta 0:00:02\n",
      "   --------- ----------------------------- 71.7/294.6 kB 145.6 kB/s eta 0:00:02\n",
      "   ---------- ---------------------------- 81.9/294.6 kB 138.9 kB/s eta 0:00:02\n",
      "   ------------ -------------------------- 92.2/294.6 kB 154.3 kB/s eta 0:00:02\n",
      "   -------------- ----------------------- 112.6/294.6 kB 172.4 kB/s eta 0:00:02\n",
      "   -------------- ----------------------- 112.6/294.6 kB 172.4 kB/s eta 0:00:02\n",
      "   --------------- ---------------------- 122.9/294.6 kB 171.7 kB/s eta 0:00:01\n",
      "   --------------- ---------------------- 122.9/294.6 kB 171.7 kB/s eta 0:00:01\n",
      "   ------------------ ------------------- 143.4/294.6 kB 173.8 kB/s eta 0:00:01\n",
      "   ------------------- ------------------ 153.6/294.6 kB 176.3 kB/s eta 0:00:01\n",
      "   ------------------- ------------------ 153.6/294.6 kB 176.3 kB/s eta 0:00:01\n",
      "   ------------------- ------------------ 153.6/294.6 kB 176.3 kB/s eta 0:00:01\n",
      "   ------------------- ------------------ 153.6/294.6 kB 176.3 kB/s eta 0:00:01\n",
      "   ------------------- ------------------ 153.6/294.6 kB 176.3 kB/s eta 0:00:01\n",
      "   ---------------------- --------------- 174.1/294.6 kB 158.9 kB/s eta 0:00:01\n",
      "   ---------------------- --------------- 174.1/294.6 kB 158.9 kB/s eta 0:00:01\n",
      "   ------------------------- ------------ 194.6/294.6 kB 166.2 kB/s eta 0:00:01\n",
      "   ------------------------- ------------ 194.6/294.6 kB 166.2 kB/s eta 0:00:01\n",
      "   -------------------------- ----------- 204.8/294.6 kB 163.8 kB/s eta 0:00:01\n",
      "   -------------------------- ----------- 204.8/294.6 kB 163.8 kB/s eta 0:00:01\n",
      "   ----------------------------- -------- 225.3/294.6 kB 167.9 kB/s eta 0:00:01\n",
      "   ----------------------------- -------- 225.3/294.6 kB 167.9 kB/s eta 0:00:01\n",
      "   ----------------------------- -------- 225.3/294.6 kB 167.9 kB/s eta 0:00:01\n",
      "   ----------------------------- -------- 225.3/294.6 kB 167.9 kB/s eta 0:00:01\n",
      "   ----------------------------- -------- 225.3/294.6 kB 167.9 kB/s eta 0:00:01\n",
      "   ------------------------------ ------- 235.5/294.6 kB 150.2 kB/s eta 0:00:01\n",
      "   --------------------------------- ---- 256.0/294.6 kB 158.9 kB/s eta 0:00:01\n",
      "   --------------------------------- ---- 256.0/294.6 kB 158.9 kB/s eta 0:00:01\n",
      "   ----------------------------------- -- 276.5/294.6 kB 165.5 kB/s eta 0:00:01\n",
      "   ----------------------------------- -- 276.5/294.6 kB 165.5 kB/s eta 0:00:01\n",
      "   ------------------------------------ - 286.7/294.6 kB 163.8 kB/s eta 0:00:01\n",
      "   -------------------------------------- 294.6/294.6 kB 161.0 kB/s eta 0:00:00\n",
      "Installing collected packages: seaborn\n",
      "Successfully installed seaborn-0.13.0\n"
     ]
    }
   ],
   "source": [
    "!pip install torchsummary\n",
    "!pip install torchvision\n",
    "!pip install seaborn\n",
    "import torch\n",
    "import torch.nn as nn\n",
    "import torch.optim as optim\n",
    "import torch.optim as optim \n",
    "from torch.optim import lr_scheduler\n",
    "from torchsummary import summary\n",
    "import numpy as np\n",
    "import torchvision\n",
    "import torchvision\n",
    "from torchvision import datasets, models, transforms\n",
    "from torchvision.datasets import ImageFolder\n",
    "from tqdm import notebook\n",
    "from torch.utils.data import DataLoader, random_split\n",
    "from torchvision.utils import make_grid\n",
    "import matplotlib.pyplot as plt\n",
    "import time\n",
    "import os\n",
    "import copy\n",
    "import pandas as pd\n",
    "import matplotlib.pyplot as plt\n",
    "import seaborn as sns\n",
    "from sklearn.metrics import confusion_matrix, classification_report, precision_recall_curve"
   ]
  },
  {
   "cell_type": "code",
   "execution_count": null,
   "id": "20e287a2",
   "metadata": {},
   "outputs": [],
   "source": [
    "data_dir=\"\";\n",
    "print(os.listdir(data_dir))\n"
   ]
  },
  {
   "cell_type": "code",
   "execution_count": 17,
   "id": "0aa08b84",
   "metadata": {},
   "outputs": [
    {
     "name": "stdout",
     "output_type": "stream",
     "text": [
      "cpu\n"
     ]
    }
   ],
   "source": [
    "device=torch.device(\"cuda:0\" if torch.cuda .is_available() else \"cpu\")\n",
    "print(device)"
   ]
  },
  {
   "cell_type": "code",
   "execution_count": null,
   "id": "60b8b334",
   "metadata": {},
   "outputs": [],
   "source": [
    "transform=transforms.Compose([\n",
    "    transforms.ToTensor(),\n",
    "    transforms.Resize(size=(224,224)),\n",
    "    transform\n",
    "])"
   ]
  }
 ],
 "metadata": {
  "kernelspec": {
   "display_name": "Python 3 (ipykernel)",
   "language": "python",
   "name": "python3"
  },
  "language_info": {
   "codemirror_mode": {
    "name": "ipython",
    "version": 3
   },
   "file_extension": ".py",
   "mimetype": "text/x-python",
   "name": "python",
   "nbconvert_exporter": "python",
   "pygments_lexer": "ipython3",
   "version": "3.11.4"
  }
 },
 "nbformat": 4,
 "nbformat_minor": 5
}
